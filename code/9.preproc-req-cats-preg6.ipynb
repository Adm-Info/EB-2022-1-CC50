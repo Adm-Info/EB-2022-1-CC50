{
 "cells": [
  {
   "cell_type": "code",

   "execution_count": 112,

   "metadata": {},
   "outputs": [],
   "source": [
    "%store -r data_cat"
   ]
  },
  {
   "cell_type": "code",

   "execution_count": 113,
   "metadata": {},
   "outputs": [],
   "source": [
    "import pandas as pd\n",
    "import numpy as np\n",
    "import matplotlib.pyplot as plt"
   ]
  },
  {
   "cell_type": "markdown",
   "metadata": {},
   "source": [
    "### Por Canales de YouTube"
   ]
  },
  {
   "cell_type": "markdown",
   "metadata": {},
   "source": [
    "#### 6. ¿Qué Canales de YouTube son tendencia más frecuentemente? ¿Y cuáles con menos frecuencia?"
   ]
  },
  {
   "cell_type": "code",

   "execution_count": 114,
   "metadata": {},
   "outputs": [
    {
     "data": {
      "text/html": [
       "<div>\n",
       "<style scoped>\n",
       "    .dataframe tbody tr th:only-of-type {\n",
       "        vertical-align: middle;\n",
       "    }\n",
       "\n",
       "    .dataframe tbody tr th {\n",
       "        vertical-align: top;\n",
       "    }\n",
       "\n",
       "    .dataframe thead th {\n",
       "        text-align: right;\n",
       "    }\n",
       "</style>\n",
       "<table border=\"1\" class=\"dataframe\">\n",
       "  <thead>\n",
       "    <tr style=\"text-align: right;\">\n",
       "      <th></th>\n",
       "      <th>video_id</th>\n",
       "      <th>title</th>\n",
       "      <th>channel_title</th>\n",
       "      <th>category_id</th>\n",
       "      <th>state</th>\n",
       "      <th>lat</th>\n",
       "      <th>lon</th>\n",
       "      <th>geometry</th>\n",
       "      <th>comments_disabled</th>\n",
       "      <th>ratings_disabled</th>\n",
       "      <th>...</th>\n",
       "      <th>views</th>\n",
       "      <th>likes</th>\n",
       "      <th>dislikes</th>\n",
       "      <th>comment_count</th>\n",
       "      <th>trending_count</th>\n",
       "      <th>kind</th>\n",
       "      <th>etag</th>\n",
       "      <th>snippet.channelId</th>\n",
       "      <th>snippet.title</th>\n",
       "      <th>snippet.assignable</th>\n",
       "    </tr>\n",
       "  </thead>\n",
       "  <tbody>\n",
       "    <tr>\n",
       "      <th>13482</th>\n",
       "      <td>nDDfFws3BfA</td>\n",
       "      <td>10,000 YEARS INTO THE FUTURE IN 10 MINUTES</td>\n",
       "      <td>#Mind Warehouse</td>\n",
       "      <td>27</td>\n",
       "      <td>Madhya Pradesh</td>\n",
       "      <td>21.300391</td>\n",
       "      <td>76.130019</td>\n",
       "      <td>POINT (76.13001949 21.30039105)</td>\n",
       "      <td>False</td>\n",
       "      <td>False</td>\n",
       "      <td>...</td>\n",
       "      <td>1649569</td>\n",
       "      <td>20713</td>\n",
       "      <td>2375</td>\n",
       "      <td>6354</td>\n",
       "      <td>2</td>\n",
       "      <td>youtube#videoCategory</td>\n",
       "      <td>\"XI7nbFXulYBIpL0ayR_gDh3eu1k/EoYkczo9I3RCf96Rv...</td>\n",
       "      <td>UCBR8-60-B28hp2BmDPdntcQ</td>\n",
       "      <td>Education</td>\n",
       "      <td>True</td>\n",
       "    </tr>\n",
       "    <tr>\n",
       "      <th>9676</th>\n",
       "      <td>ZktaGjw0kcU</td>\n",
       "      <td>PADAM URUVANA VIDHAM | #1 | 1 Kg Biriyani</td>\n",
       "      <td>1 Kg Biriyani</td>\n",
       "      <td>23</td>\n",
       "      <td>Karnataka</td>\n",
       "      <td>12.570381</td>\n",
       "      <td>76.919997</td>\n",
       "      <td>POINT (76.91999711 12.57038129)</td>\n",
       "      <td>False</td>\n",
       "      <td>False</td>\n",
       "      <td>...</td>\n",
       "      <td>71703</td>\n",
       "      <td>3075</td>\n",
       "      <td>632</td>\n",
       "      <td>381</td>\n",
       "      <td>2</td>\n",
       "      <td>youtube#videoCategory</td>\n",
       "      <td>\"XI7nbFXulYBIpL0ayR_gDh3eu1k/G9LHzQmx44rX2S5ya...</td>\n",
       "      <td>UCBR8-60-B28hp2BmDPdntcQ</td>\n",
       "      <td>Comedy</td>\n",
       "      <td>True</td>\n",
       "    </tr>\n",
       "    <tr>\n",
       "      <th>2278</th>\n",
       "      <td>7V6Z1uh3sqg</td>\n",
       "      <td>The startup | 1 Kg Biriyani | TVF Machi</td>\n",
       "      <td>1 Kg Biriyani</td>\n",
       "      <td>23</td>\n",
       "      <td>Karnataka</td>\n",
       "      <td>12.570381</td>\n",
       "      <td>76.919997</td>\n",
       "      <td>POINT (76.91999711 12.57038129)</td>\n",
       "      <td>False</td>\n",
       "      <td>False</td>\n",
       "      <td>...</td>\n",
       "      <td>65537</td>\n",
       "      <td>3518</td>\n",
       "      <td>236</td>\n",
       "      <td>200</td>\n",
       "      <td>2</td>\n",
       "      <td>youtube#videoCategory</td>\n",
       "      <td>\"XI7nbFXulYBIpL0ayR_gDh3eu1k/G9LHzQmx44rX2S5ya...</td>\n",
       "      <td>UCBR8-60-B28hp2BmDPdntcQ</td>\n",
       "      <td>Comedy</td>\n",
       "      <td>True</td>\n",
       "    </tr>\n",
       "    <tr>\n",
       "      <th>7769</th>\n",
       "      <td>SS_M2QGSJCA</td>\n",
       "      <td>Normal Day vs Periods | Part 2 | With English ...</td>\n",
       "      <td>1 Kg Biriyani</td>\n",
       "      <td>23</td>\n",
       "      <td>Jharkhand</td>\n",
       "      <td>23.800393</td>\n",
       "      <td>86.419986</td>\n",
       "      <td>POINT (86.41998572 23.80039349)</td>\n",
       "      <td>False</td>\n",
       "      <td>False</td>\n",
       "      <td>...</td>\n",
       "      <td>269570</td>\n",
       "      <td>9758</td>\n",
       "      <td>582</td>\n",
       "      <td>505</td>\n",
       "      <td>4</td>\n",
       "      <td>youtube#videoCategory</td>\n",
       "      <td>\"XI7nbFXulYBIpL0ayR_gDh3eu1k/G9LHzQmx44rX2S5ya...</td>\n",
       "      <td>UCBR8-60-B28hp2BmDPdntcQ</td>\n",
       "      <td>Comedy</td>\n",
       "      <td>True</td>\n",
       "    </tr>\n",
       "    <tr>\n",
       "      <th>6463</th>\n",
       "      <td>NTKBYlFO8Zo</td>\n",
       "      <td>Sunny vs Mia 😍 | 18+ | 1 Kg Biriyani</td>\n",
       "      <td>1 Kg Biriyani</td>\n",
       "      <td>23</td>\n",
       "      <td>Madhya Pradesh</td>\n",
       "      <td>21.300391</td>\n",
       "      <td>76.130019</td>\n",
       "      <td>POINT (76.13001949 21.30039105)</td>\n",
       "      <td>False</td>\n",
       "      <td>False</td>\n",
       "      <td>...</td>\n",
       "      <td>277791</td>\n",
       "      <td>21542</td>\n",
       "      <td>1022</td>\n",
       "      <td>1974</td>\n",
       "      <td>2</td>\n",
       "      <td>youtube#videoCategory</td>\n",
       "      <td>\"XI7nbFXulYBIpL0ayR_gDh3eu1k/G9LHzQmx44rX2S5ya...</td>\n",
       "      <td>UCBR8-60-B28hp2BmDPdntcQ</td>\n",
       "      <td>Comedy</td>\n",
       "      <td>True</td>\n",
       "    </tr>\n",
       "  </tbody>\n",
       "</table>\n",
       "<p>5 rows × 23 columns</p>\n",
       "</div>"
      ],
      "text/plain": [
       "          video_id                                              title  \\\n",
       "13482  nDDfFws3BfA         10,000 YEARS INTO THE FUTURE IN 10 MINUTES   \n",
       "9676   ZktaGjw0kcU          PADAM URUVANA VIDHAM | #1 | 1 Kg Biriyani   \n",
       "2278   7V6Z1uh3sqg            The startup | 1 Kg Biriyani | TVF Machi   \n",
       "7769   SS_M2QGSJCA  Normal Day vs Periods | Part 2 | With English ...   \n",
       "6463   NTKBYlFO8Zo               Sunny vs Mia 😍 | 18+ | 1 Kg Biriyani   \n",
       "\n",
       "         channel_title  category_id           state        lat        lon  \\\n",
       "13482  #Mind Warehouse           27  Madhya Pradesh  21.300391  76.130019   \n",
       "9676     1 Kg Biriyani           23       Karnataka  12.570381  76.919997   \n",
       "2278     1 Kg Biriyani           23       Karnataka  12.570381  76.919997   \n",
       "7769     1 Kg Biriyani           23       Jharkhand  23.800393  86.419986   \n",
       "6463     1 Kg Biriyani           23  Madhya Pradesh  21.300391  76.130019   \n",
       "\n",
       "                              geometry  comments_disabled  ratings_disabled  \\\n",
       "13482  POINT (76.13001949 21.30039105)              False             False   \n",
       "9676   POINT (76.91999711 12.57038129)              False             False   \n",
       "2278   POINT (76.91999711 12.57038129)              False             False   \n",
       "7769   POINT (86.41998572 23.80039349)              False             False   \n",
       "6463   POINT (76.13001949 21.30039105)              False             False   \n",
       "\n",
       "       ...    views  likes dislikes  comment_count  trending_count  \\\n",
       "13482  ...  1649569  20713     2375           6354               2   \n",
       "9676   ...    71703   3075      632            381               2   \n",
       "2278   ...    65537   3518      236            200               2   \n",
       "7769   ...   269570   9758      582            505               4   \n",
       "6463   ...   277791  21542     1022           1974               2   \n",
       "\n",
       "                        kind  \\\n",
       "13482  youtube#videoCategory   \n",
       "9676   youtube#videoCategory   \n",
       "2278   youtube#videoCategory   \n",
       "7769   youtube#videoCategory   \n",
       "6463   youtube#videoCategory   \n",
       "\n",
       "                                                    etag  \\\n",
       "13482  \"XI7nbFXulYBIpL0ayR_gDh3eu1k/EoYkczo9I3RCf96Rv...   \n",
       "9676   \"XI7nbFXulYBIpL0ayR_gDh3eu1k/G9LHzQmx44rX2S5ya...   \n",
       "2278   \"XI7nbFXulYBIpL0ayR_gDh3eu1k/G9LHzQmx44rX2S5ya...   \n",
       "7769   \"XI7nbFXulYBIpL0ayR_gDh3eu1k/G9LHzQmx44rX2S5ya...   \n",
       "6463   \"XI7nbFXulYBIpL0ayR_gDh3eu1k/G9LHzQmx44rX2S5ya...   \n",
       "\n",
       "              snippet.channelId snippet.title snippet.assignable  \n",
       "13482  UCBR8-60-B28hp2BmDPdntcQ     Education               True  \n",
       "9676   UCBR8-60-B28hp2BmDPdntcQ        Comedy               True  \n",
       "2278   UCBR8-60-B28hp2BmDPdntcQ        Comedy               True  \n",
       "7769   UCBR8-60-B28hp2BmDPdntcQ        Comedy               True  \n",
       "6463   UCBR8-60-B28hp2BmDPdntcQ        Comedy               True  \n",
       "\n",
       "[5 rows x 23 columns]"
      ]
     },

     "execution_count": 114,

     "metadata": {},
     "output_type": "execute_result"
    }
   ],
   "source": [
    "data_cat.sort_values(by=\"channel_title\").head()"
   ]
  },
  {
   "cell_type": "code",

   "execution_count": 124,

   "metadata": {},
   "outputs": [],
   "source": [
    "canales = data_cat[[\"channel_title\", \"trending_count\"]]"
   ]
  },
  {
   "cell_type": "code",

   "execution_count": 125,

   "metadata": {},
   "outputs": [
    {
     "data": {
      "text/html": [
       "<div>\n",
       "<style scoped>\n",
       "    .dataframe tbody tr th:only-of-type {\n",
       "        vertical-align: middle;\n",
       "    }\n",
       "\n",
       "    .dataframe tbody tr th {\n",
       "        vertical-align: top;\n",
       "    }\n",
       "\n",
       "    .dataframe thead th {\n",
       "        text-align: right;\n",
       "    }\n",
       "</style>\n",
       "<table border=\"1\" class=\"dataframe\">\n",
       "  <thead>\n",
       "    <tr style=\"text-align: right;\">\n",
       "      <th></th>\n",
       "      <th>channel_title</th>\n",
       "      <th>trending_count</th>\n",
       "    </tr>\n",
       "  </thead>\n",
       "  <tbody>\n",
       "    <tr>\n",
       "      <th>0</th>\n",
       "      <td>Star Maa</td>\n",
       "      <td>2</td>\n",
       "    </tr>\n",
       "    <tr>\n",
       "      <th>1</th>\n",
       "      <td>Mahaa News</td>\n",
       "      <td>2</td>\n",
       "    </tr>\n",
       "    <tr>\n",
       "      <th>2</th>\n",
       "      <td>Nettv4u</td>\n",
       "      <td>3</td>\n",
       "    </tr>\n",
       "    <tr>\n",
       "      <th>3</th>\n",
       "      <td>Vijay Television</td>\n",
       "      <td>2</td>\n",
       "    </tr>\n",
       "    <tr>\n",
       "      <th>4</th>\n",
       "      <td>only ias</td>\n",
       "      <td>1</td>\n",
       "    </tr>\n",
       "    <tr>\n",
       "      <th>...</th>\n",
       "      <td>...</td>\n",
       "      <td>...</td>\n",
       "    </tr>\n",
       "    <tr>\n",
       "      <th>16804</th>\n",
       "      <td>Om Namoh Narayan</td>\n",
       "      <td>1</td>\n",
       "    </tr>\n",
       "    <tr>\n",
       "      <th>16805</th>\n",
       "      <td>Gemini TV</td>\n",
       "      <td>2</td>\n",
       "    </tr>\n",
       "    <tr>\n",
       "      <th>16806</th>\n",
       "      <td>Namma KFI</td>\n",
       "      <td>3</td>\n",
       "    </tr>\n",
       "    <tr>\n",
       "      <th>16807</th>\n",
       "      <td>Warangal Diaries</td>\n",
       "      <td>2</td>\n",
       "    </tr>\n",
       "    <tr>\n",
       "      <th>16808</th>\n",
       "      <td>ONE Media</td>\n",
       "      <td>1</td>\n",
       "    </tr>\n",
       "  </tbody>\n",
       "</table>\n",
       "<p>16809 rows × 2 columns</p>\n",
       "</div>"
      ],
      "text/plain": [
       "          channel_title  trending_count\n",
       "0              Star Maa               2\n",
       "1            Mahaa News               2\n",
       "2               Nettv4u               3\n",
       "3      Vijay Television               2\n",
       "4              only ias               1\n",
       "...                 ...             ...\n",
       "16804  Om Namoh Narayan               1\n",
       "16805         Gemini TV               2\n",
       "16806         Namma KFI               3\n",
       "16807  Warangal Diaries               2\n",
       "16808         ONE Media               1\n",
       "\n",
       "[16809 rows x 2 columns]"
      ]
     },

     "execution_count": 125,

     "metadata": {},
     "output_type": "execute_result"
    }
   ],
   "source": [
    "canales"
   ]
  },
  {
   "cell_type": "code",

   "execution_count": 126,
   "metadata": {},
   "outputs": [],
   "source": [
    "canales = canales.groupby([\"channel_title\"])[\"trending_count\"].sum().reset_index()"

   ]
  },
  {
   "cell_type": "code",
   "execution_count": 92,
   "metadata": {},
   "outputs": [
    {
     "data": {
      "text/html": [
       "<div>\n",
       "<style scoped>\n",
       "    .dataframe tbody tr th:only-of-type {\n",
       "        vertical-align: middle;\n",
       "    }\n",
       "\n",
       "    .dataframe tbody tr th {\n",
       "        vertical-align: top;\n",
       "    }\n",
       "\n",
       "    .dataframe thead th {\n",
       "        text-align: right;\n",
       "    }\n",
       "</style>\n",
       "<table border=\"1\" class=\"dataframe\">\n",
       "  <thead>\n",
       "    <tr style=\"text-align: right;\">\n",
       "      <th></th>\n",
       "      <th>channel_title</th>\n",
       "      <th>trending_count</th>\n",
       "    </tr>\n",
       "  </thead>\n",
       "  <tbody>\n",
       "    <tr>\n",
       "      <th>0</th>\n",
       "      <td>#Mind Warehouse</td>\n",
       "      <td>2</td>\n",
       "    </tr>\n",
       "    <tr>\n",
       "      <th>1</th>\n",
       "      <td>1 Kg Biriyani</td>\n",
       "      <td>41</td>\n",
       "    </tr>\n",
       "    <tr>\n",
       "      <th>2</th>\n",
       "      <td>1 Minutes news</td>\n",
       "      <td>12</td>\n",
       "    </tr>\n",
       "    <tr>\n",
       "      <th>3</th>\n",
       "      <td>10 DEGREE INDIAN FACTS</td>\n",
       "      <td>35</td>\n",
       "    </tr>\n",
       "    <tr>\n",
       "      <th>4</th>\n",
       "      <td>10TVNewsChannel</td>\n",
       "      <td>23</td>\n",
       "    </tr>\n",
       "    <tr>\n",
       "      <th>...</th>\n",
       "      <td>...</td>\n",
       "      <td>...</td>\n",
       "    </tr>\n",
       "    <tr>\n",
       "      <th>1421</th>\n",
       "      <td>भक्ति</td>\n",
       "      <td>46</td>\n",
       "    </tr>\n",
       "    <tr>\n",
       "      <th>1422</th>\n",
       "      <td>वास्तु उपाय</td>\n",
       "      <td>7</td>\n",
       "    </tr>\n",
       "    <tr>\n",
       "      <th>1423</th>\n",
       "      <td>জীবন-সমস্যার সমাধান</td>\n",
       "      <td>1</td>\n",
       "    </tr>\n",
       "    <tr>\n",
       "      <th>1424</th>\n",
       "      <td>ഖല്‍ബാണ് ലീഗ്</td>\n",
       "      <td>2</td>\n",
       "    </tr>\n",
       "    <tr>\n",
       "      <th>1425</th>\n",
       "      <td>വിശ്വാസം അതല്ലേ എല്ലാം</td>\n",
       "      <td>15</td>\n",
       "    </tr>\n",
       "  </tbody>\n",
       "</table>\n",
       "<p>1426 rows × 2 columns</p>\n",
       "</div>"
      ],
      "text/plain": [
       "               channel_title  trending_count\n",
       "0            #Mind Warehouse               2\n",
       "1              1 Kg Biriyani              41\n",
       "2             1 Minutes news              12\n",
       "3     10 DEGREE INDIAN FACTS              35\n",
       "4            10TVNewsChannel              23\n",
       "...                      ...             ...\n",
       "1421                   भक्ति              46\n",
       "1422             वास्तु उपाय               7\n",
       "1423     জীবন-সমস্যার সমাধান               1\n",
       "1424           ഖല്‍ബാണ് ലീഗ്               2\n",
       "1425  വിശ്വാസം അതല്ലേ എല്ലാം              15\n",
       "\n",
       "[1426 rows x 2 columns]"
      ]
     },
     "execution_count": 92,
     "metadata": {},
     "output_type": "execute_result"
    }
   ],
   "source": [
    "canales"
   ]
  },
  {
   "cell_type": "code",
   "execution_count": 127,
   "metadata": {},
   "outputs": [],
   "source": [
    "canales_top = canales.sort_values(by=\"trending_count\", ascending=False)"
   ]
  },
  {
   "cell_type": "code",

   "execution_count": 94,
   "metadata": {},
   "outputs": [
    {
     "data": {
      "text/html": [
       "<div>\n",
       "<style scoped>\n",
       "    .dataframe tbody tr th:only-of-type {\n",
       "        vertical-align: middle;\n",
       "    }\n",
       "\n",
       "    .dataframe tbody tr th {\n",
       "        vertical-align: top;\n",
       "    }\n",
       "\n",
       "    .dataframe thead th {\n",
       "        text-align: right;\n",
       "    }\n",
       "</style>\n",
       "<table border=\"1\" class=\"dataframe\">\n",
       "  <thead>\n",
       "    <tr style=\"text-align: right;\">\n",
       "      <th></th>\n",
       "      <th>channel_title</th>\n",
       "      <th>trending_count</th>\n",
       "    </tr>\n",
       "  </thead>\n",
       "  <tbody>\n",
       "    <tr>\n",
       "      <th>1275</th>\n",
       "      <td>VikatanTV</td>\n",
       "      <td>208</td>\n",
       "    </tr>\n",
       "    <tr>\n",
       "      <th>915</th>\n",
       "      <td>SAB TV</td>\n",
       "      <td>207</td>\n",
       "    </tr>\n",
       "    <tr>\n",
       "      <th>298</th>\n",
       "      <td>ETV Plus India</td>\n",
       "      <td>206</td>\n",
       "    </tr>\n",
       "    <tr>\n",
       "      <th>1378</th>\n",
       "      <td>etvteluguindia</td>\n",
       "      <td>205</td>\n",
       "    </tr>\n",
       "    <tr>\n",
       "      <th>1036</th>\n",
       "      <td>Study IQ education</td>\n",
       "      <td>203</td>\n",
       "    </tr>\n",
       "    <tr>\n",
       "      <th>...</th>\n",
       "      <td>...</td>\n",
       "      <td>...</td>\n",
       "    </tr>\n",
       "    <tr>\n",
       "      <th>1055</th>\n",
       "      <td>T-Series Marathi</td>\n",
       "      <td>1</td>\n",
       "    </tr>\n",
       "    <tr>\n",
       "      <th>506</th>\n",
       "      <td>Kannada</td>\n",
       "      <td>1</td>\n",
       "    </tr>\n",
       "    <tr>\n",
       "      <th>161</th>\n",
       "      <td>Bollywood Sins</td>\n",
       "      <td>1</td>\n",
       "    </tr>\n",
       "    <tr>\n",
       "      <th>512</th>\n",
       "      <td>Kannada Suddi</td>\n",
       "      <td>1</td>\n",
       "    </tr>\n",
       "    <tr>\n",
       "      <th>814</th>\n",
       "      <td>Polimer TV</td>\n",
       "      <td>1</td>\n",
       "    </tr>\n",
       "  </tbody>\n",
       "</table>\n",
       "<p>1426 rows × 2 columns</p>\n",
       "</div>"
      ],
      "text/plain": [
       "           channel_title  trending_count\n",
       "1275           VikatanTV             208\n",
       "915               SAB TV             207\n",
       "298       ETV Plus India             206\n",
       "1378      etvteluguindia             205\n",
       "1036  Study IQ education             203\n",
       "...                  ...             ...\n",
       "1055    T-Series Marathi               1\n",
       "506              Kannada               1\n",
       "161       Bollywood Sins               1\n",
       "512        Kannada Suddi               1\n",
       "814           Polimer TV               1\n",
       "\n",
       "[1426 rows x 2 columns]"
      ]
     },

     "execution_count": 128,

     "metadata": {},
     "output_type": "execute_result"
    }
   ],
   "source": [
    "canales_top"
   ]
  },
  {
   "cell_type": "markdown",
   "metadata": {},
   "source": [
    "Como se puede observar los 5 canales que estan en tendencia con mayor frecuencia son: \"VikatanTV\", \"SAB TV\", \"ETV Plus India\", \"etvteluguindia\" y \"Study IQ education\""
   ]
  },
  {
   "cell_type": "code",

   "execution_count": 129,

   "metadata": {},
   "outputs": [],
   "source": [
    "canales_bot = canales.sort_values(by=\"trending_count\")"
   ]
  },
  {
   "cell_type": "code",

   "execution_count": 130,
   "metadata": {},
   "outputs": [
    {
     "data": {
      "text/html": [
       "<div>\n",
       "<style scoped>\n",
       "    .dataframe tbody tr th:only-of-type {\n",
       "        vertical-align: middle;\n",
       "    }\n",
       "\n",
       "    .dataframe tbody tr th {\n",
       "        vertical-align: top;\n",
       "    }\n",
       "\n",
       "    .dataframe thead th {\n",
       "        text-align: right;\n",
       "    }\n",
       "</style>\n",
       "<table border=\"1\" class=\"dataframe\">\n",
       "  <thead>\n",
       "    <tr style=\"text-align: right;\">\n",
       "      <th></th>\n",
       "      <th>channel_title</th>\n",
       "      <th>trending_count</th>\n",
       "    </tr>\n",
       "  </thead>\n",
       "  <tbody>\n",
       "    <tr>\n",
       "      <th>480</th>\n",
       "      <td>JackieMT 2nd</td>\n",
       "      <td>1</td>\n",
       "    </tr>\n",
       "    <tr>\n",
       "      <th>795</th>\n",
       "      <td>Pakkatv</td>\n",
       "      <td>1</td>\n",
       "    </tr>\n",
       "    <tr>\n",
       "      <th>1155</th>\n",
       "      <td>TeluguZ TV</td>\n",
       "      <td>1</td>\n",
       "    </tr>\n",
       "    <tr>\n",
       "      <th>308</th>\n",
       "      <td>Empty minds</td>\n",
       "      <td>1</td>\n",
       "    </tr>\n",
       "    <tr>\n",
       "      <th>1149</th>\n",
       "      <td>Telugu Trending</td>\n",
       "      <td>1</td>\n",
       "    </tr>\n",
       "    <tr>\n",
       "      <th>...</th>\n",
       "      <td>...</td>\n",
       "      <td>...</td>\n",
       "    </tr>\n",
       "    <tr>\n",
       "      <th>1036</th>\n",
       "      <td>Study IQ education</td>\n",
       "      <td>203</td>\n",
       "    </tr>\n",
       "    <tr>\n",
       "      <th>1378</th>\n",
       "      <td>etvteluguindia</td>\n",
       "      <td>205</td>\n",
       "    </tr>\n",
       "    <tr>\n",
       "      <th>298</th>\n",
       "      <td>ETV Plus India</td>\n",
       "      <td>206</td>\n",
       "    </tr>\n",
       "    <tr>\n",
       "      <th>915</th>\n",
       "      <td>SAB TV</td>\n",
       "      <td>207</td>\n",
       "    </tr>\n",
       "    <tr>\n",
       "      <th>1275</th>\n",
       "      <td>VikatanTV</td>\n",
       "      <td>208</td>\n",
       "    </tr>\n",
       "  </tbody>\n",
       "</table>\n",
       "<p>1426 rows × 2 columns</p>\n",
       "</div>"
      ],
      "text/plain": [
       "           channel_title  trending_count\n",
       "480         JackieMT 2nd               1\n",
       "795              Pakkatv               1\n",
       "1155          TeluguZ TV               1\n",
       "308          Empty minds               1\n",
       "1149     Telugu Trending               1\n",
       "...                  ...             ...\n",
       "1036  Study IQ education             203\n",
       "1378      etvteluguindia             205\n",
       "298       ETV Plus India             206\n",
       "915               SAB TV             207\n",
       "1275           VikatanTV             208\n",
       "\n",
       "[1426 rows x 2 columns]"
      ]
     },

     "execution_count": 130,

     "metadata": {},
     "output_type": "execute_result"
    }
   ],
   "source": [
    "canales_bot"
   ]
  },
  {
   "cell_type": "markdown",
   "metadata": {},
   "source": [
    "Y los 5 canales que han estado en tendencia una sola vez son: \"JackieMT 2nd\",\"Pakkatv\",\"TeluguZ TV\",\"Empty minds\"y\"Telugu Trending\""
   ]
  },
  {
   "cell_type": "code",

   "execution_count": 131,

   "metadata": {},
   "outputs": [
    {
     "data": {

      "image/png": "[encoded data removed]",

      "text/plain": [
       "<Figure size 432x288 with 1 Axes>"
      ]
     },
     "metadata": {
      "needs_background": "light"
     },
     "output_type": "display_data"
    }
   ],
   "source": [
    "plt.barh(canales_top[\"channel_title\"].head(10),canales_top[\"trending_count\"].head(10), color=\"blue\")\n",
    "plt.ylabel('Canales')\n",
    "plt.xlabel('Frecuencia en tendencia')\n",
    "plt.title('Canales más frecuentes en tendencia')\n",
    "plt.show()"
   ]
  },
  {
   "cell_type": "code",

   "execution_count": 132,

   "metadata": {},
   "outputs": [
    {
     "data": {
      "image/png": "[encoded data removed]",
      "text/plain": [
       "<Figure size 432x288 with 1 Axes>"
      ]
     },
     "metadata": {
      "needs_background": "light"
     },
     "output_type": "display_data"
    }
   ],
   "source": [
    "plt.barh(canales_bot[\"channel_title\"].head(10),canales_bot[\"trending_count\"].head(10), color=\"red\")\n",
    "plt.ylabel('Canales')\n",
    "plt.xlabel('Frecuencia')\n",
    "plt.title('Canales menos frecuentes en tendencia')\n",
    "plt.show()"
   ]
  }
 ],
 "metadata": {
  "kernelspec": {
   "display_name": "Python 3.9.12 ('base')",
   "language": "python",
   "name": "python3"
  },
  "language_info": {
   "codemirror_mode": {
    "name": "ipython",
    "version": 3
   },
   "file_extension": ".py",
   "mimetype": "text/x-python",
   "name": "python",
   "nbconvert_exporter": "python",
   "pygments_lexer": "ipython3",
   "version": "3.9.12"
  },
  "orig_nbformat": 4,
  "vscode": {
   "interpreter": {
    "hash": "8e7af5626c7e654314ce176c299bd4d61dd6a36e86a9674195997ac339225326"
   }
  }
 },
 "nbformat": 4,
 "nbformat_minor": 2
}
