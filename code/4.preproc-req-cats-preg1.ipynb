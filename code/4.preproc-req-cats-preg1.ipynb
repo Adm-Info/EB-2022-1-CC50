{
 "cells": [
  {
   "cell_type": "code",
   "execution_count": 2,
   "metadata": {},
   "outputs": [],
   "source": [
    "%store -r data_cat"
   ]
  },
  {
   "cell_type": "code",
   "execution_count": 1,
   "metadata": {},
   "outputs": [],
   "source": [
    "import pandas as pd\n",
    "import numpy as np\n",
    "import matplotlib.pyplot as plt\n",
    "import seaborn as sns\n",
    "%matplotlib inline"
   ]
  },
  {
   "cell_type": "code",
   "execution_count": 3,
   "metadata": {},
   "outputs": [],
   "source": [
    "def showCatsBy(by): #views\n",
    "  plt.figure(figsize=(16,8))\n",
    "  plt.xticks(rotation=90)\n",
    "  catplot = sns.boxplot(x=\"snippet.title\", y=by, data=data_cat, palette='rainbow')\n",
    "  catplot.set(title= by +' por categoría')\n",
    "\n",
    "def outliersToMax(cat, since:int, col = 'views'):\n",
    "  nCat = len(data_cat[data_cat['snippet.title'] == cat])\n",
    "  nCatOut = len(data_cat[data_cat['snippet.title'] == cat][data_cat[col]>since])\n",
    "  print( ' Cantidad de datos de entretainment:', nCat, '\\n', 'Cantidad de datos outliers:', nCatOut )\n",
    "  display(data_cat[data_cat['snippet.title'] == cat][data_cat[col]>since])\n",
    "  print(f'''De {nCat} filas, {nCatOut} son outliers de la categoría entretainment.\n",
    "    Estos serán ajustados al máximo menor a {since}.''')\n",
    "  data_cat[col].loc[ (data_cat['snippet.title'] == cat) & (data_cat[col]>since)] = (\n",
    "    data_cat[data_cat['snippet.title'] == cat ][data_cat[col]<since][col].max() )\n",
    "  display(data_cat[data_cat['snippet.title'] == cat][data_cat[col]>since])"
   ]
  },
  {
   "cell_type": "markdown",
   "metadata": {},
   "source": [
    "#### Por Categoría de Videos"
   ]
  },
  {
   "cell_type": "markdown",
   "metadata": {},
   "source": [
    "##### 1. ¿Qué categorías de videos son las de mayor tendencia?"
   ]
  },
  {
   "cell_type": "code",
   "execution_count": null,
   "metadata": {},
   "outputs": [],
   "source": []
  },
  {
   "cell_type": "code",
   "execution_count": null,
   "metadata": {},
   "outputs": [],
   "source": [
    "%store data_cat"
   ]
  }
 ],
 "metadata": {
  "kernelspec": {
   "display_name": "Python 3.9.6 64-bit",
   "language": "python",
   "name": "python3"
  },
  "language_info": {
   "codemirror_mode": {
    "name": "ipython",
    "version": 3
   },
   "file_extension": ".py",
   "mimetype": "text/x-python",
   "name": "python",
   "nbconvert_exporter": "python",
   "pygments_lexer": "ipython3",
   "version": "3.9.6"
  },
  "orig_nbformat": 4,
  "vscode": {
   "interpreter": {
    "hash": "398f9b4e28b81308afe4228acfab4b1c1031a2671c07f2c960de745dea2cb377"
   }
  }
 },
 "nbformat": 4,
 "nbformat_minor": 2
}
