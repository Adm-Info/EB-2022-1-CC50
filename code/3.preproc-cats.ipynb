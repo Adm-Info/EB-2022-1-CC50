{
 "cells": [
  {
   "cell_type": "code",
   "execution_count": 13,
   "metadata": {},
   "outputs": [],
   "source": [
    "%store -r data\n",
    "%store -r categories"
   ]
  },
  {
   "cell_type": "code",
   "execution_count": 21,
   "metadata": {},
   "outputs": [],
   "source": [
    "import pandas as pd\n",
    "import numpy as np\n",
    "import matplotlib.pyplot as plt\n",
    "import seaborn as sns\n",
    "%matplotlib inline"
   ]
  },
  {
   "cell_type": "code",
   "execution_count": 22,
   "metadata": {},
   "outputs": [],
   "source": [
    "data[['views','likes','dislikes','comment_count']] = data[['views','likes','dislikes','comment_count']].astype(int)"
   ]
  },
  {
   "cell_type": "code",
   "execution_count": 23,
   "metadata": {},
   "outputs": [
    {
     "data": {
      "text/plain": [
       "array(['video_id', 'trending_date', 'title', 'channel_title',\n",
       "       'category_id', 'publish_time', 'tags', 'views', 'likes',\n",
       "       'dislikes', 'comment_count', 'thumbnail_link', 'comments_disabled',\n",
       "       'ratings_disabled', 'video_error_or_removed', 'state', 'lat',\n",
       "       'lon', 'geometry'], dtype=object)"
      ]
     },
     "execution_count": 23,
     "metadata": {},
     "output_type": "execute_result"
    }
   ],
   "source": [
    "data.columns.values"
   ]
  },
  {
   "cell_type": "code",
   "execution_count": 24,
   "metadata": {},
   "outputs": [
    {
     "data": {
      "text/html": [
       "<div>\n",
       "<style scoped>\n",
       "    .dataframe tbody tr th:only-of-type {\n",
       "        vertical-align: middle;\n",
       "    }\n",
       "\n",
       "    .dataframe tbody tr th {\n",
       "        vertical-align: top;\n",
       "    }\n",
       "\n",
       "    .dataframe thead th {\n",
       "        text-align: right;\n",
       "    }\n",
       "</style>\n",
       "<table border=\"1\" class=\"dataframe\">\n",
       "  <thead>\n",
       "    <tr style=\"text-align: right;\">\n",
       "      <th></th>\n",
       "      <th>video_id</th>\n",
       "      <th>trending_date</th>\n",
       "      <th>title</th>\n",
       "      <th>channel_title</th>\n",
       "      <th>category_id</th>\n",
       "      <th>publish_time</th>\n",
       "      <th>tags</th>\n",
       "      <th>views</th>\n",
       "      <th>likes</th>\n",
       "      <th>dislikes</th>\n",
       "      <th>...</th>\n",
       "      <th>video_error_or_removed</th>\n",
       "      <th>state</th>\n",
       "      <th>lat</th>\n",
       "      <th>lon</th>\n",
       "      <th>geometry</th>\n",
       "      <th>kind</th>\n",
       "      <th>etag</th>\n",
       "      <th>snippet.channelId</th>\n",
       "      <th>snippet.title</th>\n",
       "      <th>snippet.assignable</th>\n",
       "    </tr>\n",
       "  </thead>\n",
       "  <tbody>\n",
       "    <tr>\n",
       "      <th>0</th>\n",
       "      <td>kzwfHumJyYc</td>\n",
       "      <td>2017-11-14</td>\n",
       "      <td>Sharry Mann: Cute Munda ( Song Teaser) | Parmi...</td>\n",
       "      <td>Lokdhun Punjabi</td>\n",
       "      <td>1</td>\n",
       "      <td>2017-11-12 12:20:39+00:00</td>\n",
       "      <td>sharry mann|\"sharry mann new song\"|\"sharry man...</td>\n",
       "      <td>1096327</td>\n",
       "      <td>33966</td>\n",
       "      <td>798</td>\n",
       "      <td>...</td>\n",
       "      <td>False</td>\n",
       "      <td>Arunachal Pradesh</td>\n",
       "      <td>27.100399</td>\n",
       "      <td>93.616601</td>\n",
       "      <td>POINT (93.61660071 27.10039878)</td>\n",
       "      <td>youtube#videoCategory</td>\n",
       "      <td>\"XI7nbFXulYBIpL0ayR_gDh3eu1k/Xy1mB4_yLrHy_BmKm...</td>\n",
       "      <td>UCBR8-60-B28hp2BmDPdntcQ</td>\n",
       "      <td>Film &amp; Animation</td>\n",
       "      <td>True</td>\n",
       "    </tr>\n",
       "    <tr>\n",
       "      <th>1</th>\n",
       "      <td>zUZ1z7FwLc8</td>\n",
       "      <td>2017-11-14</td>\n",
       "      <td>पीरियड्स के समय, पेट पर पति करता ऐसा, देखकर दं...</td>\n",
       "      <td>HJ NEWS</td>\n",
       "      <td>25</td>\n",
       "      <td>2017-11-13 05:43:56+00:00</td>\n",
       "      <td>पीरियड्स के समय|\"पेट पर पति करता ऐसा\"|\"देखकर द...</td>\n",
       "      <td>590101</td>\n",
       "      <td>735</td>\n",
       "      <td>904</td>\n",
       "      <td>...</td>\n",
       "      <td>False</td>\n",
       "      <td>Arunachal Pradesh</td>\n",
       "      <td>27.100399</td>\n",
       "      <td>93.616601</td>\n",
       "      <td>POINT (93.61660071 27.10039878)</td>\n",
       "      <td>youtube#videoCategory</td>\n",
       "      <td>\"XI7nbFXulYBIpL0ayR_gDh3eu1k/QiLK0ZIrFoORdk_g2...</td>\n",
       "      <td>UCBR8-60-B28hp2BmDPdntcQ</td>\n",
       "      <td>News &amp; Politics</td>\n",
       "      <td>True</td>\n",
       "    </tr>\n",
       "    <tr>\n",
       "      <th>2</th>\n",
       "      <td>10L1hZ9qa58</td>\n",
       "      <td>2017-11-14</td>\n",
       "      <td>Stylish Star Allu Arjun @ ChaySam Wedding Rece...</td>\n",
       "      <td>TFPC</td>\n",
       "      <td>24</td>\n",
       "      <td>2017-11-12 15:48:08+00:00</td>\n",
       "      <td>Stylish Star Allu Arjun @ ChaySam Wedding Rece...</td>\n",
       "      <td>473988</td>\n",
       "      <td>2011</td>\n",
       "      <td>243</td>\n",
       "      <td>...</td>\n",
       "      <td>False</td>\n",
       "      <td>Dadra And Nagar Haveli</td>\n",
       "      <td>20.266578</td>\n",
       "      <td>73.016618</td>\n",
       "      <td>POINT (73.01661780000001 20.26657819)</td>\n",
       "      <td>youtube#videoCategory</td>\n",
       "      <td>\"XI7nbFXulYBIpL0ayR_gDh3eu1k/UVB9oxX2Bvqa_w_y3...</td>\n",
       "      <td>UCBR8-60-B28hp2BmDPdntcQ</td>\n",
       "      <td>Entertainment</td>\n",
       "      <td>True</td>\n",
       "    </tr>\n",
       "    <tr>\n",
       "      <th>3</th>\n",
       "      <td>N1vE8iiEg64</td>\n",
       "      <td>2017-11-14</td>\n",
       "      <td>Eruma Saani | Tamil vs English</td>\n",
       "      <td>Eruma Saani</td>\n",
       "      <td>23</td>\n",
       "      <td>2017-11-12 07:08:48+00:00</td>\n",
       "      <td>Eruma Saani|\"Tamil Comedy Videos\"|\"Films\"|\"Mov...</td>\n",
       "      <td>1242680</td>\n",
       "      <td>70353</td>\n",
       "      <td>1624</td>\n",
       "      <td>...</td>\n",
       "      <td>False</td>\n",
       "      <td>Nagaland</td>\n",
       "      <td>25.666998</td>\n",
       "      <td>94.116570</td>\n",
       "      <td>POINT (94.11657019 25.6669979)</td>\n",
       "      <td>youtube#videoCategory</td>\n",
       "      <td>\"XI7nbFXulYBIpL0ayR_gDh3eu1k/G9LHzQmx44rX2S5ya...</td>\n",
       "      <td>UCBR8-60-B28hp2BmDPdntcQ</td>\n",
       "      <td>Comedy</td>\n",
       "      <td>True</td>\n",
       "    </tr>\n",
       "    <tr>\n",
       "      <th>4</th>\n",
       "      <td>kJzGH0PVQHQ</td>\n",
       "      <td>2017-11-14</td>\n",
       "      <td>why Samantha became EMOTIONAL @ Samantha naga ...</td>\n",
       "      <td>Filmylooks</td>\n",
       "      <td>24</td>\n",
       "      <td>2017-11-13 01:14:16+00:00</td>\n",
       "      <td>Filmylooks|\"latest news\"|\"telugu movies\"|\"telu...</td>\n",
       "      <td>464015</td>\n",
       "      <td>492</td>\n",
       "      <td>293</td>\n",
       "      <td>...</td>\n",
       "      <td>False</td>\n",
       "      <td>Himachal Pradesh</td>\n",
       "      <td>31.100025</td>\n",
       "      <td>77.166597</td>\n",
       "      <td>POINT (77.16659704 31.10002545)</td>\n",
       "      <td>youtube#videoCategory</td>\n",
       "      <td>\"XI7nbFXulYBIpL0ayR_gDh3eu1k/UVB9oxX2Bvqa_w_y3...</td>\n",
       "      <td>UCBR8-60-B28hp2BmDPdntcQ</td>\n",
       "      <td>Entertainment</td>\n",
       "      <td>True</td>\n",
       "    </tr>\n",
       "  </tbody>\n",
       "</table>\n",
       "<p>5 rows × 24 columns</p>\n",
       "</div>"
      ],
      "text/plain": [
       "      video_id trending_date  \\\n",
       "0  kzwfHumJyYc    2017-11-14   \n",
       "1  zUZ1z7FwLc8    2017-11-14   \n",
       "2  10L1hZ9qa58    2017-11-14   \n",
       "3  N1vE8iiEg64    2017-11-14   \n",
       "4  kJzGH0PVQHQ    2017-11-14   \n",
       "\n",
       "                                               title    channel_title  \\\n",
       "0  Sharry Mann: Cute Munda ( Song Teaser) | Parmi...  Lokdhun Punjabi   \n",
       "1  पीरियड्स के समय, पेट पर पति करता ऐसा, देखकर दं...          HJ NEWS   \n",
       "2  Stylish Star Allu Arjun @ ChaySam Wedding Rece...             TFPC   \n",
       "3                     Eruma Saani | Tamil vs English      Eruma Saani   \n",
       "4  why Samantha became EMOTIONAL @ Samantha naga ...       Filmylooks   \n",
       "\n",
       "  category_id              publish_time  \\\n",
       "0           1 2017-11-12 12:20:39+00:00   \n",
       "1          25 2017-11-13 05:43:56+00:00   \n",
       "2          24 2017-11-12 15:48:08+00:00   \n",
       "3          23 2017-11-12 07:08:48+00:00   \n",
       "4          24 2017-11-13 01:14:16+00:00   \n",
       "\n",
       "                                                tags    views  likes  \\\n",
       "0  sharry mann|\"sharry mann new song\"|\"sharry man...  1096327  33966   \n",
       "1  पीरियड्स के समय|\"पेट पर पति करता ऐसा\"|\"देखकर द...   590101    735   \n",
       "2  Stylish Star Allu Arjun @ ChaySam Wedding Rece...   473988   2011   \n",
       "3  Eruma Saani|\"Tamil Comedy Videos\"|\"Films\"|\"Mov...  1242680  70353   \n",
       "4  Filmylooks|\"latest news\"|\"telugu movies\"|\"telu...   464015    492   \n",
       "\n",
       "   dislikes  ...  video_error_or_removed                   state        lat  \\\n",
       "0       798  ...                   False       Arunachal Pradesh  27.100399   \n",
       "1       904  ...                   False       Arunachal Pradesh  27.100399   \n",
       "2       243  ...                   False  Dadra And Nagar Haveli  20.266578   \n",
       "3      1624  ...                   False                Nagaland  25.666998   \n",
       "4       293  ...                   False        Himachal Pradesh  31.100025   \n",
       "\n",
       "         lon                               geometry                   kind  \\\n",
       "0  93.616601        POINT (93.61660071 27.10039878)  youtube#videoCategory   \n",
       "1  93.616601        POINT (93.61660071 27.10039878)  youtube#videoCategory   \n",
       "2  73.016618  POINT (73.01661780000001 20.26657819)  youtube#videoCategory   \n",
       "3  94.116570         POINT (94.11657019 25.6669979)  youtube#videoCategory   \n",
       "4  77.166597        POINT (77.16659704 31.10002545)  youtube#videoCategory   \n",
       "\n",
       "                                                etag  \\\n",
       "0  \"XI7nbFXulYBIpL0ayR_gDh3eu1k/Xy1mB4_yLrHy_BmKm...   \n",
       "1  \"XI7nbFXulYBIpL0ayR_gDh3eu1k/QiLK0ZIrFoORdk_g2...   \n",
       "2  \"XI7nbFXulYBIpL0ayR_gDh3eu1k/UVB9oxX2Bvqa_w_y3...   \n",
       "3  \"XI7nbFXulYBIpL0ayR_gDh3eu1k/G9LHzQmx44rX2S5ya...   \n",
       "4  \"XI7nbFXulYBIpL0ayR_gDh3eu1k/UVB9oxX2Bvqa_w_y3...   \n",
       "\n",
       "          snippet.channelId     snippet.title snippet.assignable  \n",
       "0  UCBR8-60-B28hp2BmDPdntcQ  Film & Animation               True  \n",
       "1  UCBR8-60-B28hp2BmDPdntcQ   News & Politics               True  \n",
       "2  UCBR8-60-B28hp2BmDPdntcQ     Entertainment               True  \n",
       "3  UCBR8-60-B28hp2BmDPdntcQ            Comedy               True  \n",
       "4  UCBR8-60-B28hp2BmDPdntcQ     Entertainment               True  \n",
       "\n",
       "[5 rows x 24 columns]"
      ]
     },
     "execution_count": 24,
     "metadata": {},
     "output_type": "execute_result"
    }
   ],
   "source": [
    "data_cat = data.join(categories.set_index('id'), on='category_id')\n",
    "data_cat.head()"
   ]
  },
  {
   "cell_type": "code",
   "execution_count": 25,
   "metadata": {},
   "outputs": [
    {
     "name": "stdout",
     "output_type": "stream",
     "text": [
      "<class 'pandas.core.frame.DataFrame'>\n",
      "Int64Index: 33106 entries, 0 to 38532\n",
      "Data columns (total 24 columns):\n",
      " #   Column                  Non-Null Count  Dtype              \n",
      "---  ------                  --------------  -----              \n",
      " 0   video_id                33106 non-null  object             \n",
      " 1   trending_date           33106 non-null  datetime64[ns]     \n",
      " 2   title                   33106 non-null  object             \n",
      " 3   channel_title           33106 non-null  object             \n",
      " 4   category_id             33106 non-null  object             \n",
      " 5   publish_time            33106 non-null  datetime64[ns, UTC]\n",
      " 6   tags                    33106 non-null  object             \n",
      " 7   views                   33106 non-null  int32              \n",
      " 8   likes                   33106 non-null  int32              \n",
      " 9   dislikes                33106 non-null  int32              \n",
      " 10  comment_count           33106 non-null  int32              \n",
      " 11  thumbnail_link          33106 non-null  object             \n",
      " 12  comments_disabled       33106 non-null  bool               \n",
      " 13  ratings_disabled        33106 non-null  bool               \n",
      " 14  video_error_or_removed  33106 non-null  bool               \n",
      " 15  state                   33106 non-null  object             \n",
      " 16  lat                     33106 non-null  float64            \n",
      " 17  lon                     33106 non-null  float64            \n",
      " 18  geometry                33106 non-null  object             \n",
      " 19  kind                    33003 non-null  object             \n",
      " 20  etag                    33003 non-null  object             \n",
      " 21  snippet.channelId       33003 non-null  object             \n",
      " 22  snippet.title           33003 non-null  category           \n",
      " 23  snippet.assignable      33003 non-null  object             \n",
      "dtypes: bool(3), category(1), datetime64[ns, UTC](1), datetime64[ns](1), float64(2), int32(4), object(12)\n",
      "memory usage: 4.9+ MB\n"
     ]
    }
   ],
   "source": [
    "data_cat.info()"
   ]
  },
  {
   "cell_type": "code",
   "execution_count": 26,
   "metadata": {},
   "outputs": [
    {
     "name": "stdout",
     "output_type": "stream",
     "text": [
      "33106 33106\n"
     ]
    }
   ],
   "source": [
    "print(len(data),len(data_cat))"
   ]
  },
  {
   "cell_type": "code",
   "execution_count": 27,
   "metadata": {},
   "outputs": [
    {
     "name": "stdout",
     "output_type": "stream",
     "text": [
      "Stored 'data_cat' (DataFrame)\n"
     ]
    }
   ],
   "source": [
    "%store data_cat"
   ]
  }
 ],
 "metadata": {
  "kernelspec": {
   "display_name": "Python 3.9.6 64-bit",
   "language": "python",
   "name": "python3"
  },
  "language_info": {
   "codemirror_mode": {
    "name": "ipython",
    "version": 3
   },
   "file_extension": ".py",
   "mimetype": "text/x-python",
   "name": "python",
   "nbconvert_exporter": "python",
   "pygments_lexer": "ipython3",
   "version": "3.9.6"
  },
  "orig_nbformat": 4,
  "vscode": {
   "interpreter": {
    "hash": "398f9b4e28b81308afe4228acfab4b1c1031a2671c07f2c960de745dea2cb377"
   }
  }
 },
 "nbformat": 4,
 "nbformat_minor": 2
}
