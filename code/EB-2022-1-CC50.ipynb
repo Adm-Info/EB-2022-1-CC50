{
 "cells": [
  {
   "cell_type": "code",
   "execution_count": 127,
   "metadata": {},
   "outputs": [],
   "source": [
    "import pandas as pd\n",
    "import numpy as np\n",
    "import matplotlib.pyplot as plt\n",
    "import seaborn as sns\n",
    "%matplotlib inline\n",
    "import geopandas as gdp\n",
    "import plotly.express as px"
   ]
  },
  {
   "cell_type": "markdown",
   "metadata": {},
   "source": [
    "## Cargar Datos"
   ]
  },
  {
   "cell_type": "code",
   "execution_count": 128,
   "metadata": {},
   "outputs": [
    {
     "name": "stderr",
     "output_type": "stream",
     "text": [
      "C:\\Users\\rodri\\AppData\\Local\\Temp\\ipykernel_56108\\242698420.py:1: DtypeWarning:\n",
      "\n",
      "Columns (4,7) have mixed types. Specify dtype option on import or set low_memory=False.\n",
      "\n"
     ]
    }
   ],
   "source": [
    "data = pd.read_csv('../data/INvideos_cc50.csv')"
   ]
  },
  {
   "cell_type": "code",
   "execution_count": 129,
   "metadata": {},
   "outputs": [],
   "source": [
    "categories = pd.read_json('../data/IN_category_id.json')"
   ]
  },
  {
   "cell_type": "markdown",
   "metadata": {},
   "source": [
    "## Inspeccionar los Datos"
   ]
  },
  {
   "cell_type": "code",
   "execution_count": 130,
   "metadata": {},
   "outputs": [
    {
     "name": "stdout",
     "output_type": "stream",
     "text": [
      "<class 'pandas.core.frame.DataFrame'>\n",
      "RangeIndex: 38533 entries, 0 to 38532\n",
      "Data columns (total 20 columns):\n",
      " #   Column                  Non-Null Count  Dtype  \n",
      "---  ------                  --------------  -----  \n",
      " 0   video_id                38528 non-null  object \n",
      " 1   trending_date           37617 non-null  object \n",
      " 2   title                   37535 non-null  object \n",
      " 3   channel_title           37422 non-null  object \n",
      " 4   category_id             37389 non-null  object \n",
      " 5   publish_time            37376 non-null  object \n",
      " 6   tags                    37364 non-null  object \n",
      " 7   views                   37357 non-null  object \n",
      " 8   likes                   37352 non-null  float64\n",
      " 9   dislikes                37352 non-null  float64\n",
      " 10  comment_count           37352 non-null  float64\n",
      " 11  thumbnail_link          37352 non-null  object \n",
      " 12  comments_disabled       37352 non-null  object \n",
      " 13  ratings_disabled        37352 non-null  object \n",
      " 14  video_error_or_removed  37352 non-null  object \n",
      " 15  description             36791 non-null  object \n",
      " 16  state                   38533 non-null  object \n",
      " 17  lat                     38533 non-null  float64\n",
      " 18  lon                     38533 non-null  float64\n",
      " 19  geometry                38533 non-null  object \n",
      "dtypes: float64(5), object(15)\n",
      "memory usage: 5.9+ MB\n"
     ]
    }
   ],
   "source": [
    "data.info()"
   ]
  },
  {
   "cell_type": "code",
   "execution_count": 131,
   "metadata": {},
   "outputs": [
    {
     "data": {
      "text/html": [
       "<div>\n",
       "<style scoped>\n",
       "    .dataframe tbody tr th:only-of-type {\n",
       "        vertical-align: middle;\n",
       "    }\n",
       "\n",
       "    .dataframe tbody tr th {\n",
       "        vertical-align: top;\n",
       "    }\n",
       "\n",
       "    .dataframe thead th {\n",
       "        text-align: right;\n",
       "    }\n",
       "</style>\n",
       "<table border=\"1\" class=\"dataframe\">\n",
       "  <thead>\n",
       "    <tr style=\"text-align: right;\">\n",
       "      <th></th>\n",
       "      <th>likes</th>\n",
       "      <th>dislikes</th>\n",
       "      <th>comment_count</th>\n",
       "      <th>lat</th>\n",
       "      <th>lon</th>\n",
       "    </tr>\n",
       "  </thead>\n",
       "  <tbody>\n",
       "    <tr>\n",
       "      <th>count</th>\n",
       "      <td>3.735200e+04</td>\n",
       "      <td>3.735200e+04</td>\n",
       "      <td>37352.00000</td>\n",
       "      <td>38533.000000</td>\n",
       "      <td>38533.000000</td>\n",
       "    </tr>\n",
       "    <tr>\n",
       "      <th>mean</th>\n",
       "      <td>2.708272e+04</td>\n",
       "      <td>1.665082e+03</td>\n",
       "      <td>2676.99743</td>\n",
       "      <td>22.659994</td>\n",
       "      <td>82.153458</td>\n",
       "    </tr>\n",
       "    <tr>\n",
       "      <th>std</th>\n",
       "      <td>9.714510e+04</td>\n",
       "      <td>1.607617e+04</td>\n",
       "      <td>14868.31713</td>\n",
       "      <td>6.806052</td>\n",
       "      <td>7.461992</td>\n",
       "    </tr>\n",
       "    <tr>\n",
       "      <th>min</th>\n",
       "      <td>0.000000e+00</td>\n",
       "      <td>0.000000e+00</td>\n",
       "      <td>0.00000</td>\n",
       "      <td>8.900373</td>\n",
       "      <td>72.636867</td>\n",
       "    </tr>\n",
       "    <tr>\n",
       "      <th>25%</th>\n",
       "      <td>8.640000e+02</td>\n",
       "      <td>1.080000e+02</td>\n",
       "      <td>81.00000</td>\n",
       "      <td>19.250232</td>\n",
       "      <td>76.569993</td>\n",
       "    </tr>\n",
       "    <tr>\n",
       "      <th>50%</th>\n",
       "      <td>3.069000e+03</td>\n",
       "      <td>3.260000e+02</td>\n",
       "      <td>329.00000</td>\n",
       "      <td>23.835404</td>\n",
       "      <td>78.570026</td>\n",
       "    </tr>\n",
       "    <tr>\n",
       "      <th>75%</th>\n",
       "      <td>1.377425e+04</td>\n",
       "      <td>1.019250e+03</td>\n",
       "      <td>1285.00000</td>\n",
       "      <td>27.333330</td>\n",
       "      <td>88.616647</td>\n",
       "    </tr>\n",
       "    <tr>\n",
       "      <th>max</th>\n",
       "      <td>2.912710e+06</td>\n",
       "      <td>1.545017e+06</td>\n",
       "      <td>827755.00000</td>\n",
       "      <td>34.299959</td>\n",
       "      <td>94.216667</td>\n",
       "    </tr>\n",
       "  </tbody>\n",
       "</table>\n",
       "</div>"
      ],
      "text/plain": [
       "              likes      dislikes  comment_count           lat           lon\n",
       "count  3.735200e+04  3.735200e+04    37352.00000  38533.000000  38533.000000\n",
       "mean   2.708272e+04  1.665082e+03     2676.99743     22.659994     82.153458\n",
       "std    9.714510e+04  1.607617e+04    14868.31713      6.806052      7.461992\n",
       "min    0.000000e+00  0.000000e+00        0.00000      8.900373     72.636867\n",
       "25%    8.640000e+02  1.080000e+02       81.00000     19.250232     76.569993\n",
       "50%    3.069000e+03  3.260000e+02      329.00000     23.835404     78.570026\n",
       "75%    1.377425e+04  1.019250e+03     1285.00000     27.333330     88.616647\n",
       "max    2.912710e+06  1.545017e+06   827755.00000     34.299959     94.216667"
      ]
     },
     "execution_count": 131,
     "metadata": {},
     "output_type": "execute_result"
    }
   ],
   "source": [
    "data.describe()"
   ]
  },
  {
   "cell_type": "code",
   "execution_count": 132,
   "metadata": {},
   "outputs": [
    {
     "data": {
      "text/html": [
       "<div>\n",
       "<style scoped>\n",
       "    .dataframe tbody tr th:only-of-type {\n",
       "        vertical-align: middle;\n",
       "    }\n",
       "\n",
       "    .dataframe tbody tr th {\n",
       "        vertical-align: top;\n",
       "    }\n",
       "\n",
       "    .dataframe thead th {\n",
       "        text-align: right;\n",
       "    }\n",
       "</style>\n",
       "<table border=\"1\" class=\"dataframe\">\n",
       "  <thead>\n",
       "    <tr style=\"text-align: right;\">\n",
       "      <th></th>\n",
       "      <th>video_id</th>\n",
       "      <th>trending_date</th>\n",
       "      <th>title</th>\n",
       "      <th>channel_title</th>\n",
       "      <th>category_id</th>\n",
       "      <th>publish_time</th>\n",
       "      <th>tags</th>\n",
       "      <th>views</th>\n",
       "      <th>likes</th>\n",
       "      <th>dislikes</th>\n",
       "      <th>comment_count</th>\n",
       "      <th>thumbnail_link</th>\n",
       "      <th>comments_disabled</th>\n",
       "      <th>ratings_disabled</th>\n",
       "      <th>video_error_or_removed</th>\n",
       "      <th>description</th>\n",
       "      <th>state</th>\n",
       "      <th>lat</th>\n",
       "      <th>lon</th>\n",
       "      <th>geometry</th>\n",
       "    </tr>\n",
       "  </thead>\n",
       "  <tbody>\n",
       "    <tr>\n",
       "      <th>0</th>\n",
       "      <td>kzwfHumJyYc</td>\n",
       "      <td>17.14.11</td>\n",
       "      <td>Sharry Mann: Cute Munda ( Song Teaser) | Parmi...</td>\n",
       "      <td>Lokdhun Punjabi</td>\n",
       "      <td>1</td>\n",
       "      <td>2017-11-12T12:20:39.000Z</td>\n",
       "      <td>sharry mann|\"sharry mann new song\"|\"sharry man...</td>\n",
       "      <td>1096327</td>\n",
       "      <td>33966.0</td>\n",
       "      <td>798.0</td>\n",
       "      <td>882.0</td>\n",
       "      <td>https://i.ytimg.com/vi/kzwfHumJyYc/default.jpg</td>\n",
       "      <td>FALSO</td>\n",
       "      <td>FALSO</td>\n",
       "      <td>FALSO</td>\n",
       "      <td>Presenting Sharry Mann latest Punjabi Song  Cu...</td>\n",
       "      <td>Arunachal Pradesh</td>\n",
       "      <td>27.100399</td>\n",
       "      <td>93.616601</td>\n",
       "      <td>POINT (93.61660071 27.10039878)</td>\n",
       "    </tr>\n",
       "    <tr>\n",
       "      <th>1</th>\n",
       "      <td>zUZ1z7FwLc8</td>\n",
       "      <td>17.14.11</td>\n",
       "      <td>पीरियड्स के समय, पेट पर पति करता ऐसा, देखकर दं...</td>\n",
       "      <td>HJ NEWS</td>\n",
       "      <td>25</td>\n",
       "      <td>2017-11-13T05:43:56.000Z</td>\n",
       "      <td>पीरियड्स के समय|\"पेट पर पति करता ऐसा\"|\"देखकर द...</td>\n",
       "      <td>590101</td>\n",
       "      <td>735.0</td>\n",
       "      <td>904.0</td>\n",
       "      <td>0.0</td>\n",
       "      <td>https://i.ytimg.com/vi/zUZ1z7FwLc8/default.jpg</td>\n",
       "      <td>VERDADERO</td>\n",
       "      <td>FALSO</td>\n",
       "      <td>FALSO</td>\n",
       "      <td>पीरियड्स के समय, पेट पर पति करता ऐसा, देखकर दं...</td>\n",
       "      <td>Arunachal Pradesh</td>\n",
       "      <td>27.100399</td>\n",
       "      <td>93.616601</td>\n",
       "      <td>POINT (93.61660071 27.10039878)</td>\n",
       "    </tr>\n",
       "    <tr>\n",
       "      <th>2</th>\n",
       "      <td>10L1hZ9qa58</td>\n",
       "      <td>17.14.11</td>\n",
       "      <td>Stylish Star Allu Arjun @ ChaySam Wedding Rece...</td>\n",
       "      <td>TFPC</td>\n",
       "      <td>24</td>\n",
       "      <td>2017-11-12T15:48:08.000Z</td>\n",
       "      <td>Stylish Star Allu Arjun @ ChaySam Wedding Rece...</td>\n",
       "      <td>473988</td>\n",
       "      <td>2011.0</td>\n",
       "      <td>243.0</td>\n",
       "      <td>149.0</td>\n",
       "      <td>https://i.ytimg.com/vi/10L1hZ9qa58/default.jpg</td>\n",
       "      <td>FALSO</td>\n",
       "      <td>FALSO</td>\n",
       "      <td>FALSO</td>\n",
       "      <td>Watch Stylish Star Allu Arjun @ ChaySam Weddin...</td>\n",
       "      <td>Dadra And Nagar Haveli</td>\n",
       "      <td>20.266578</td>\n",
       "      <td>73.016618</td>\n",
       "      <td>POINT (73.01661780000001 20.26657819)</td>\n",
       "    </tr>\n",
       "    <tr>\n",
       "      <th>3</th>\n",
       "      <td>N1vE8iiEg64</td>\n",
       "      <td>17.14.11</td>\n",
       "      <td>Eruma Saani | Tamil vs English</td>\n",
       "      <td>Eruma Saani</td>\n",
       "      <td>23</td>\n",
       "      <td>2017-11-12T07:08:48.000Z</td>\n",
       "      <td>Eruma Saani|\"Tamil Comedy Videos\"|\"Films\"|\"Mov...</td>\n",
       "      <td>1242680</td>\n",
       "      <td>70353.0</td>\n",
       "      <td>1624.0</td>\n",
       "      <td>2684.0</td>\n",
       "      <td>https://i.ytimg.com/vi/N1vE8iiEg64/default.jpg</td>\n",
       "      <td>FALSO</td>\n",
       "      <td>FALSO</td>\n",
       "      <td>FALSO</td>\n",
       "      <td>This video showcases the difference between pe...</td>\n",
       "      <td>Nagaland</td>\n",
       "      <td>25.666998</td>\n",
       "      <td>94.116570</td>\n",
       "      <td>POINT (94.11657019 25.6669979)</td>\n",
       "    </tr>\n",
       "    <tr>\n",
       "      <th>4</th>\n",
       "      <td>kJzGH0PVQHQ</td>\n",
       "      <td>17.14.11</td>\n",
       "      <td>why Samantha became EMOTIONAL @ Samantha naga ...</td>\n",
       "      <td>Filmylooks</td>\n",
       "      <td>24</td>\n",
       "      <td>2017-11-13T01:14:16.000Z</td>\n",
       "      <td>Filmylooks|\"latest news\"|\"telugu movies\"|\"telu...</td>\n",
       "      <td>464015</td>\n",
       "      <td>492.0</td>\n",
       "      <td>293.0</td>\n",
       "      <td>66.0</td>\n",
       "      <td>https://i.ytimg.com/vi/kJzGH0PVQHQ/default.jpg</td>\n",
       "      <td>FALSO</td>\n",
       "      <td>FALSO</td>\n",
       "      <td>FALSO</td>\n",
       "      <td>why Samantha became EMOTIONAL @ Samantha naga ...</td>\n",
       "      <td>Himachal Pradesh</td>\n",
       "      <td>31.100025</td>\n",
       "      <td>77.166597</td>\n",
       "      <td>POINT (77.16659704 31.10002545)</td>\n",
       "    </tr>\n",
       "  </tbody>\n",
       "</table>\n",
       "</div>"
      ],
      "text/plain": [
       "      video_id trending_date  \\\n",
       "0  kzwfHumJyYc      17.14.11   \n",
       "1  zUZ1z7FwLc8      17.14.11   \n",
       "2  10L1hZ9qa58      17.14.11   \n",
       "3  N1vE8iiEg64      17.14.11   \n",
       "4  kJzGH0PVQHQ      17.14.11   \n",
       "\n",
       "                                               title    channel_title  \\\n",
       "0  Sharry Mann: Cute Munda ( Song Teaser) | Parmi...  Lokdhun Punjabi   \n",
       "1  पीरियड्स के समय, पेट पर पति करता ऐसा, देखकर दं...          HJ NEWS   \n",
       "2  Stylish Star Allu Arjun @ ChaySam Wedding Rece...             TFPC   \n",
       "3                     Eruma Saani | Tamil vs English      Eruma Saani   \n",
       "4  why Samantha became EMOTIONAL @ Samantha naga ...       Filmylooks   \n",
       "\n",
       "  category_id              publish_time  \\\n",
       "0           1  2017-11-12T12:20:39.000Z   \n",
       "1          25  2017-11-13T05:43:56.000Z   \n",
       "2          24  2017-11-12T15:48:08.000Z   \n",
       "3          23  2017-11-12T07:08:48.000Z   \n",
       "4          24  2017-11-13T01:14:16.000Z   \n",
       "\n",
       "                                                tags    views    likes  \\\n",
       "0  sharry mann|\"sharry mann new song\"|\"sharry man...  1096327  33966.0   \n",
       "1  पीरियड्स के समय|\"पेट पर पति करता ऐसा\"|\"देखकर द...   590101    735.0   \n",
       "2  Stylish Star Allu Arjun @ ChaySam Wedding Rece...   473988   2011.0   \n",
       "3  Eruma Saani|\"Tamil Comedy Videos\"|\"Films\"|\"Mov...  1242680  70353.0   \n",
       "4  Filmylooks|\"latest news\"|\"telugu movies\"|\"telu...   464015    492.0   \n",
       "\n",
       "   dislikes  comment_count                                  thumbnail_link  \\\n",
       "0     798.0          882.0  https://i.ytimg.com/vi/kzwfHumJyYc/default.jpg   \n",
       "1     904.0            0.0  https://i.ytimg.com/vi/zUZ1z7FwLc8/default.jpg   \n",
       "2     243.0          149.0  https://i.ytimg.com/vi/10L1hZ9qa58/default.jpg   \n",
       "3    1624.0         2684.0  https://i.ytimg.com/vi/N1vE8iiEg64/default.jpg   \n",
       "4     293.0           66.0  https://i.ytimg.com/vi/kJzGH0PVQHQ/default.jpg   \n",
       "\n",
       "  comments_disabled ratings_disabled video_error_or_removed  \\\n",
       "0             FALSO            FALSO                  FALSO   \n",
       "1         VERDADERO            FALSO                  FALSO   \n",
       "2             FALSO            FALSO                  FALSO   \n",
       "3             FALSO            FALSO                  FALSO   \n",
       "4             FALSO            FALSO                  FALSO   \n",
       "\n",
       "                                         description                   state  \\\n",
       "0  Presenting Sharry Mann latest Punjabi Song  Cu...       Arunachal Pradesh   \n",
       "1  पीरियड्स के समय, पेट पर पति करता ऐसा, देखकर दं...       Arunachal Pradesh   \n",
       "2  Watch Stylish Star Allu Arjun @ ChaySam Weddin...  Dadra And Nagar Haveli   \n",
       "3  This video showcases the difference between pe...                Nagaland   \n",
       "4  why Samantha became EMOTIONAL @ Samantha naga ...        Himachal Pradesh   \n",
       "\n",
       "         lat        lon                               geometry  \n",
       "0  27.100399  93.616601        POINT (93.61660071 27.10039878)  \n",
       "1  27.100399  93.616601        POINT (93.61660071 27.10039878)  \n",
       "2  20.266578  73.016618  POINT (73.01661780000001 20.26657819)  \n",
       "3  25.666998  94.116570         POINT (94.11657019 25.6669979)  \n",
       "4  31.100025  77.166597        POINT (77.16659704 31.10002545)  "
      ]
     },
     "execution_count": 132,
     "metadata": {},
     "output_type": "execute_result"
    }
   ],
   "source": [
    "data.head()"
   ]
  },
  {
   "cell_type": "markdown",
   "metadata": {},
   "source": [
    "Observaciones:\n",
    "\n",
    "* trending_date está en formato año, dia, mes\n",
    "* Es necesario convertir a dato booleano o numérico los campos con categorías verdadero o falso"
   ]
  },
  {
   "cell_type": "code",
   "execution_count": 133,
   "metadata": {},
   "outputs": [],
   "source": [
    "categories = pd.read_json('../data/IN_category_id.json')"
   ]
  },
  {
   "cell_type": "code",
   "execution_count": 134,
   "metadata": {},
   "outputs": [
    {
     "data": {
      "text/html": [
       "<div>\n",
       "<style scoped>\n",
       "    .dataframe tbody tr th:only-of-type {\n",
       "        vertical-align: middle;\n",
       "    }\n",
       "\n",
       "    .dataframe tbody tr th {\n",
       "        vertical-align: top;\n",
       "    }\n",
       "\n",
       "    .dataframe thead th {\n",
       "        text-align: right;\n",
       "    }\n",
       "</style>\n",
       "<table border=\"1\" class=\"dataframe\">\n",
       "  <thead>\n",
       "    <tr style=\"text-align: right;\">\n",
       "      <th></th>\n",
       "      <th>kind</th>\n",
       "      <th>etag</th>\n",
       "      <th>items</th>\n",
       "    </tr>\n",
       "  </thead>\n",
       "  <tbody>\n",
       "    <tr>\n",
       "      <th>0</th>\n",
       "      <td>youtube#videoCategoryListResponse</td>\n",
       "      <td>\"XI7nbFXulYBIpL0ayR_gDh3eu1k/1v2mrzYSYG6onNLt2...</td>\n",
       "      <td>{'kind': 'youtube#videoCategory', 'etag': '\"XI...</td>\n",
       "    </tr>\n",
       "    <tr>\n",
       "      <th>1</th>\n",
       "      <td>youtube#videoCategoryListResponse</td>\n",
       "      <td>\"XI7nbFXulYBIpL0ayR_gDh3eu1k/1v2mrzYSYG6onNLt2...</td>\n",
       "      <td>{'kind': 'youtube#videoCategory', 'etag': '\"XI...</td>\n",
       "    </tr>\n",
       "    <tr>\n",
       "      <th>2</th>\n",
       "      <td>youtube#videoCategoryListResponse</td>\n",
       "      <td>\"XI7nbFXulYBIpL0ayR_gDh3eu1k/1v2mrzYSYG6onNLt2...</td>\n",
       "      <td>{'kind': 'youtube#videoCategory', 'etag': '\"XI...</td>\n",
       "    </tr>\n",
       "    <tr>\n",
       "      <th>3</th>\n",
       "      <td>youtube#videoCategoryListResponse</td>\n",
       "      <td>\"XI7nbFXulYBIpL0ayR_gDh3eu1k/1v2mrzYSYG6onNLt2...</td>\n",
       "      <td>{'kind': 'youtube#videoCategory', 'etag': '\"XI...</td>\n",
       "    </tr>\n",
       "    <tr>\n",
       "      <th>4</th>\n",
       "      <td>youtube#videoCategoryListResponse</td>\n",
       "      <td>\"XI7nbFXulYBIpL0ayR_gDh3eu1k/1v2mrzYSYG6onNLt2...</td>\n",
       "      <td>{'kind': 'youtube#videoCategory', 'etag': '\"XI...</td>\n",
       "    </tr>\n",
       "  </tbody>\n",
       "</table>\n",
       "</div>"
      ],
      "text/plain": [
       "                                kind  \\\n",
       "0  youtube#videoCategoryListResponse   \n",
       "1  youtube#videoCategoryListResponse   \n",
       "2  youtube#videoCategoryListResponse   \n",
       "3  youtube#videoCategoryListResponse   \n",
       "4  youtube#videoCategoryListResponse   \n",
       "\n",
       "                                                etag  \\\n",
       "0  \"XI7nbFXulYBIpL0ayR_gDh3eu1k/1v2mrzYSYG6onNLt2...   \n",
       "1  \"XI7nbFXulYBIpL0ayR_gDh3eu1k/1v2mrzYSYG6onNLt2...   \n",
       "2  \"XI7nbFXulYBIpL0ayR_gDh3eu1k/1v2mrzYSYG6onNLt2...   \n",
       "3  \"XI7nbFXulYBIpL0ayR_gDh3eu1k/1v2mrzYSYG6onNLt2...   \n",
       "4  \"XI7nbFXulYBIpL0ayR_gDh3eu1k/1v2mrzYSYG6onNLt2...   \n",
       "\n",
       "                                               items  \n",
       "0  {'kind': 'youtube#videoCategory', 'etag': '\"XI...  \n",
       "1  {'kind': 'youtube#videoCategory', 'etag': '\"XI...  \n",
       "2  {'kind': 'youtube#videoCategory', 'etag': '\"XI...  \n",
       "3  {'kind': 'youtube#videoCategory', 'etag': '\"XI...  \n",
       "4  {'kind': 'youtube#videoCategory', 'etag': '\"XI...  "
      ]
     },
     "execution_count": 134,
     "metadata": {},
     "output_type": "execute_result"
    }
   ],
   "source": [
    "categories.head()"
   ]
  },
  {
   "cell_type": "code",
   "execution_count": 135,
   "metadata": {},
   "outputs": [],
   "source": [
    "categories = pd.json_normalize(categories['items'])"
   ]
  },
  {
   "cell_type": "code",
   "execution_count": 136,
   "metadata": {},
   "outputs": [
    {
     "data": {
      "text/html": [
       "<div>\n",
       "<style scoped>\n",
       "    .dataframe tbody tr th:only-of-type {\n",
       "        vertical-align: middle;\n",
       "    }\n",
       "\n",
       "    .dataframe tbody tr th {\n",
       "        vertical-align: top;\n",
       "    }\n",
       "\n",
       "    .dataframe thead th {\n",
       "        text-align: right;\n",
       "    }\n",
       "</style>\n",
       "<table border=\"1\" class=\"dataframe\">\n",
       "  <thead>\n",
       "    <tr style=\"text-align: right;\">\n",
       "      <th></th>\n",
       "      <th>kind</th>\n",
       "      <th>etag</th>\n",
       "      <th>id</th>\n",
       "      <th>snippet.channelId</th>\n",
       "      <th>snippet.title</th>\n",
       "      <th>snippet.assignable</th>\n",
       "    </tr>\n",
       "  </thead>\n",
       "  <tbody>\n",
       "    <tr>\n",
       "      <th>0</th>\n",
       "      <td>youtube#videoCategory</td>\n",
       "      <td>\"XI7nbFXulYBIpL0ayR_gDh3eu1k/Xy1mB4_yLrHy_BmKm...</td>\n",
       "      <td>1</td>\n",
       "      <td>UCBR8-60-B28hp2BmDPdntcQ</td>\n",
       "      <td>Film &amp; Animation</td>\n",
       "      <td>True</td>\n",
       "    </tr>\n",
       "    <tr>\n",
       "      <th>1</th>\n",
       "      <td>youtube#videoCategory</td>\n",
       "      <td>\"XI7nbFXulYBIpL0ayR_gDh3eu1k/UZ1oLIIz2dxIhO45Z...</td>\n",
       "      <td>2</td>\n",
       "      <td>UCBR8-60-B28hp2BmDPdntcQ</td>\n",
       "      <td>Autos &amp; Vehicles</td>\n",
       "      <td>True</td>\n",
       "    </tr>\n",
       "    <tr>\n",
       "      <th>2</th>\n",
       "      <td>youtube#videoCategory</td>\n",
       "      <td>\"XI7nbFXulYBIpL0ayR_gDh3eu1k/nqRIq97-xe5XRZTxb...</td>\n",
       "      <td>10</td>\n",
       "      <td>UCBR8-60-B28hp2BmDPdntcQ</td>\n",
       "      <td>Music</td>\n",
       "      <td>True</td>\n",
       "    </tr>\n",
       "    <tr>\n",
       "      <th>3</th>\n",
       "      <td>youtube#videoCategory</td>\n",
       "      <td>\"XI7nbFXulYBIpL0ayR_gDh3eu1k/HwXKamM1Q20q9BN-o...</td>\n",
       "      <td>15</td>\n",
       "      <td>UCBR8-60-B28hp2BmDPdntcQ</td>\n",
       "      <td>Pets &amp; Animals</td>\n",
       "      <td>True</td>\n",
       "    </tr>\n",
       "    <tr>\n",
       "      <th>4</th>\n",
       "      <td>youtube#videoCategory</td>\n",
       "      <td>\"XI7nbFXulYBIpL0ayR_gDh3eu1k/9GQMSRjrZdHeb1OEM...</td>\n",
       "      <td>17</td>\n",
       "      <td>UCBR8-60-B28hp2BmDPdntcQ</td>\n",
       "      <td>Sports</td>\n",
       "      <td>True</td>\n",
       "    </tr>\n",
       "  </tbody>\n",
       "</table>\n",
       "</div>"
      ],
      "text/plain": [
       "                    kind                                               etag  \\\n",
       "0  youtube#videoCategory  \"XI7nbFXulYBIpL0ayR_gDh3eu1k/Xy1mB4_yLrHy_BmKm...   \n",
       "1  youtube#videoCategory  \"XI7nbFXulYBIpL0ayR_gDh3eu1k/UZ1oLIIz2dxIhO45Z...   \n",
       "2  youtube#videoCategory  \"XI7nbFXulYBIpL0ayR_gDh3eu1k/nqRIq97-xe5XRZTxb...   \n",
       "3  youtube#videoCategory  \"XI7nbFXulYBIpL0ayR_gDh3eu1k/HwXKamM1Q20q9BN-o...   \n",
       "4  youtube#videoCategory  \"XI7nbFXulYBIpL0ayR_gDh3eu1k/9GQMSRjrZdHeb1OEM...   \n",
       "\n",
       "   id         snippet.channelId     snippet.title  snippet.assignable  \n",
       "0   1  UCBR8-60-B28hp2BmDPdntcQ  Film & Animation                True  \n",
       "1   2  UCBR8-60-B28hp2BmDPdntcQ  Autos & Vehicles                True  \n",
       "2  10  UCBR8-60-B28hp2BmDPdntcQ             Music                True  \n",
       "3  15  UCBR8-60-B28hp2BmDPdntcQ    Pets & Animals                True  \n",
       "4  17  UCBR8-60-B28hp2BmDPdntcQ            Sports                True  "
      ]
     },
     "execution_count": 136,
     "metadata": {},
     "output_type": "execute_result"
    }
   ],
   "source": [
    "categories.head()"
   ]
  },
  {
   "cell_type": "code",
   "execution_count": 137,
   "metadata": {},
   "outputs": [],
   "source": [
    "# Creamos variables ficticias para las caracteristicas \"Sex\" y \"Embarked\"\n",
    "#sex = pd.get_dummies(data['Sex'],drop_first=True)\n",
    "#embark = pd.get_dummies(data['Embarked'],drop_first=True)"
   ]
  },
  {
   "cell_type": "markdown",
   "metadata": {},
   "source": [
    "##  Pre-Procesar los Datos"
   ]
  },
  {
   "cell_type": "code",
   "execution_count": 138,
   "metadata": {},
   "outputs": [],
   "source": [
    "# a fecha: trending_date , publish_time | yyyy-mm-dd \n",
    "# con hora: publish_time\n",
    "# separar en 2 columnas float: geometry\n",
    "# VERDADERO |\tFALSO\tboolean : ratings_disabled , comments_disabled , video_error_or_removed\n",
    "# int : views\n",
    "# eliminar ? : thumbnail_link , title , description\n",
    "# describir categoria : category_id\n",
    "# a categoría ?? : channel_title , state\n",
    "# ??? tags"
   ]
  },
  {
   "cell_type": "markdown",
   "metadata": {},
   "source": [
    "### Comprobación de datos faltantes"
   ]
  },
  {
   "cell_type": "markdown",
   "metadata": {},
   "source": [
    "Comenzamos eliminando la columna \"description\" porque la data no nos servirá para el desarrollo del trabajo."
   ]
  },
  {
   "cell_type": "code",
   "execution_count": 139,
   "metadata": {},
   "outputs": [],
   "source": [
    "data.drop(columns=['description'], inplace=True)"
   ]
  },
  {
   "cell_type": "markdown",
   "metadata": {},
   "source": [
    "### Observación de datos faltantes"
   ]
  },
  {
   "cell_type": "code",
   "execution_count": 140,
   "metadata": {},
   "outputs": [
    {
     "data": {
      "text/plain": [
       "<AxesSubplot:>"
      ]
     },
     "execution_count": 140,
     "metadata": {},
     "output_type": "execute_result"
    },
    {
     "data": {
      "image/png": "[encoded data removed]",
      "text/plain": [
       "<Figure size 432x288 with 1 Axes>"
      ]
     },
     "metadata": {
      "needs_background": "light"
     },
     "output_type": "display_data"
    }
   ],
   "source": [
    "sns.heatmap(data.isnull(),yticklabels=False,cbar=False,cmap='viridis')"
   ]
  },
  {
   "cell_type": "code",
   "execution_count": 141,
   "metadata": {},
   "outputs": [
    {
     "data": {
      "text/html": [
       "<div>\n",
       "<style scoped>\n",
       "    .dataframe tbody tr th:only-of-type {\n",
       "        vertical-align: middle;\n",
       "    }\n",
       "\n",
       "    .dataframe tbody tr th {\n",
       "        vertical-align: top;\n",
       "    }\n",
       "\n",
       "    .dataframe thead th {\n",
       "        text-align: right;\n",
       "    }\n",
       "</style>\n",
       "<table border=\"1\" class=\"dataframe\">\n",
       "  <thead>\n",
       "    <tr style=\"text-align: right;\">\n",
       "      <th></th>\n",
       "      <th>video_id</th>\n",
       "      <th>trending_date</th>\n",
       "      <th>title</th>\n",
       "      <th>channel_title</th>\n",
       "      <th>category_id</th>\n",
       "      <th>publish_time</th>\n",
       "      <th>tags</th>\n",
       "      <th>views</th>\n",
       "      <th>likes</th>\n",
       "      <th>dislikes</th>\n",
       "      <th>comment_count</th>\n",
       "      <th>thumbnail_link</th>\n",
       "      <th>comments_disabled</th>\n",
       "      <th>ratings_disabled</th>\n",
       "      <th>video_error_or_removed</th>\n",
       "      <th>state</th>\n",
       "      <th>lat</th>\n",
       "      <th>lon</th>\n",
       "      <th>geometry</th>\n",
       "    </tr>\n",
       "  </thead>\n",
       "  <tbody>\n",
       "    <tr>\n",
       "      <th>116</th>\n",
       "      <td>\\nசசிகலா மூலம் போயஸ்கார்டனுக்குள் போய் அதிகாரம...</td>\n",
       "      <td>மகாதேவன்</td>\n",
       "      <td>டி.டி.வி.தினகரன்</td>\n",
       "      <td>பாஸ்கரன்</td>\n",
       "      <td>சுதாகரன்</td>\n",
       "      <td>ராஜராஜன்</td>\n",
       "      <td>குலோத்துங்கன்</td>\n",
       "      <td>டாக்டர்.வெங்கடேஷ் என பலருமே இப்போது ரெய்டு வள...</td>\n",
       "      <td>NaN</td>\n",
       "      <td>NaN</td>\n",
       "      <td>NaN</td>\n",
       "      <td>NaN</td>\n",
       "      <td>NaN</td>\n",
       "      <td>NaN</td>\n",
       "      <td>NaN</td>\n",
       "      <td>Delhi</td>\n",
       "      <td>28.669993</td>\n",
       "      <td>77.230004</td>\n",
       "      <td>POINT (77.23000403 28.6699929)</td>\n",
       "    </tr>\n",
       "    <tr>\n",
       "      <th>117</th>\n",
       "      <td>\\nஇளவரசியின் மகன் விவேக் தலையெடுத்து இரண்டு ஆண...</td>\n",
       "      <td>அவர் சேர்த்து வைத்த பணமே கண்டமாகி விட்டது.சசி...</td>\n",
       "      <td>ஜெயலலிதாவின் ஹைதராபாத் திராட்சைத் தோட்டத்தைக்...</td>\n",
       "      <td>தனது மகள்கள்</td>\n",
       "      <td>மகனோடு போயஸ்தோட்டத்தில் தஞ்சமடைந்தார் இளவரசி. ...</td>\n",
       "      <td>புனேயில் எம்பிஏ முடித்து விட்டு பெங்களூருவில்...</td>\n",
       "      <td>2014ஆம் ஆண்டு அங்கிருந்து விலகினார்.</td>\n",
       "      <td>NaN</td>\n",
       "      <td>NaN</td>\n",
       "      <td>NaN</td>\n",
       "      <td>NaN</td>\n",
       "      <td>NaN</td>\n",
       "      <td>NaN</td>\n",
       "      <td>NaN</td>\n",
       "      <td>NaN</td>\n",
       "      <td>Uttaranchal</td>\n",
       "      <td>30.320409</td>\n",
       "      <td>78.050006</td>\n",
       "      <td>POINT (78.05000565 30.32040895)</td>\n",
       "    </tr>\n",
       "    <tr>\n",
       "      <th>118</th>\n",
       "      <td>\\n</td>\n",
       "      <td>NaN</td>\n",
       "      <td>NaN</td>\n",
       "      <td>NaN</td>\n",
       "      <td>NaN</td>\n",
       "      <td>NaN</td>\n",
       "      <td>NaN</td>\n",
       "      <td>NaN</td>\n",
       "      <td>NaN</td>\n",
       "      <td>NaN</td>\n",
       "      <td>NaN</td>\n",
       "      <td>NaN</td>\n",
       "      <td>NaN</td>\n",
       "      <td>NaN</td>\n",
       "      <td>NaN</td>\n",
       "      <td>Mizoram</td>\n",
       "      <td>23.710399</td>\n",
       "      <td>92.720015</td>\n",
       "      <td>POINT (92.72001461000001 23.71039899)</td>\n",
       "    </tr>\n",
       "    <tr>\n",
       "      <th>119</th>\n",
       "      <td>\\n Ilavarasi's son Vivek is facing a severe cr...</td>\n",
       "      <td>NaN</td>\n",
       "      <td>NaN</td>\n",
       "      <td>NaN</td>\n",
       "      <td>NaN</td>\n",
       "      <td>NaN</td>\n",
       "      <td>NaN</td>\n",
       "      <td>NaN</td>\n",
       "      <td>NaN</td>\n",
       "      <td>NaN</td>\n",
       "      <td>NaN</td>\n",
       "      <td>NaN</td>\n",
       "      <td>NaN</td>\n",
       "      <td>NaN</td>\n",
       "      <td>NaN</td>\n",
       "      <td>Goa</td>\n",
       "      <td>15.491997</td>\n",
       "      <td>73.818001</td>\n",
       "      <td>POINT (73.81800065 15.491997)</td>\n",
       "    </tr>\n",
       "    <tr>\n",
       "      <th>120</th>\n",
       "      <td>\\n\\nOneindia Tamil\\nSubscribe for More Videos....</td>\n",
       "      <td>Support</td>\n",
       "      <td>Subscribe▬▬▬▬▬▬▬▬▬\\n♥ subscribe :https://www....</td>\n",
       "      <td>NaN</td>\n",
       "      <td>NaN</td>\n",
       "      <td>NaN</td>\n",
       "      <td>NaN</td>\n",
       "      <td>NaN</td>\n",
       "      <td>NaN</td>\n",
       "      <td>NaN</td>\n",
       "      <td>NaN</td>\n",
       "      <td>NaN</td>\n",
       "      <td>NaN</td>\n",
       "      <td>NaN</td>\n",
       "      <td>NaN</td>\n",
       "      <td>Karnataka</td>\n",
       "      <td>12.570381</td>\n",
       "      <td>76.919997</td>\n",
       "      <td>POINT (76.91999711 12.57038129)</td>\n",
       "    </tr>\n",
       "    <tr>\n",
       "      <th>...</th>\n",
       "      <td>...</td>\n",
       "      <td>...</td>\n",
       "      <td>...</td>\n",
       "      <td>...</td>\n",
       "      <td>...</td>\n",
       "      <td>...</td>\n",
       "      <td>...</td>\n",
       "      <td>...</td>\n",
       "      <td>...</td>\n",
       "      <td>...</td>\n",
       "      <td>...</td>\n",
       "      <td>...</td>\n",
       "      <td>...</td>\n",
       "      <td>...</td>\n",
       "      <td>...</td>\n",
       "      <td>...</td>\n",
       "      <td>...</td>\n",
       "      <td>...</td>\n",
       "      <td>...</td>\n",
       "    </tr>\n",
       "    <tr>\n",
       "      <th>38255</th>\n",
       "      <td>Visit WWE.com: http://goo.gl/akf0J4</td>\n",
       "      <td>NaN</td>\n",
       "      <td>NaN</td>\n",
       "      <td>NaN</td>\n",
       "      <td>NaN</td>\n",
       "      <td>NaN</td>\n",
       "      <td>NaN</td>\n",
       "      <td>NaN</td>\n",
       "      <td>NaN</td>\n",
       "      <td>NaN</td>\n",
       "      <td>NaN</td>\n",
       "      <td>NaN</td>\n",
       "      <td>NaN</td>\n",
       "      <td>NaN</td>\n",
       "      <td>NaN</td>\n",
       "      <td>Jharkhand</td>\n",
       "      <td>23.800393</td>\n",
       "      <td>86.419986</td>\n",
       "      <td>POINT (86.41998572 23.80039349)</td>\n",
       "    </tr>\n",
       "    <tr>\n",
       "      <th>38256</th>\n",
       "      <td>Must-See WWE videos on YouTube: https://goo.gl...</td>\n",
       "      <td>NaN</td>\n",
       "      <td>NaN</td>\n",
       "      <td>NaN</td>\n",
       "      <td>NaN</td>\n",
       "      <td>NaN</td>\n",
       "      <td>NaN</td>\n",
       "      <td>NaN</td>\n",
       "      <td>NaN</td>\n",
       "      <td>NaN</td>\n",
       "      <td>NaN</td>\n",
       "      <td>NaN</td>\n",
       "      <td>NaN</td>\n",
       "      <td>NaN</td>\n",
       "      <td>NaN</td>\n",
       "      <td>West Bengal</td>\n",
       "      <td>22.580390</td>\n",
       "      <td>88.329947</td>\n",
       "      <td>POINT (88.32994665 22.58039044)</td>\n",
       "    </tr>\n",
       "    <tr>\n",
       "      <th>38480</th>\n",
       "      <td>Subscribe to WWE on YouTube: http://bit.ly/1i6...</td>\n",
       "      <td>NaN</td>\n",
       "      <td>NaN</td>\n",
       "      <td>NaN</td>\n",
       "      <td>NaN</td>\n",
       "      <td>NaN</td>\n",
       "      <td>NaN</td>\n",
       "      <td>NaN</td>\n",
       "      <td>NaN</td>\n",
       "      <td>NaN</td>\n",
       "      <td>NaN</td>\n",
       "      <td>NaN</td>\n",
       "      <td>NaN</td>\n",
       "      <td>NaN</td>\n",
       "      <td>NaN</td>\n",
       "      <td>Madhya Pradesh</td>\n",
       "      <td>21.300391</td>\n",
       "      <td>76.130019</td>\n",
       "      <td>POINT (76.13001949 21.30039105)</td>\n",
       "    </tr>\n",
       "    <tr>\n",
       "      <th>38481</th>\n",
       "      <td>Visit WWE.com: http://goo.gl/akf0J4</td>\n",
       "      <td>NaN</td>\n",
       "      <td>NaN</td>\n",
       "      <td>NaN</td>\n",
       "      <td>NaN</td>\n",
       "      <td>NaN</td>\n",
       "      <td>NaN</td>\n",
       "      <td>NaN</td>\n",
       "      <td>NaN</td>\n",
       "      <td>NaN</td>\n",
       "      <td>NaN</td>\n",
       "      <td>NaN</td>\n",
       "      <td>NaN</td>\n",
       "      <td>NaN</td>\n",
       "      <td>NaN</td>\n",
       "      <td>Delhi</td>\n",
       "      <td>28.669993</td>\n",
       "      <td>77.230004</td>\n",
       "      <td>POINT (77.23000403 28.6699929)</td>\n",
       "    </tr>\n",
       "    <tr>\n",
       "      <th>38482</th>\n",
       "      <td>Must-See WWE videos on YouTube: https://goo.gl...</td>\n",
       "      <td>NaN</td>\n",
       "      <td>NaN</td>\n",
       "      <td>NaN</td>\n",
       "      <td>NaN</td>\n",
       "      <td>NaN</td>\n",
       "      <td>NaN</td>\n",
       "      <td>NaN</td>\n",
       "      <td>NaN</td>\n",
       "      <td>NaN</td>\n",
       "      <td>NaN</td>\n",
       "      <td>NaN</td>\n",
       "      <td>NaN</td>\n",
       "      <td>NaN</td>\n",
       "      <td>NaN</td>\n",
       "      <td>Meghalaya</td>\n",
       "      <td>25.570492</td>\n",
       "      <td>91.880014</td>\n",
       "      <td>POINT (91.88001420000001 25.57049217)</td>\n",
       "    </tr>\n",
       "  </tbody>\n",
       "</table>\n",
       "<p>1181 rows × 19 columns</p>\n",
       "</div>"
      ],
      "text/plain": [
       "                                                video_id  \\\n",
       "116    \\nசசிகலா மூலம் போயஸ்கார்டனுக்குள் போய் அதிகாரம...   \n",
       "117    \\nஇளவரசியின் மகன் விவேக் தலையெடுத்து இரண்டு ஆண...   \n",
       "118                                                   \\n   \n",
       "119    \\n Ilavarasi's son Vivek is facing a severe cr...   \n",
       "120    \\n\\nOneindia Tamil\\nSubscribe for More Videos....   \n",
       "...                                                  ...   \n",
       "38255                Visit WWE.com: http://goo.gl/akf0J4   \n",
       "38256  Must-See WWE videos on YouTube: https://goo.gl...   \n",
       "38480  Subscribe to WWE on YouTube: http://bit.ly/1i6...   \n",
       "38481                Visit WWE.com: http://goo.gl/akf0J4   \n",
       "38482  Must-See WWE videos on YouTube: https://goo.gl...   \n",
       "\n",
       "                                           trending_date  \\\n",
       "116                                             மகாதேவன்   \n",
       "117     அவர் சேர்த்து வைத்த பணமே கண்டமாகி விட்டது.சசி...   \n",
       "118                                                  NaN   \n",
       "119                                                  NaN   \n",
       "120                                              Support   \n",
       "...                                                  ...   \n",
       "38255                                                NaN   \n",
       "38256                                                NaN   \n",
       "38480                                                NaN   \n",
       "38481                                                NaN   \n",
       "38482                                                NaN   \n",
       "\n",
       "                                                   title  channel_title  \\\n",
       "116                                     டி.டி.வி.தினகரன்       பாஸ்கரன்   \n",
       "117     ஜெயலலிதாவின் ஹைதராபாத் திராட்சைத் தோட்டத்தைக்...   தனது மகள்கள்   \n",
       "118                                                  NaN            NaN   \n",
       "119                                                  NaN            NaN   \n",
       "120     Subscribe▬▬▬▬▬▬▬▬▬\\n♥ subscribe :https://www....            NaN   \n",
       "...                                                  ...            ...   \n",
       "38255                                                NaN            NaN   \n",
       "38256                                                NaN            NaN   \n",
       "38480                                                NaN            NaN   \n",
       "38481                                                NaN            NaN   \n",
       "38482                                                NaN            NaN   \n",
       "\n",
       "                                             category_id  \\\n",
       "116                                             சுதாகரன்   \n",
       "117    மகனோடு போயஸ்தோட்டத்தில் தஞ்சமடைந்தார் இளவரசி. ...   \n",
       "118                                                  NaN   \n",
       "119                                                  NaN   \n",
       "120                                                  NaN   \n",
       "...                                                  ...   \n",
       "38255                                                NaN   \n",
       "38256                                                NaN   \n",
       "38480                                                NaN   \n",
       "38481                                                NaN   \n",
       "38482                                                NaN   \n",
       "\n",
       "                                            publish_time  \\\n",
       "116                                             ராஜராஜன்   \n",
       "117     புனேயில் எம்பிஏ முடித்து விட்டு பெங்களூருவில்...   \n",
       "118                                                  NaN   \n",
       "119                                                  NaN   \n",
       "120                                                  NaN   \n",
       "...                                                  ...   \n",
       "38255                                                NaN   \n",
       "38256                                                NaN   \n",
       "38480                                                NaN   \n",
       "38481                                                NaN   \n",
       "38482                                                NaN   \n",
       "\n",
       "                                        tags  \\\n",
       "116                            குலோத்துங்கன்   \n",
       "117     2014ஆம் ஆண்டு அங்கிருந்து விலகினார்.   \n",
       "118                                      NaN   \n",
       "119                                      NaN   \n",
       "120                                      NaN   \n",
       "...                                      ...   \n",
       "38255                                    NaN   \n",
       "38256                                    NaN   \n",
       "38480                                    NaN   \n",
       "38481                                    NaN   \n",
       "38482                                    NaN   \n",
       "\n",
       "                                                   views  likes  dislikes  \\\n",
       "116     டாக்டர்.வெங்கடேஷ் என பலருமே இப்போது ரெய்டு வள...    NaN       NaN   \n",
       "117                                                  NaN    NaN       NaN   \n",
       "118                                                  NaN    NaN       NaN   \n",
       "119                                                  NaN    NaN       NaN   \n",
       "120                                                  NaN    NaN       NaN   \n",
       "...                                                  ...    ...       ...   \n",
       "38255                                                NaN    NaN       NaN   \n",
       "38256                                                NaN    NaN       NaN   \n",
       "38480                                                NaN    NaN       NaN   \n",
       "38481                                                NaN    NaN       NaN   \n",
       "38482                                                NaN    NaN       NaN   \n",
       "\n",
       "       comment_count thumbnail_link comments_disabled ratings_disabled  \\\n",
       "116              NaN            NaN               NaN              NaN   \n",
       "117              NaN            NaN               NaN              NaN   \n",
       "118              NaN            NaN               NaN              NaN   \n",
       "119              NaN            NaN               NaN              NaN   \n",
       "120              NaN            NaN               NaN              NaN   \n",
       "...              ...            ...               ...              ...   \n",
       "38255            NaN            NaN               NaN              NaN   \n",
       "38256            NaN            NaN               NaN              NaN   \n",
       "38480            NaN            NaN               NaN              NaN   \n",
       "38481            NaN            NaN               NaN              NaN   \n",
       "38482            NaN            NaN               NaN              NaN   \n",
       "\n",
       "      video_error_or_removed           state        lat        lon  \\\n",
       "116                      NaN           Delhi  28.669993  77.230004   \n",
       "117                      NaN     Uttaranchal  30.320409  78.050006   \n",
       "118                      NaN         Mizoram  23.710399  92.720015   \n",
       "119                      NaN             Goa  15.491997  73.818001   \n",
       "120                      NaN       Karnataka  12.570381  76.919997   \n",
       "...                      ...             ...        ...        ...   \n",
       "38255                    NaN       Jharkhand  23.800393  86.419986   \n",
       "38256                    NaN     West Bengal  22.580390  88.329947   \n",
       "38480                    NaN  Madhya Pradesh  21.300391  76.130019   \n",
       "38481                    NaN           Delhi  28.669993  77.230004   \n",
       "38482                    NaN       Meghalaya  25.570492  91.880014   \n",
       "\n",
       "                                    geometry  \n",
       "116           POINT (77.23000403 28.6699929)  \n",
       "117          POINT (78.05000565 30.32040895)  \n",
       "118    POINT (92.72001461000001 23.71039899)  \n",
       "119            POINT (73.81800065 15.491997)  \n",
       "120          POINT (76.91999711 12.57038129)  \n",
       "...                                      ...  \n",
       "38255        POINT (86.41998572 23.80039349)  \n",
       "38256        POINT (88.32994665 22.58039044)  \n",
       "38480        POINT (76.13001949 21.30039105)  \n",
       "38481         POINT (77.23000403 28.6699929)  \n",
       "38482  POINT (91.88001420000001 25.57049217)  \n",
       "\n",
       "[1181 rows x 19 columns]"
      ]
     },
     "execution_count": 141,
     "metadata": {},
     "output_type": "execute_result"
    }
   ],
   "source": [
    "data[data.isnull().any(axis=1)]"
   ]
  },
  {
   "cell_type": "markdown",
   "metadata": {},
   "source": [
    "### Limpieza de datos repetidos"
   ]
  },
  {
   "cell_type": "code",
   "execution_count": 142,
   "metadata": {},
   "outputs": [
    {
     "data": {
      "text/html": [
       "<div>\n",
       "<style scoped>\n",
       "    .dataframe tbody tr th:only-of-type {\n",
       "        vertical-align: middle;\n",
       "    }\n",
       "\n",
       "    .dataframe tbody tr th {\n",
       "        vertical-align: top;\n",
       "    }\n",
       "\n",
       "    .dataframe thead th {\n",
       "        text-align: right;\n",
       "    }\n",
       "</style>\n",
       "<table border=\"1\" class=\"dataframe\">\n",
       "  <thead>\n",
       "    <tr style=\"text-align: right;\">\n",
       "      <th></th>\n",
       "      <th>video_id</th>\n",
       "      <th>trending_date</th>\n",
       "      <th>title</th>\n",
       "      <th>channel_title</th>\n",
       "      <th>category_id</th>\n",
       "      <th>publish_time</th>\n",
       "      <th>tags</th>\n",
       "      <th>views</th>\n",
       "      <th>likes</th>\n",
       "      <th>dislikes</th>\n",
       "      <th>comment_count</th>\n",
       "      <th>thumbnail_link</th>\n",
       "      <th>comments_disabled</th>\n",
       "      <th>ratings_disabled</th>\n",
       "      <th>video_error_or_removed</th>\n",
       "      <th>state</th>\n",
       "      <th>lat</th>\n",
       "      <th>lon</th>\n",
       "      <th>geometry</th>\n",
       "    </tr>\n",
       "  </thead>\n",
       "  <tbody>\n",
       "    <tr>\n",
       "      <th>38191</th>\n",
       "      <td>#NAME?</td>\n",
       "      <td>18.13.06</td>\n",
       "      <td>#DeepthiSunaina Cheema joke chepthe navvali..N...</td>\n",
       "      <td>Star Maa</td>\n",
       "      <td>24.0</td>\n",
       "      <td>2018-06-12T05:44:19.000Z</td>\n",
       "      <td>comedy|\"action\"|\"entertainment\"|\"telugu\"|\"toll...</td>\n",
       "      <td>675923.0</td>\n",
       "      <td>4642.0</td>\n",
       "      <td>908.0</td>\n",
       "      <td>920.0</td>\n",
       "      <td>https://i.ytimg.com/vi/-fKW38f_0Hk/default.jpg</td>\n",
       "      <td>FALSO</td>\n",
       "      <td>FALSO</td>\n",
       "      <td>FALSO</td>\n",
       "      <td>Kerala</td>\n",
       "      <td>8.900373</td>\n",
       "      <td>76.569993</td>\n",
       "      <td>POINT (76.56999263 8.900372741)</td>\n",
       "    </tr>\n",
       "    <tr>\n",
       "      <th>38314</th>\n",
       "      <td>#NAME?</td>\n",
       "      <td>18.13.06</td>\n",
       "      <td>#DeepthiSunaina Cheema joke chepthe navvali..N...</td>\n",
       "      <td>Star Maa</td>\n",
       "      <td>24.0</td>\n",
       "      <td>2018-06-12T05:44:19.000Z</td>\n",
       "      <td>comedy|\"action\"|\"entertainment\"|\"telugu\"|\"toll...</td>\n",
       "      <td>675923.0</td>\n",
       "      <td>4642.0</td>\n",
       "      <td>908.0</td>\n",
       "      <td>920.0</td>\n",
       "      <td>https://i.ytimg.com/vi/-fKW38f_0Hk/default.jpg</td>\n",
       "      <td>FALSO</td>\n",
       "      <td>FALSO</td>\n",
       "      <td>FALSO</td>\n",
       "      <td>Maharashtra</td>\n",
       "      <td>19.250232</td>\n",
       "      <td>73.160175</td>\n",
       "      <td>POINT (73.16017493 19.25023195)</td>\n",
       "    </tr>\n",
       "    <tr>\n",
       "      <th>38372</th>\n",
       "      <td>#NAME?</td>\n",
       "      <td>18.14.06</td>\n",
       "      <td>#DeepthiSunaina Cheema joke chepthe navvali..N...</td>\n",
       "      <td>Star Maa</td>\n",
       "      <td>24.0</td>\n",
       "      <td>2018-06-12T05:44:19.000Z</td>\n",
       "      <td>comedy|\"action\"|\"entertainment\"|\"telugu\"|\"toll...</td>\n",
       "      <td>1014376.0</td>\n",
       "      <td>5974.0</td>\n",
       "      <td>1414.0</td>\n",
       "      <td>1132.0</td>\n",
       "      <td>https://i.ytimg.com/vi/-fKW38f_0Hk/default.jpg</td>\n",
       "      <td>FALSO</td>\n",
       "      <td>FALSO</td>\n",
       "      <td>FALSO</td>\n",
       "      <td>Haryana</td>\n",
       "      <td>28.450006</td>\n",
       "      <td>77.019991</td>\n",
       "      <td>POINT (77.01999101 28.45000633)</td>\n",
       "    </tr>\n",
       "    <tr>\n",
       "      <th>38497</th>\n",
       "      <td>#NAME?</td>\n",
       "      <td>18.14.06</td>\n",
       "      <td>#DeepthiSunaina Cheema joke chepthe navvali..N...</td>\n",
       "      <td>Star Maa</td>\n",
       "      <td>24.0</td>\n",
       "      <td>2018-06-12T05:44:19.000Z</td>\n",
       "      <td>comedy|\"action\"|\"entertainment\"|\"telugu\"|\"toll...</td>\n",
       "      <td>1014376.0</td>\n",
       "      <td>5974.0</td>\n",
       "      <td>1414.0</td>\n",
       "      <td>1132.0</td>\n",
       "      <td>https://i.ytimg.com/vi/-fKW38f_0Hk/default.jpg</td>\n",
       "      <td>FALSO</td>\n",
       "      <td>FALSO</td>\n",
       "      <td>FALSO</td>\n",
       "      <td>Meghalaya</td>\n",
       "      <td>25.570492</td>\n",
       "      <td>91.880014</td>\n",
       "      <td>POINT (91.88001420000001 25.57049217)</td>\n",
       "    </tr>\n",
       "    <tr>\n",
       "      <th>33145</th>\n",
       "      <td>#NAME?</td>\n",
       "      <td>18.16.05</td>\n",
       "      <td>2018 Karnataka Election Results With Arnab Gos...</td>\n",
       "      <td>Republic World</td>\n",
       "      <td>25.0</td>\n",
       "      <td>2018-05-15T05:00:27.000Z</td>\n",
       "      <td>karnataka elections 2018|\"karnataka elections ...</td>\n",
       "      <td>333692.0</td>\n",
       "      <td>1316.0</td>\n",
       "      <td>408.0</td>\n",
       "      <td>157.0</td>\n",
       "      <td>https://i.ytimg.com/vi/-jYTsolMGUg/default.jpg</td>\n",
       "      <td>FALSO</td>\n",
       "      <td>FALSO</td>\n",
       "      <td>FALSO</td>\n",
       "      <td>Maharashtra</td>\n",
       "      <td>19.250232</td>\n",
       "      <td>73.160175</td>\n",
       "      <td>POINT (73.16017493 19.25023195)</td>\n",
       "    </tr>\n",
       "    <tr>\n",
       "      <th>...</th>\n",
       "      <td>...</td>\n",
       "      <td>...</td>\n",
       "      <td>...</td>\n",
       "      <td>...</td>\n",
       "      <td>...</td>\n",
       "      <td>...</td>\n",
       "      <td>...</td>\n",
       "      <td>...</td>\n",
       "      <td>...</td>\n",
       "      <td>...</td>\n",
       "      <td>...</td>\n",
       "      <td>...</td>\n",
       "      <td>...</td>\n",
       "      <td>...</td>\n",
       "      <td>...</td>\n",
       "      <td>...</td>\n",
       "      <td>...</td>\n",
       "      <td>...</td>\n",
       "      <td>...</td>\n",
       "    </tr>\n",
       "    <tr>\n",
       "      <th>31737</th>\n",
       "      <td>NaN</td>\n",
       "      <td>NaN</td>\n",
       "      <td>NaN</td>\n",
       "      <td>NaN</td>\n",
       "      <td>NaN</td>\n",
       "      <td>NaN</td>\n",
       "      <td>NaN</td>\n",
       "      <td>NaN</td>\n",
       "      <td>NaN</td>\n",
       "      <td>NaN</td>\n",
       "      <td>NaN</td>\n",
       "      <td>NaN</td>\n",
       "      <td>NaN</td>\n",
       "      <td>NaN</td>\n",
       "      <td>NaN</td>\n",
       "      <td>Chhattisgarh</td>\n",
       "      <td>22.090420</td>\n",
       "      <td>82.159987</td>\n",
       "      <td>POINT (82.15998734 22.09042035)</td>\n",
       "    </tr>\n",
       "    <tr>\n",
       "      <th>37925</th>\n",
       "      <td>NaN</td>\n",
       "      <td>NaN</td>\n",
       "      <td>NaN</td>\n",
       "      <td>NaN</td>\n",
       "      <td>NaN</td>\n",
       "      <td>NaN</td>\n",
       "      <td>NaN</td>\n",
       "      <td>NaN</td>\n",
       "      <td>NaN</td>\n",
       "      <td>NaN</td>\n",
       "      <td>NaN</td>\n",
       "      <td>NaN</td>\n",
       "      <td>NaN</td>\n",
       "      <td>NaN</td>\n",
       "      <td>NaN</td>\n",
       "      <td>West Bengal</td>\n",
       "      <td>22.580390</td>\n",
       "      <td>88.329947</td>\n",
       "      <td>POINT (88.32994665 22.58039044)</td>\n",
       "    </tr>\n",
       "    <tr>\n",
       "      <th>37928</th>\n",
       "      <td>NaN</td>\n",
       "      <td>NaN</td>\n",
       "      <td>NaN</td>\n",
       "      <td>NaN</td>\n",
       "      <td>NaN</td>\n",
       "      <td>NaN</td>\n",
       "      <td>NaN</td>\n",
       "      <td>NaN</td>\n",
       "      <td>NaN</td>\n",
       "      <td>NaN</td>\n",
       "      <td>NaN</td>\n",
       "      <td>NaN</td>\n",
       "      <td>NaN</td>\n",
       "      <td>NaN</td>\n",
       "      <td>NaN</td>\n",
       "      <td>Tamil Nadu</td>\n",
       "      <td>12.920386</td>\n",
       "      <td>79.150042</td>\n",
       "      <td>POINT (79.15004187 12.92038576)</td>\n",
       "    </tr>\n",
       "    <tr>\n",
       "      <th>37931</th>\n",
       "      <td>NaN</td>\n",
       "      <td>NaN</td>\n",
       "      <td>NaN</td>\n",
       "      <td>NaN</td>\n",
       "      <td>NaN</td>\n",
       "      <td>NaN</td>\n",
       "      <td>NaN</td>\n",
       "      <td>NaN</td>\n",
       "      <td>NaN</td>\n",
       "      <td>NaN</td>\n",
       "      <td>NaN</td>\n",
       "      <td>NaN</td>\n",
       "      <td>NaN</td>\n",
       "      <td>NaN</td>\n",
       "      <td>NaN</td>\n",
       "      <td>Sikkim</td>\n",
       "      <td>27.333330</td>\n",
       "      <td>88.616647</td>\n",
       "      <td>POINT (88.6166475 27.3333303)</td>\n",
       "    </tr>\n",
       "    <tr>\n",
       "      <th>37934</th>\n",
       "      <td>NaN</td>\n",
       "      <td>NaN</td>\n",
       "      <td>NaN</td>\n",
       "      <td>NaN</td>\n",
       "      <td>NaN</td>\n",
       "      <td>NaN</td>\n",
       "      <td>NaN</td>\n",
       "      <td>NaN</td>\n",
       "      <td>NaN</td>\n",
       "      <td>NaN</td>\n",
       "      <td>NaN</td>\n",
       "      <td>NaN</td>\n",
       "      <td>NaN</td>\n",
       "      <td>NaN</td>\n",
       "      <td>NaN</td>\n",
       "      <td>Puducherry</td>\n",
       "      <td>11.934994</td>\n",
       "      <td>79.830000</td>\n",
       "      <td>POINT (79.83000036999999 11.93499371)</td>\n",
       "    </tr>\n",
       "  </tbody>\n",
       "</table>\n",
       "<p>9450 rows × 19 columns</p>\n",
       "</div>"
      ],
      "text/plain": [
       "      video_id trending_date  \\\n",
       "38191   #NAME?      18.13.06   \n",
       "38314   #NAME?      18.13.06   \n",
       "38372   #NAME?      18.14.06   \n",
       "38497   #NAME?      18.14.06   \n",
       "33145   #NAME?      18.16.05   \n",
       "...        ...           ...   \n",
       "31737      NaN           NaN   \n",
       "37925      NaN           NaN   \n",
       "37928      NaN           NaN   \n",
       "37931      NaN           NaN   \n",
       "37934      NaN           NaN   \n",
       "\n",
       "                                                   title   channel_title  \\\n",
       "38191  #DeepthiSunaina Cheema joke chepthe navvali..N...        Star Maa   \n",
       "38314  #DeepthiSunaina Cheema joke chepthe navvali..N...        Star Maa   \n",
       "38372  #DeepthiSunaina Cheema joke chepthe navvali..N...        Star Maa   \n",
       "38497  #DeepthiSunaina Cheema joke chepthe navvali..N...        Star Maa   \n",
       "33145  2018 Karnataka Election Results With Arnab Gos...  Republic World   \n",
       "...                                                  ...             ...   \n",
       "31737                                                NaN             NaN   \n",
       "37925                                                NaN             NaN   \n",
       "37928                                                NaN             NaN   \n",
       "37931                                                NaN             NaN   \n",
       "37934                                                NaN             NaN   \n",
       "\n",
       "      category_id              publish_time  \\\n",
       "38191        24.0  2018-06-12T05:44:19.000Z   \n",
       "38314        24.0  2018-06-12T05:44:19.000Z   \n",
       "38372        24.0  2018-06-12T05:44:19.000Z   \n",
       "38497        24.0  2018-06-12T05:44:19.000Z   \n",
       "33145        25.0  2018-05-15T05:00:27.000Z   \n",
       "...           ...                       ...   \n",
       "31737         NaN                       NaN   \n",
       "37925         NaN                       NaN   \n",
       "37928         NaN                       NaN   \n",
       "37931         NaN                       NaN   \n",
       "37934         NaN                       NaN   \n",
       "\n",
       "                                                    tags      views   likes  \\\n",
       "38191  comedy|\"action\"|\"entertainment\"|\"telugu\"|\"toll...   675923.0  4642.0   \n",
       "38314  comedy|\"action\"|\"entertainment\"|\"telugu\"|\"toll...   675923.0  4642.0   \n",
       "38372  comedy|\"action\"|\"entertainment\"|\"telugu\"|\"toll...  1014376.0  5974.0   \n",
       "38497  comedy|\"action\"|\"entertainment\"|\"telugu\"|\"toll...  1014376.0  5974.0   \n",
       "33145  karnataka elections 2018|\"karnataka elections ...   333692.0  1316.0   \n",
       "...                                                  ...        ...     ...   \n",
       "31737                                                NaN        NaN     NaN   \n",
       "37925                                                NaN        NaN     NaN   \n",
       "37928                                                NaN        NaN     NaN   \n",
       "37931                                                NaN        NaN     NaN   \n",
       "37934                                                NaN        NaN     NaN   \n",
       "\n",
       "       dislikes  comment_count  \\\n",
       "38191     908.0          920.0   \n",
       "38314     908.0          920.0   \n",
       "38372    1414.0         1132.0   \n",
       "38497    1414.0         1132.0   \n",
       "33145     408.0          157.0   \n",
       "...         ...            ...   \n",
       "31737       NaN            NaN   \n",
       "37925       NaN            NaN   \n",
       "37928       NaN            NaN   \n",
       "37931       NaN            NaN   \n",
       "37934       NaN            NaN   \n",
       "\n",
       "                                       thumbnail_link comments_disabled  \\\n",
       "38191  https://i.ytimg.com/vi/-fKW38f_0Hk/default.jpg             FALSO   \n",
       "38314  https://i.ytimg.com/vi/-fKW38f_0Hk/default.jpg             FALSO   \n",
       "38372  https://i.ytimg.com/vi/-fKW38f_0Hk/default.jpg             FALSO   \n",
       "38497  https://i.ytimg.com/vi/-fKW38f_0Hk/default.jpg             FALSO   \n",
       "33145  https://i.ytimg.com/vi/-jYTsolMGUg/default.jpg             FALSO   \n",
       "...                                               ...               ...   \n",
       "31737                                             NaN               NaN   \n",
       "37925                                             NaN               NaN   \n",
       "37928                                             NaN               NaN   \n",
       "37931                                             NaN               NaN   \n",
       "37934                                             NaN               NaN   \n",
       "\n",
       "      ratings_disabled video_error_or_removed         state        lat  \\\n",
       "38191            FALSO                  FALSO        Kerala   8.900373   \n",
       "38314            FALSO                  FALSO   Maharashtra  19.250232   \n",
       "38372            FALSO                  FALSO       Haryana  28.450006   \n",
       "38497            FALSO                  FALSO     Meghalaya  25.570492   \n",
       "33145            FALSO                  FALSO   Maharashtra  19.250232   \n",
       "...                ...                    ...           ...        ...   \n",
       "31737              NaN                    NaN  Chhattisgarh  22.090420   \n",
       "37925              NaN                    NaN   West Bengal  22.580390   \n",
       "37928              NaN                    NaN    Tamil Nadu  12.920386   \n",
       "37931              NaN                    NaN        Sikkim  27.333330   \n",
       "37934              NaN                    NaN    Puducherry  11.934994   \n",
       "\n",
       "             lon                               geometry  \n",
       "38191  76.569993        POINT (76.56999263 8.900372741)  \n",
       "38314  73.160175        POINT (73.16017493 19.25023195)  \n",
       "38372  77.019991        POINT (77.01999101 28.45000633)  \n",
       "38497  91.880014  POINT (91.88001420000001 25.57049217)  \n",
       "33145  73.160175        POINT (73.16017493 19.25023195)  \n",
       "...          ...                                    ...  \n",
       "31737  82.159987        POINT (82.15998734 22.09042035)  \n",
       "37925  88.329947        POINT (88.32994665 22.58039044)  \n",
       "37928  79.150042        POINT (79.15004187 12.92038576)  \n",
       "37931  88.616647          POINT (88.6166475 27.3333303)  \n",
       "37934  79.830000  POINT (79.83000036999999 11.93499371)  \n",
       "\n",
       "[9450 rows x 19 columns]"
      ]
     },
     "execution_count": 142,
     "metadata": {},
     "output_type": "execute_result"
    }
   ],
   "source": [
    "#Visualizacion de registros duplicados\n",
    "data[data.duplicated(\n",
    "        subset=[\"video_id\",\"title\",\"channel_title\",\"trending_date\",\"publish_time\",\"views\",\"likes\",\"dislikes\",\"comment_count\", \"thumbnail_link\"],\n",
    "        keep=False)].sort_values(by=[\"video_id\",\"title\",\"channel_title\",\"trending_date\",\"publish_time\",\"views\",\"likes\",\"dislikes\",\"comment_count\", \"thumbnail_link\"])"
   ]
  },
  {
   "cell_type": "markdown",
   "metadata": {},
   "source": [
    "Se observa que existen varios datos duplicados en el dataset. Se pasará a elminar los datos duplicados y nos quedaremos con el ultimo registro."
   ]
  },
  {
   "cell_type": "markdown",
   "metadata": {},
   "source": [
    "#### Eliminación de datos duplicados"
   ]
  },
  {
   "cell_type": "code",
   "execution_count": 143,
   "metadata": {},
   "outputs": [],
   "source": [
    "data.drop_duplicates(\n",
    "    subset=[\"video_id\",\"title\",\"channel_title\",\"trending_date\",\"publish_time\",\"views\",\"likes\"],\n",
    "    keep=\"last\", inplace=True)\n",
    "    "
   ]
  },
  {
   "cell_type": "markdown",
   "metadata": {},
   "source": [
    "Se utilizó como criterio para eleminar los datos duplicados por el \"video_id\", \"title\", \"channel_title\" y \"publish_time\". Esto se debe a que si presenta el mismo ID, mismo título y el mismo nombre del canal y misma hora y fecha de publicación se puede decir con seguridad que se trata del mismo video."
   ]
  },
  {
   "cell_type": "markdown",
   "metadata": {},
   "source": [
    "### Estandarización de tipo de datos"
   ]
  },
  {
   "cell_type": "code",
   "execution_count": 144,
   "metadata": {},
   "outputs": [],
   "source": [
    "import datetime as dt"
   ]
  },
  {
   "cell_type": "code",
   "execution_count": 145,
   "metadata": {},
   "outputs": [],
   "source": [
    "data['publish_time'] = pd.to_datetime(data['publish_time'],errors=\"coerce\")"
   ]
  },
  {
   "cell_type": "code",
   "execution_count": 146,
   "metadata": {},
   "outputs": [],
   "source": [
    "data['trending_date'] = pd.to_datetime(data['trending_date'],format=\"%y.%d.%m\",errors=\"coerce\")"
   ]
  },
  {
   "cell_type": "code",
   "execution_count": 147,
   "metadata": {},
   "outputs": [],
   "source": [
    "#data['comments_disabled'].apply( vf_to_boolean )\n",
    "data[['ratings_disabled','comments_disabled', 'video_error_or_removed']\n",
    "] = data[['ratings_disabled','comments_disabled',\n",
    "  'video_error_or_removed']].applymap(\n",
    "  lambda x : True if x == 'VERDADERO' else False if x == 'FALSO'\n",
    "  else np.NaN )"
   ]
  },
  {
   "cell_type": "code",
   "execution_count": 148,
   "metadata": {},
   "outputs": [],
   "source": [
    "data[['ratings_disabled','comments_disabled', 'video_error_or_removed']] = data[['ratings_disabled','comments_disabled', 'video_error_or_removed']].astype(\"bool\")"
   ]
  },
  {
   "cell_type": "code",
   "execution_count": 149,
   "metadata": {},
   "outputs": [],
   "source": [
    "data['views'] = pd.to_numeric(data['views'],errors=\"coerce\",downcast='integer')\n",
    "data[['views','likes','dislikes','comment_count']] = data[['views','likes','dislikes','comment_count']].astype('Int64')"
   ]
  },
  {
   "cell_type": "code",
   "execution_count": 150,
   "metadata": {},
   "outputs": [],
   "source": [
    "# separar en 2 columnas float: geometry?"
   ]
  },
  {
   "cell_type": "code",
   "execution_count": 151,
   "metadata": {},
   "outputs": [
    {
     "data": {
      "text/plain": [
       "0         Film & Animation\n",
       "1         Autos & Vehicles\n",
       "2                    Music\n",
       "3           Pets & Animals\n",
       "4                   Sports\n",
       "5             Short Movies\n",
       "6          Travel & Events\n",
       "7                   Gaming\n",
       "8            Videoblogging\n",
       "9           People & Blogs\n",
       "10                  Comedy\n",
       "11           Entertainment\n",
       "12         News & Politics\n",
       "13           Howto & Style\n",
       "14               Education\n",
       "15    Science & Technology\n",
       "16                  Movies\n",
       "17         Anime/Animation\n",
       "18        Action/Adventure\n",
       "19                Classics\n",
       "20                  Comedy\n",
       "21             Documentary\n",
       "22                   Drama\n",
       "23                  Family\n",
       "24                 Foreign\n",
       "25                  Horror\n",
       "26          Sci-Fi/Fantasy\n",
       "27                Thriller\n",
       "28                  Shorts\n",
       "29                   Shows\n",
       "30                Trailers\n",
       "Name: snippet.title, dtype: category\n",
       "Categories (30, object): ['Action/Adventure', 'Anime/Animation', 'Autos & Vehicles', 'Classics', ..., 'Thriller', 'Trailers', 'Travel & Events', 'Videoblogging']"
      ]
     },
     "execution_count": 151,
     "metadata": {},
     "output_type": "execute_result"
    }
   ],
   "source": [
    "categories['snippet.title'] = categories['snippet.title'].astype(\"category\")\n",
    "categories['snippet.title']"
   ]
  },
  {
   "cell_type": "markdown",
   "metadata": {},
   "source": [
    "### Limpieza de datos NA"
   ]
  },
  {
   "cell_type": "code",
   "execution_count": 152,
   "metadata": {},
   "outputs": [],
   "source": [
    "#Si el dato faltante es el video_id, entonces, se removerán dichas observaciones."
   ]
  },
  {
   "cell_type": "code",
   "execution_count": 153,
   "metadata": {},
   "outputs": [],
   "source": [
    "data.dropna(subset = [\"video_id\"], axis = 0, inplace = True)"
   ]
  },
  {
   "cell_type": "markdown",
   "metadata": {},
   "source": [
    "#### Comprobamos datos nulos dentro del dataframe"
   ]
  },
  {
   "cell_type": "code",
   "execution_count": 154,
   "metadata": {},
   "outputs": [
    {
     "data": {
      "text/html": [
       "<div>\n",
       "<style scoped>\n",
       "    .dataframe tbody tr th:only-of-type {\n",
       "        vertical-align: middle;\n",
       "    }\n",
       "\n",
       "    .dataframe tbody tr th {\n",
       "        vertical-align: top;\n",
       "    }\n",
       "\n",
       "    .dataframe thead th {\n",
       "        text-align: right;\n",
       "    }\n",
       "</style>\n",
       "<table border=\"1\" class=\"dataframe\">\n",
       "  <thead>\n",
       "    <tr style=\"text-align: right;\">\n",
       "      <th></th>\n",
       "      <th>video_id</th>\n",
       "      <th>trending_date</th>\n",
       "      <th>title</th>\n",
       "      <th>channel_title</th>\n",
       "      <th>category_id</th>\n",
       "      <th>publish_time</th>\n",
       "      <th>tags</th>\n",
       "      <th>views</th>\n",
       "      <th>likes</th>\n",
       "      <th>dislikes</th>\n",
       "      <th>comment_count</th>\n",
       "      <th>thumbnail_link</th>\n",
       "      <th>comments_disabled</th>\n",
       "      <th>ratings_disabled</th>\n",
       "      <th>video_error_or_removed</th>\n",
       "      <th>state</th>\n",
       "      <th>lat</th>\n",
       "      <th>lon</th>\n",
       "      <th>geometry</th>\n",
       "    </tr>\n",
       "  </thead>\n",
       "  <tbody>\n",
       "    <tr>\n",
       "      <th>116</th>\n",
       "      <td>\\nசசிகலா மூலம் போயஸ்கார்டனுக்குள் போய் அதிகாரம...</td>\n",
       "      <td>NaT</td>\n",
       "      <td>டி.டி.வி.தினகரன்</td>\n",
       "      <td>பாஸ்கரன்</td>\n",
       "      <td>சுதாகரன்</td>\n",
       "      <td>NaT</td>\n",
       "      <td>குலோத்துங்கன்</td>\n",
       "      <td>&lt;NA&gt;</td>\n",
       "      <td>&lt;NA&gt;</td>\n",
       "      <td>&lt;NA&gt;</td>\n",
       "      <td>&lt;NA&gt;</td>\n",
       "      <td>NaN</td>\n",
       "      <td>True</td>\n",
       "      <td>True</td>\n",
       "      <td>True</td>\n",
       "      <td>Delhi</td>\n",
       "      <td>28.669993</td>\n",
       "      <td>77.230004</td>\n",
       "      <td>POINT (77.23000403 28.6699929)</td>\n",
       "    </tr>\n",
       "    <tr>\n",
       "      <th>117</th>\n",
       "      <td>\\nஇளவரசியின் மகன் விவேக் தலையெடுத்து இரண்டு ஆண...</td>\n",
       "      <td>NaT</td>\n",
       "      <td>ஜெயலலிதாவின் ஹைதராபாத் திராட்சைத் தோட்டத்தைக்...</td>\n",
       "      <td>தனது மகள்கள்</td>\n",
       "      <td>மகனோடு போயஸ்தோட்டத்தில் தஞ்சமடைந்தார் இளவரசி. ...</td>\n",
       "      <td>NaT</td>\n",
       "      <td>2014ஆம் ஆண்டு அங்கிருந்து விலகினார்.</td>\n",
       "      <td>&lt;NA&gt;</td>\n",
       "      <td>&lt;NA&gt;</td>\n",
       "      <td>&lt;NA&gt;</td>\n",
       "      <td>&lt;NA&gt;</td>\n",
       "      <td>NaN</td>\n",
       "      <td>True</td>\n",
       "      <td>True</td>\n",
       "      <td>True</td>\n",
       "      <td>Uttaranchal</td>\n",
       "      <td>30.320409</td>\n",
       "      <td>78.050006</td>\n",
       "      <td>POINT (78.05000565 30.32040895)</td>\n",
       "    </tr>\n",
       "    <tr>\n",
       "      <th>119</th>\n",
       "      <td>\\n Ilavarasi's son Vivek is facing a severe cr...</td>\n",
       "      <td>NaT</td>\n",
       "      <td>NaN</td>\n",
       "      <td>NaN</td>\n",
       "      <td>NaN</td>\n",
       "      <td>NaT</td>\n",
       "      <td>NaN</td>\n",
       "      <td>&lt;NA&gt;</td>\n",
       "      <td>&lt;NA&gt;</td>\n",
       "      <td>&lt;NA&gt;</td>\n",
       "      <td>&lt;NA&gt;</td>\n",
       "      <td>NaN</td>\n",
       "      <td>True</td>\n",
       "      <td>True</td>\n",
       "      <td>True</td>\n",
       "      <td>Goa</td>\n",
       "      <td>15.491997</td>\n",
       "      <td>73.818001</td>\n",
       "      <td>POINT (73.81800065 15.491997)</td>\n",
       "    </tr>\n",
       "    <tr>\n",
       "      <th>586</th>\n",
       "      <td>\\nഇന്ത്യന്‍ സിനിമാ ആരാധകരെ മുഴുവന്‍ കോരിത്തരിപ...</td>\n",
       "      <td>NaT</td>\n",
       "      <td>Support</td>\n",
       "      <td>Subscribe▬▬▬▬▬▬▬▬▬\\n♥ subscribe : https://goo...</td>\n",
       "      <td>NaN</td>\n",
       "      <td>NaT</td>\n",
       "      <td>NaN</td>\n",
       "      <td>&lt;NA&gt;</td>\n",
       "      <td>&lt;NA&gt;</td>\n",
       "      <td>&lt;NA&gt;</td>\n",
       "      <td>&lt;NA&gt;</td>\n",
       "      <td>NaN</td>\n",
       "      <td>True</td>\n",
       "      <td>True</td>\n",
       "      <td>True</td>\n",
       "      <td>Lakshadweep</td>\n",
       "      <td>10.562573</td>\n",
       "      <td>72.636867</td>\n",
       "      <td>POINT (72.63686717 10.56257331)</td>\n",
       "    </tr>\n",
       "    <tr>\n",
       "      <th>959</th>\n",
       "      <td>\\nஜெயலலிதா உயிருடன் இருந்த போது அவருடனேயே இருந...</td>\n",
       "      <td>NaT</td>\n",
       "      <td>கிருஷ்ணப்ரியா</td>\n",
       "      <td>விவேக் 3 பேருமே போயஸ் கார்டனில் வளர்ந்தவர்கள்...</td>\n",
       "      <td>NaN</td>\n",
       "      <td>NaT</td>\n",
       "      <td>NaN</td>\n",
       "      <td>&lt;NA&gt;</td>\n",
       "      <td>&lt;NA&gt;</td>\n",
       "      <td>&lt;NA&gt;</td>\n",
       "      <td>&lt;NA&gt;</td>\n",
       "      <td>NaN</td>\n",
       "      <td>True</td>\n",
       "      <td>True</td>\n",
       "      <td>True</td>\n",
       "      <td>Sikkim</td>\n",
       "      <td>27.333330</td>\n",
       "      <td>88.616647</td>\n",
       "      <td>POINT (88.6166475 27.3333303)</td>\n",
       "    </tr>\n",
       "    <tr>\n",
       "      <th>...</th>\n",
       "      <td>...</td>\n",
       "      <td>...</td>\n",
       "      <td>...</td>\n",
       "      <td>...</td>\n",
       "      <td>...</td>\n",
       "      <td>...</td>\n",
       "      <td>...</td>\n",
       "      <td>...</td>\n",
       "      <td>...</td>\n",
       "      <td>...</td>\n",
       "      <td>...</td>\n",
       "      <td>...</td>\n",
       "      <td>...</td>\n",
       "      <td>...</td>\n",
       "      <td>...</td>\n",
       "      <td>...</td>\n",
       "      <td>...</td>\n",
       "      <td>...</td>\n",
       "      <td>...</td>\n",
       "    </tr>\n",
       "    <tr>\n",
       "      <th>37935</th>\n",
       "      <td>Current affairs  playlist-</td>\n",
       "      <td>NaT</td>\n",
       "      <td>NaN</td>\n",
       "      <td>NaN</td>\n",
       "      <td>NaN</td>\n",
       "      <td>NaT</td>\n",
       "      <td>NaN</td>\n",
       "      <td>&lt;NA&gt;</td>\n",
       "      <td>&lt;NA&gt;</td>\n",
       "      <td>&lt;NA&gt;</td>\n",
       "      <td>&lt;NA&gt;</td>\n",
       "      <td>NaN</td>\n",
       "      <td>True</td>\n",
       "      <td>True</td>\n",
       "      <td>True</td>\n",
       "      <td>Tripura</td>\n",
       "      <td>23.835404</td>\n",
       "      <td>91.279999</td>\n",
       "      <td>POINT (91.27999914 23.83540428)</td>\n",
       "    </tr>\n",
       "    <tr>\n",
       "      <th>37936</th>\n",
       "      <td>https://www.youtube.com/watch?v=ZFy9-nslWQk&amp;li...</td>\n",
       "      <td>NaT</td>\n",
       "      <td>NaN</td>\n",
       "      <td>NaN</td>\n",
       "      <td>NaN</td>\n",
       "      <td>NaT</td>\n",
       "      <td>NaN</td>\n",
       "      <td>&lt;NA&gt;</td>\n",
       "      <td>&lt;NA&gt;</td>\n",
       "      <td>&lt;NA&gt;</td>\n",
       "      <td>&lt;NA&gt;</td>\n",
       "      <td>NaN</td>\n",
       "      <td>True</td>\n",
       "      <td>True</td>\n",
       "      <td>True</td>\n",
       "      <td>Maharashtra</td>\n",
       "      <td>19.250232</td>\n",
       "      <td>73.160175</td>\n",
       "      <td>POINT (73.16017493 19.25023195)</td>\n",
       "    </tr>\n",
       "    <tr>\n",
       "      <th>38480</th>\n",
       "      <td>Subscribe to WWE on YouTube: http://bit.ly/1i6...</td>\n",
       "      <td>NaT</td>\n",
       "      <td>NaN</td>\n",
       "      <td>NaN</td>\n",
       "      <td>NaN</td>\n",
       "      <td>NaT</td>\n",
       "      <td>NaN</td>\n",
       "      <td>&lt;NA&gt;</td>\n",
       "      <td>&lt;NA&gt;</td>\n",
       "      <td>&lt;NA&gt;</td>\n",
       "      <td>&lt;NA&gt;</td>\n",
       "      <td>NaN</td>\n",
       "      <td>True</td>\n",
       "      <td>True</td>\n",
       "      <td>True</td>\n",
       "      <td>Madhya Pradesh</td>\n",
       "      <td>21.300391</td>\n",
       "      <td>76.130019</td>\n",
       "      <td>POINT (76.13001949 21.30039105)</td>\n",
       "    </tr>\n",
       "    <tr>\n",
       "      <th>38481</th>\n",
       "      <td>Visit WWE.com: http://goo.gl/akf0J4</td>\n",
       "      <td>NaT</td>\n",
       "      <td>NaN</td>\n",
       "      <td>NaN</td>\n",
       "      <td>NaN</td>\n",
       "      <td>NaT</td>\n",
       "      <td>NaN</td>\n",
       "      <td>&lt;NA&gt;</td>\n",
       "      <td>&lt;NA&gt;</td>\n",
       "      <td>&lt;NA&gt;</td>\n",
       "      <td>&lt;NA&gt;</td>\n",
       "      <td>NaN</td>\n",
       "      <td>True</td>\n",
       "      <td>True</td>\n",
       "      <td>True</td>\n",
       "      <td>Delhi</td>\n",
       "      <td>28.669993</td>\n",
       "      <td>77.230004</td>\n",
       "      <td>POINT (77.23000403 28.6699929)</td>\n",
       "    </tr>\n",
       "    <tr>\n",
       "      <th>38482</th>\n",
       "      <td>Must-See WWE videos on YouTube: https://goo.gl...</td>\n",
       "      <td>NaT</td>\n",
       "      <td>NaN</td>\n",
       "      <td>NaN</td>\n",
       "      <td>NaN</td>\n",
       "      <td>NaT</td>\n",
       "      <td>NaN</td>\n",
       "      <td>&lt;NA&gt;</td>\n",
       "      <td>&lt;NA&gt;</td>\n",
       "      <td>&lt;NA&gt;</td>\n",
       "      <td>&lt;NA&gt;</td>\n",
       "      <td>NaN</td>\n",
       "      <td>True</td>\n",
       "      <td>True</td>\n",
       "      <td>True</td>\n",
       "      <td>Meghalaya</td>\n",
       "      <td>25.570492</td>\n",
       "      <td>91.880014</td>\n",
       "      <td>POINT (91.88001420000001 25.57049217)</td>\n",
       "    </tr>\n",
       "  </tbody>\n",
       "</table>\n",
       "<p>231 rows × 19 columns</p>\n",
       "</div>"
      ],
      "text/plain": [
       "                                                video_id trending_date  \\\n",
       "116    \\nசசிகலா மூலம் போயஸ்கார்டனுக்குள் போய் அதிகாரம...           NaT   \n",
       "117    \\nஇளவரசியின் மகன் விவேக் தலையெடுத்து இரண்டு ஆண...           NaT   \n",
       "119    \\n Ilavarasi's son Vivek is facing a severe cr...           NaT   \n",
       "586    \\nഇന്ത്യന്‍ സിനിമാ ആരാധകരെ മുഴുവന്‍ കോരിത്തരിപ...           NaT   \n",
       "959    \\nஜெயலலிதா உயிருடன் இருந்த போது அவருடனேயே இருந...           NaT   \n",
       "...                                                  ...           ...   \n",
       "37935                         Current affairs  playlist-           NaT   \n",
       "37936  https://www.youtube.com/watch?v=ZFy9-nslWQk&li...           NaT   \n",
       "38480  Subscribe to WWE on YouTube: http://bit.ly/1i6...           NaT   \n",
       "38481                Visit WWE.com: http://goo.gl/akf0J4           NaT   \n",
       "38482  Must-See WWE videos on YouTube: https://goo.gl...           NaT   \n",
       "\n",
       "                                                   title  \\\n",
       "116                                     டி.டி.வி.தினகரன்   \n",
       "117     ஜெயலலிதாவின் ஹைதராபாத் திராட்சைத் தோட்டத்தைக்...   \n",
       "119                                                  NaN   \n",
       "586                                              Support   \n",
       "959                                        கிருஷ்ணப்ரியா   \n",
       "...                                                  ...   \n",
       "37935                                                NaN   \n",
       "37936                                                NaN   \n",
       "38480                                                NaN   \n",
       "38481                                                NaN   \n",
       "38482                                                NaN   \n",
       "\n",
       "                                           channel_title  \\\n",
       "116                                             பாஸ்கரன்   \n",
       "117                                         தனது மகள்கள்   \n",
       "119                                                  NaN   \n",
       "586     Subscribe▬▬▬▬▬▬▬▬▬\\n♥ subscribe : https://goo...   \n",
       "959     விவேக் 3 பேருமே போயஸ் கார்டனில் வளர்ந்தவர்கள்...   \n",
       "...                                                  ...   \n",
       "37935                                                NaN   \n",
       "37936                                                NaN   \n",
       "38480                                                NaN   \n",
       "38481                                                NaN   \n",
       "38482                                                NaN   \n",
       "\n",
       "                                             category_id publish_time  \\\n",
       "116                                             சுதாகரன்          NaT   \n",
       "117    மகனோடு போயஸ்தோட்டத்தில் தஞ்சமடைந்தார் இளவரசி. ...          NaT   \n",
       "119                                                  NaN          NaT   \n",
       "586                                                  NaN          NaT   \n",
       "959                                                  NaN          NaT   \n",
       "...                                                  ...          ...   \n",
       "37935                                                NaN          NaT   \n",
       "37936                                                NaN          NaT   \n",
       "38480                                                NaN          NaT   \n",
       "38481                                                NaN          NaT   \n",
       "38482                                                NaN          NaT   \n",
       "\n",
       "                                        tags  views  likes  dislikes  \\\n",
       "116                            குலோத்துங்கன்   <NA>   <NA>      <NA>   \n",
       "117     2014ஆம் ஆண்டு அங்கிருந்து விலகினார்.   <NA>   <NA>      <NA>   \n",
       "119                                      NaN   <NA>   <NA>      <NA>   \n",
       "586                                      NaN   <NA>   <NA>      <NA>   \n",
       "959                                      NaN   <NA>   <NA>      <NA>   \n",
       "...                                      ...    ...    ...       ...   \n",
       "37935                                    NaN   <NA>   <NA>      <NA>   \n",
       "37936                                    NaN   <NA>   <NA>      <NA>   \n",
       "38480                                    NaN   <NA>   <NA>      <NA>   \n",
       "38481                                    NaN   <NA>   <NA>      <NA>   \n",
       "38482                                    NaN   <NA>   <NA>      <NA>   \n",
       "\n",
       "       comment_count thumbnail_link  comments_disabled  ratings_disabled  \\\n",
       "116             <NA>            NaN               True              True   \n",
       "117             <NA>            NaN               True              True   \n",
       "119             <NA>            NaN               True              True   \n",
       "586             <NA>            NaN               True              True   \n",
       "959             <NA>            NaN               True              True   \n",
       "...              ...            ...                ...               ...   \n",
       "37935           <NA>            NaN               True              True   \n",
       "37936           <NA>            NaN               True              True   \n",
       "38480           <NA>            NaN               True              True   \n",
       "38481           <NA>            NaN               True              True   \n",
       "38482           <NA>            NaN               True              True   \n",
       "\n",
       "       video_error_or_removed           state        lat        lon  \\\n",
       "116                      True           Delhi  28.669993  77.230004   \n",
       "117                      True     Uttaranchal  30.320409  78.050006   \n",
       "119                      True             Goa  15.491997  73.818001   \n",
       "586                      True     Lakshadweep  10.562573  72.636867   \n",
       "959                      True          Sikkim  27.333330  88.616647   \n",
       "...                       ...             ...        ...        ...   \n",
       "37935                    True         Tripura  23.835404  91.279999   \n",
       "37936                    True     Maharashtra  19.250232  73.160175   \n",
       "38480                    True  Madhya Pradesh  21.300391  76.130019   \n",
       "38481                    True           Delhi  28.669993  77.230004   \n",
       "38482                    True       Meghalaya  25.570492  91.880014   \n",
       "\n",
       "                                    geometry  \n",
       "116           POINT (77.23000403 28.6699929)  \n",
       "117          POINT (78.05000565 30.32040895)  \n",
       "119            POINT (73.81800065 15.491997)  \n",
       "586          POINT (72.63686717 10.56257331)  \n",
       "959            POINT (88.6166475 27.3333303)  \n",
       "...                                      ...  \n",
       "37935        POINT (91.27999914 23.83540428)  \n",
       "37936        POINT (73.16017493 19.25023195)  \n",
       "38480        POINT (76.13001949 21.30039105)  \n",
       "38481         POINT (77.23000403 28.6699929)  \n",
       "38482  POINT (91.88001420000001 25.57049217)  \n",
       "\n",
       "[231 rows x 19 columns]"
      ]
     },
     "execution_count": 154,
     "metadata": {},
     "output_type": "execute_result"
    }
   ],
   "source": [
    "data[data.isnull().any(axis=1)]"
   ]
  },
  {
   "cell_type": "code",
   "execution_count": 155,
   "metadata": {},
   "outputs": [
    {
     "name": "stdout",
     "output_type": "stream",
     "text": [
      "<class 'pandas.core.frame.DataFrame'>\n",
      "Int64Index: 231 entries, 116 to 38482\n",
      "Data columns (total 19 columns):\n",
      " #   Column                  Non-Null Count  Dtype              \n",
      "---  ------                  --------------  -----              \n",
      " 0   video_id                231 non-null    object             \n",
      " 1   trending_date           0 non-null      datetime64[ns]     \n",
      " 2   title                   72 non-null     object             \n",
      " 3   channel_title           35 non-null     object             \n",
      " 4   category_id             19 non-null     object             \n",
      " 5   publish_time            0 non-null      datetime64[ns, UTC]\n",
      " 6   tags                    8 non-null      object             \n",
      " 7   views                   0 non-null      Int64              \n",
      " 8   likes                   0 non-null      Int64              \n",
      " 9   dislikes                0 non-null      Int64              \n",
      " 10  comment_count           0 non-null      Int64              \n",
      " 11  thumbnail_link          0 non-null      object             \n",
      " 12  comments_disabled       231 non-null    bool               \n",
      " 13  ratings_disabled        231 non-null    bool               \n",
      " 14  video_error_or_removed  231 non-null    bool               \n",
      " 15  state                   231 non-null    object             \n",
      " 16  lat                     231 non-null    float64            \n",
      " 17  lon                     231 non-null    float64            \n",
      " 18  geometry                231 non-null    object             \n",
      "dtypes: Int64(4), bool(3), datetime64[ns, UTC](1), datetime64[ns](1), float64(2), object(8)\n",
      "memory usage: 32.3+ KB\n"
     ]
    }
   ],
   "source": [
    "data[data.isnull().any(axis=1)].info()"
   ]
  },
  {
   "cell_type": "markdown",
   "metadata": {},
   "source": [
    "Por ultimo eliminamos los datos que tengan NA en \"publish_time\" y \"trending_date\""
   ]
  },
  {
   "cell_type": "code",
   "execution_count": 156,
   "metadata": {},
   "outputs": [],
   "source": [
    "data.dropna(subset=[\"publish_time\",\"trending_date\"],inplace=True)"
   ]
  },
  {
   "cell_type": "code",
   "execution_count": 157,
   "metadata": {},
   "outputs": [
    {
     "data": {
      "text/html": [
       "<div>\n",
       "<style scoped>\n",
       "    .dataframe tbody tr th:only-of-type {\n",
       "        vertical-align: middle;\n",
       "    }\n",
       "\n",
       "    .dataframe tbody tr th {\n",
       "        vertical-align: top;\n",
       "    }\n",
       "\n",
       "    .dataframe thead th {\n",
       "        text-align: right;\n",
       "    }\n",
       "</style>\n",
       "<table border=\"1\" class=\"dataframe\">\n",
       "  <thead>\n",
       "    <tr style=\"text-align: right;\">\n",
       "      <th></th>\n",
       "      <th>video_id</th>\n",
       "      <th>trending_date</th>\n",
       "      <th>title</th>\n",
       "      <th>channel_title</th>\n",
       "      <th>category_id</th>\n",
       "      <th>publish_time</th>\n",
       "      <th>tags</th>\n",
       "      <th>views</th>\n",
       "      <th>likes</th>\n",
       "      <th>dislikes</th>\n",
       "      <th>comment_count</th>\n",
       "      <th>thumbnail_link</th>\n",
       "      <th>comments_disabled</th>\n",
       "      <th>ratings_disabled</th>\n",
       "      <th>video_error_or_removed</th>\n",
       "      <th>state</th>\n",
       "      <th>lat</th>\n",
       "      <th>lon</th>\n",
       "      <th>geometry</th>\n",
       "    </tr>\n",
       "  </thead>\n",
       "  <tbody>\n",
       "  </tbody>\n",
       "</table>\n",
       "</div>"
      ],
      "text/plain": [
       "Empty DataFrame\n",
       "Columns: [video_id, trending_date, title, channel_title, category_id, publish_time, tags, views, likes, dislikes, comment_count, thumbnail_link, comments_disabled, ratings_disabled, video_error_or_removed, state, lat, lon, geometry]\n",
       "Index: []"
      ]
     },
     "execution_count": 157,
     "metadata": {},
     "output_type": "execute_result"
    }
   ],
   "source": [
    "data[data.isnull().any(axis=1)]"
   ]
  },
  {
   "cell_type": "markdown",
   "metadata": {},
   "source": [
    "### Datos procesados"
   ]
  },
  {
   "cell_type": "code",
   "execution_count": 158,
   "metadata": {},
   "outputs": [
    {
     "data": {
      "text/html": [
       "<div>\n",
       "<style scoped>\n",
       "    .dataframe tbody tr th:only-of-type {\n",
       "        vertical-align: middle;\n",
       "    }\n",
       "\n",
       "    .dataframe tbody tr th {\n",
       "        vertical-align: top;\n",
       "    }\n",
       "\n",
       "    .dataframe thead th {\n",
       "        text-align: right;\n",
       "    }\n",
       "</style>\n",
       "<table border=\"1\" class=\"dataframe\">\n",
       "  <thead>\n",
       "    <tr style=\"text-align: right;\">\n",
       "      <th></th>\n",
       "      <th>video_id</th>\n",
       "      <th>trending_date</th>\n",
       "      <th>title</th>\n",
       "      <th>channel_title</th>\n",
       "      <th>category_id</th>\n",
       "      <th>publish_time</th>\n",
       "      <th>tags</th>\n",
       "      <th>views</th>\n",
       "      <th>likes</th>\n",
       "      <th>dislikes</th>\n",
       "      <th>comment_count</th>\n",
       "      <th>thumbnail_link</th>\n",
       "      <th>comments_disabled</th>\n",
       "      <th>ratings_disabled</th>\n",
       "      <th>video_error_or_removed</th>\n",
       "      <th>state</th>\n",
       "      <th>lat</th>\n",
       "      <th>lon</th>\n",
       "      <th>geometry</th>\n",
       "    </tr>\n",
       "  </thead>\n",
       "  <tbody>\n",
       "    <tr>\n",
       "      <th>0</th>\n",
       "      <td>kzwfHumJyYc</td>\n",
       "      <td>2017-11-14</td>\n",
       "      <td>Sharry Mann: Cute Munda ( Song Teaser) | Parmi...</td>\n",
       "      <td>Lokdhun Punjabi</td>\n",
       "      <td>1</td>\n",
       "      <td>2017-11-12 12:20:39+00:00</td>\n",
       "      <td>sharry mann|\"sharry mann new song\"|\"sharry man...</td>\n",
       "      <td>1096327</td>\n",
       "      <td>33966</td>\n",
       "      <td>798</td>\n",
       "      <td>882</td>\n",
       "      <td>https://i.ytimg.com/vi/kzwfHumJyYc/default.jpg</td>\n",
       "      <td>False</td>\n",
       "      <td>False</td>\n",
       "      <td>False</td>\n",
       "      <td>Arunachal Pradesh</td>\n",
       "      <td>27.100399</td>\n",
       "      <td>93.616601</td>\n",
       "      <td>POINT (93.61660071 27.10039878)</td>\n",
       "    </tr>\n",
       "    <tr>\n",
       "      <th>1</th>\n",
       "      <td>zUZ1z7FwLc8</td>\n",
       "      <td>2017-11-14</td>\n",
       "      <td>पीरियड्स के समय, पेट पर पति करता ऐसा, देखकर दं...</td>\n",
       "      <td>HJ NEWS</td>\n",
       "      <td>25</td>\n",
       "      <td>2017-11-13 05:43:56+00:00</td>\n",
       "      <td>पीरियड्स के समय|\"पेट पर पति करता ऐसा\"|\"देखकर द...</td>\n",
       "      <td>590101</td>\n",
       "      <td>735</td>\n",
       "      <td>904</td>\n",
       "      <td>0</td>\n",
       "      <td>https://i.ytimg.com/vi/zUZ1z7FwLc8/default.jpg</td>\n",
       "      <td>True</td>\n",
       "      <td>False</td>\n",
       "      <td>False</td>\n",
       "      <td>Arunachal Pradesh</td>\n",
       "      <td>27.100399</td>\n",
       "      <td>93.616601</td>\n",
       "      <td>POINT (93.61660071 27.10039878)</td>\n",
       "    </tr>\n",
       "    <tr>\n",
       "      <th>2</th>\n",
       "      <td>10L1hZ9qa58</td>\n",
       "      <td>2017-11-14</td>\n",
       "      <td>Stylish Star Allu Arjun @ ChaySam Wedding Rece...</td>\n",
       "      <td>TFPC</td>\n",
       "      <td>24</td>\n",
       "      <td>2017-11-12 15:48:08+00:00</td>\n",
       "      <td>Stylish Star Allu Arjun @ ChaySam Wedding Rece...</td>\n",
       "      <td>473988</td>\n",
       "      <td>2011</td>\n",
       "      <td>243</td>\n",
       "      <td>149</td>\n",
       "      <td>https://i.ytimg.com/vi/10L1hZ9qa58/default.jpg</td>\n",
       "      <td>False</td>\n",
       "      <td>False</td>\n",
       "      <td>False</td>\n",
       "      <td>Dadra And Nagar Haveli</td>\n",
       "      <td>20.266578</td>\n",
       "      <td>73.016618</td>\n",
       "      <td>POINT (73.01661780000001 20.26657819)</td>\n",
       "    </tr>\n",
       "    <tr>\n",
       "      <th>3</th>\n",
       "      <td>N1vE8iiEg64</td>\n",
       "      <td>2017-11-14</td>\n",
       "      <td>Eruma Saani | Tamil vs English</td>\n",
       "      <td>Eruma Saani</td>\n",
       "      <td>23</td>\n",
       "      <td>2017-11-12 07:08:48+00:00</td>\n",
       "      <td>Eruma Saani|\"Tamil Comedy Videos\"|\"Films\"|\"Mov...</td>\n",
       "      <td>1242680</td>\n",
       "      <td>70353</td>\n",
       "      <td>1624</td>\n",
       "      <td>2684</td>\n",
       "      <td>https://i.ytimg.com/vi/N1vE8iiEg64/default.jpg</td>\n",
       "      <td>False</td>\n",
       "      <td>False</td>\n",
       "      <td>False</td>\n",
       "      <td>Nagaland</td>\n",
       "      <td>25.666998</td>\n",
       "      <td>94.116570</td>\n",
       "      <td>POINT (94.11657019 25.6669979)</td>\n",
       "    </tr>\n",
       "    <tr>\n",
       "      <th>4</th>\n",
       "      <td>kJzGH0PVQHQ</td>\n",
       "      <td>2017-11-14</td>\n",
       "      <td>why Samantha became EMOTIONAL @ Samantha naga ...</td>\n",
       "      <td>Filmylooks</td>\n",
       "      <td>24</td>\n",
       "      <td>2017-11-13 01:14:16+00:00</td>\n",
       "      <td>Filmylooks|\"latest news\"|\"telugu movies\"|\"telu...</td>\n",
       "      <td>464015</td>\n",
       "      <td>492</td>\n",
       "      <td>293</td>\n",
       "      <td>66</td>\n",
       "      <td>https://i.ytimg.com/vi/kJzGH0PVQHQ/default.jpg</td>\n",
       "      <td>False</td>\n",
       "      <td>False</td>\n",
       "      <td>False</td>\n",
       "      <td>Himachal Pradesh</td>\n",
       "      <td>31.100025</td>\n",
       "      <td>77.166597</td>\n",
       "      <td>POINT (77.16659704 31.10002545)</td>\n",
       "    </tr>\n",
       "  </tbody>\n",
       "</table>\n",
       "</div>"
      ],
      "text/plain": [
       "      video_id trending_date  \\\n",
       "0  kzwfHumJyYc    2017-11-14   \n",
       "1  zUZ1z7FwLc8    2017-11-14   \n",
       "2  10L1hZ9qa58    2017-11-14   \n",
       "3  N1vE8iiEg64    2017-11-14   \n",
       "4  kJzGH0PVQHQ    2017-11-14   \n",
       "\n",
       "                                               title    channel_title  \\\n",
       "0  Sharry Mann: Cute Munda ( Song Teaser) | Parmi...  Lokdhun Punjabi   \n",
       "1  पीरियड्स के समय, पेट पर पति करता ऐसा, देखकर दं...          HJ NEWS   \n",
       "2  Stylish Star Allu Arjun @ ChaySam Wedding Rece...             TFPC   \n",
       "3                     Eruma Saani | Tamil vs English      Eruma Saani   \n",
       "4  why Samantha became EMOTIONAL @ Samantha naga ...       Filmylooks   \n",
       "\n",
       "  category_id              publish_time  \\\n",
       "0           1 2017-11-12 12:20:39+00:00   \n",
       "1          25 2017-11-13 05:43:56+00:00   \n",
       "2          24 2017-11-12 15:48:08+00:00   \n",
       "3          23 2017-11-12 07:08:48+00:00   \n",
       "4          24 2017-11-13 01:14:16+00:00   \n",
       "\n",
       "                                                tags    views  likes  \\\n",
       "0  sharry mann|\"sharry mann new song\"|\"sharry man...  1096327  33966   \n",
       "1  पीरियड्स के समय|\"पेट पर पति करता ऐसा\"|\"देखकर द...   590101    735   \n",
       "2  Stylish Star Allu Arjun @ ChaySam Wedding Rece...   473988   2011   \n",
       "3  Eruma Saani|\"Tamil Comedy Videos\"|\"Films\"|\"Mov...  1242680  70353   \n",
       "4  Filmylooks|\"latest news\"|\"telugu movies\"|\"telu...   464015    492   \n",
       "\n",
       "   dislikes  comment_count                                  thumbnail_link  \\\n",
       "0       798            882  https://i.ytimg.com/vi/kzwfHumJyYc/default.jpg   \n",
       "1       904              0  https://i.ytimg.com/vi/zUZ1z7FwLc8/default.jpg   \n",
       "2       243            149  https://i.ytimg.com/vi/10L1hZ9qa58/default.jpg   \n",
       "3      1624           2684  https://i.ytimg.com/vi/N1vE8iiEg64/default.jpg   \n",
       "4       293             66  https://i.ytimg.com/vi/kJzGH0PVQHQ/default.jpg   \n",
       "\n",
       "   comments_disabled  ratings_disabled  video_error_or_removed  \\\n",
       "0              False             False                   False   \n",
       "1               True             False                   False   \n",
       "2              False             False                   False   \n",
       "3              False             False                   False   \n",
       "4              False             False                   False   \n",
       "\n",
       "                    state        lat        lon  \\\n",
       "0       Arunachal Pradesh  27.100399  93.616601   \n",
       "1       Arunachal Pradesh  27.100399  93.616601   \n",
       "2  Dadra And Nagar Haveli  20.266578  73.016618   \n",
       "3                Nagaland  25.666998  94.116570   \n",
       "4        Himachal Pradesh  31.100025  77.166597   \n",
       "\n",
       "                                geometry  \n",
       "0        POINT (93.61660071 27.10039878)  \n",
       "1        POINT (93.61660071 27.10039878)  \n",
       "2  POINT (73.01661780000001 20.26657819)  \n",
       "3         POINT (94.11657019 25.6669979)  \n",
       "4        POINT (77.16659704 31.10002545)  "
      ]
     },
     "execution_count": 158,
     "metadata": {},
     "output_type": "execute_result"
    }
   ],
   "source": [
    "data.head()"
   ]
  },
  {
   "cell_type": "code",
   "execution_count": 159,
   "metadata": {},
   "outputs": [
    {
     "name": "stdout",
     "output_type": "stream",
     "text": [
      "<class 'pandas.core.frame.DataFrame'>\n",
      "Int64Index: 33106 entries, 0 to 38532\n",
      "Data columns (total 19 columns):\n",
      " #   Column                  Non-Null Count  Dtype              \n",
      "---  ------                  --------------  -----              \n",
      " 0   video_id                33106 non-null  object             \n",
      " 1   trending_date           33106 non-null  datetime64[ns]     \n",
      " 2   title                   33106 non-null  object             \n",
      " 3   channel_title           33106 non-null  object             \n",
      " 4   category_id             33106 non-null  object             \n",
      " 5   publish_time            33106 non-null  datetime64[ns, UTC]\n",
      " 6   tags                    33106 non-null  object             \n",
      " 7   views                   33106 non-null  Int64              \n",
      " 8   likes                   33106 non-null  Int64              \n",
      " 9   dislikes                33106 non-null  Int64              \n",
      " 10  comment_count           33106 non-null  Int64              \n",
      " 11  thumbnail_link          33106 non-null  object             \n",
      " 12  comments_disabled       33106 non-null  bool               \n",
      " 13  ratings_disabled        33106 non-null  bool               \n",
      " 14  video_error_or_removed  33106 non-null  bool               \n",
      " 15  state                   33106 non-null  object             \n",
      " 16  lat                     33106 non-null  float64            \n",
      " 17  lon                     33106 non-null  float64            \n",
      " 18  geometry                33106 non-null  object             \n",
      "dtypes: Int64(4), bool(3), datetime64[ns, UTC](1), datetime64[ns](1), float64(2), object(8)\n",
      "memory usage: 4.5+ MB\n"
     ]
    }
   ],
   "source": [
    "data.info()"
   ]
  },
  {
   "cell_type": "code",
   "execution_count": 160,
   "metadata": {},
   "outputs": [
    {
     "data": {
      "text/html": [
       "<div>\n",
       "<style scoped>\n",
       "    .dataframe tbody tr th:only-of-type {\n",
       "        vertical-align: middle;\n",
       "    }\n",
       "\n",
       "    .dataframe tbody tr th {\n",
       "        vertical-align: top;\n",
       "    }\n",
       "\n",
       "    .dataframe thead th {\n",
       "        text-align: right;\n",
       "    }\n",
       "</style>\n",
       "<table border=\"1\" class=\"dataframe\">\n",
       "  <thead>\n",
       "    <tr style=\"text-align: right;\">\n",
       "      <th></th>\n",
       "      <th>views</th>\n",
       "      <th>likes</th>\n",
       "      <th>dislikes</th>\n",
       "      <th>comment_count</th>\n",
       "      <th>lat</th>\n",
       "      <th>lon</th>\n",
       "    </tr>\n",
       "  </thead>\n",
       "  <tbody>\n",
       "    <tr>\n",
       "      <th>count</th>\n",
       "      <td>3.310600e+04</td>\n",
       "      <td>3.310600e+04</td>\n",
       "      <td>3.310600e+04</td>\n",
       "      <td>33106.000000</td>\n",
       "      <td>33106.000000</td>\n",
       "      <td>33106.000000</td>\n",
       "    </tr>\n",
       "    <tr>\n",
       "      <th>mean</th>\n",
       "      <td>9.936712e+05</td>\n",
       "      <td>2.550963e+04</td>\n",
       "      <td>1.571959e+03</td>\n",
       "      <td>2518.346433</td>\n",
       "      <td>22.671406</td>\n",
       "      <td>82.113516</td>\n",
       "    </tr>\n",
       "    <tr>\n",
       "      <th>std</th>\n",
       "      <td>3.140401e+06</td>\n",
       "      <td>9.626428e+04</td>\n",
       "      <td>1.688946e+04</td>\n",
       "      <td>14760.556050</td>\n",
       "      <td>6.819211</td>\n",
       "      <td>7.448237</td>\n",
       "    </tr>\n",
       "    <tr>\n",
       "      <th>min</th>\n",
       "      <td>4.024000e+03</td>\n",
       "      <td>0.000000e+00</td>\n",
       "      <td>0.000000e+00</td>\n",
       "      <td>0.000000</td>\n",
       "      <td>8.900373</td>\n",
       "      <td>72.636867</td>\n",
       "    </tr>\n",
       "    <tr>\n",
       "      <th>25%</th>\n",
       "      <td>1.125612e+05</td>\n",
       "      <td>7.860000e+02</td>\n",
       "      <td>9.700000e+01</td>\n",
       "      <td>72.000000</td>\n",
       "      <td>19.250232</td>\n",
       "      <td>76.569993</td>\n",
       "    </tr>\n",
       "    <tr>\n",
       "      <th>50%</th>\n",
       "      <td>2.745020e+05</td>\n",
       "      <td>2.751000e+03</td>\n",
       "      <td>2.890000e+02</td>\n",
       "      <td>297.000000</td>\n",
       "      <td>23.835404</td>\n",
       "      <td>78.570026</td>\n",
       "    </tr>\n",
       "    <tr>\n",
       "      <th>75%</th>\n",
       "      <td>7.307798e+05</td>\n",
       "      <td>1.199475e+04</td>\n",
       "      <td>9.300000e+02</td>\n",
       "      <td>1165.750000</td>\n",
       "      <td>27.333330</td>\n",
       "      <td>88.616647</td>\n",
       "    </tr>\n",
       "    <tr>\n",
       "      <th>max</th>\n",
       "      <td>1.254322e+08</td>\n",
       "      <td>2.912710e+06</td>\n",
       "      <td>1.545017e+06</td>\n",
       "      <td>827755.000000</td>\n",
       "      <td>34.299959</td>\n",
       "      <td>94.216667</td>\n",
       "    </tr>\n",
       "  </tbody>\n",
       "</table>\n",
       "</div>"
      ],
      "text/plain": [
       "              views         likes      dislikes  comment_count           lat  \\\n",
       "count  3.310600e+04  3.310600e+04  3.310600e+04   33106.000000  33106.000000   \n",
       "mean   9.936712e+05  2.550963e+04  1.571959e+03    2518.346433     22.671406   \n",
       "std    3.140401e+06  9.626428e+04  1.688946e+04   14760.556050      6.819211   \n",
       "min    4.024000e+03  0.000000e+00  0.000000e+00       0.000000      8.900373   \n",
       "25%    1.125612e+05  7.860000e+02  9.700000e+01      72.000000     19.250232   \n",
       "50%    2.745020e+05  2.751000e+03  2.890000e+02     297.000000     23.835404   \n",
       "75%    7.307798e+05  1.199475e+04  9.300000e+02    1165.750000     27.333330   \n",
       "max    1.254322e+08  2.912710e+06  1.545017e+06  827755.000000     34.299959   \n",
       "\n",
       "                lon  \n",
       "count  33106.000000  \n",
       "mean      82.113516  \n",
       "std        7.448237  \n",
       "min       72.636867  \n",
       "25%       76.569993  \n",
       "50%       78.570026  \n",
       "75%       88.616647  \n",
       "max       94.216667  "
      ]
     },
     "execution_count": 160,
     "metadata": {},
     "output_type": "execute_result"
    }
   ],
   "source": [
    "data.describe()"
   ]
  },
  {
   "cell_type": "code",
   "execution_count": 161,
   "metadata": {},
   "outputs": [
    {
     "name": "stdout",
     "output_type": "stream",
     "text": [
      "<class 'pandas.core.frame.DataFrame'>\n",
      "RangeIndex: 31 entries, 0 to 30\n",
      "Data columns (total 6 columns):\n",
      " #   Column              Non-Null Count  Dtype   \n",
      "---  ------              --------------  -----   \n",
      " 0   kind                31 non-null     object  \n",
      " 1   etag                31 non-null     object  \n",
      " 2   id                  31 non-null     object  \n",
      " 3   snippet.channelId   31 non-null     object  \n",
      " 4   snippet.title       31 non-null     category\n",
      " 5   snippet.assignable  31 non-null     bool    \n",
      "dtypes: bool(1), category(1), object(4)\n",
      "memory usage: 2.4+ KB\n"
     ]
    }
   ],
   "source": [
    "categories.info()"
   ]
  },
  {
   "cell_type": "markdown",
   "metadata": {},
   "source": [
    "### Requerimientos"
   ]
  },
  {
   "cell_type": "markdown",
   "metadata": {},
   "source": [
    "#### Por Categoría de Videos"
   ]
  },
  {
   "cell_type": "code",
   "execution_count": 162,
   "metadata": {},
   "outputs": [
    {
     "data": {
      "text/plain": [
       "array(['video_id', 'trending_date', 'title', 'channel_title',\n",
       "       'category_id', 'publish_time', 'tags', 'views', 'likes',\n",
       "       'dislikes', 'comment_count', 'thumbnail_link', 'comments_disabled',\n",
       "       'ratings_disabled', 'video_error_or_removed', 'state', 'lat',\n",
       "       'lon', 'geometry'], dtype=object)"
      ]
     },
     "execution_count": 162,
     "metadata": {},
     "output_type": "execute_result"
    }
   ],
   "source": [
    "data.columns.values"
   ]
  },
  {
   "cell_type": "code",
   "execution_count": 163,
   "metadata": {},
   "outputs": [
    {
     "data": {
      "text/html": [
       "<div>\n",
       "<style scoped>\n",
       "    .dataframe tbody tr th:only-of-type {\n",
       "        vertical-align: middle;\n",
       "    }\n",
       "\n",
       "    .dataframe tbody tr th {\n",
       "        vertical-align: top;\n",
       "    }\n",
       "\n",
       "    .dataframe thead th {\n",
       "        text-align: right;\n",
       "    }\n",
       "</style>\n",
       "<table border=\"1\" class=\"dataframe\">\n",
       "  <thead>\n",
       "    <tr style=\"text-align: right;\">\n",
       "      <th></th>\n",
       "      <th>video_id</th>\n",
       "      <th>trending_date</th>\n",
       "      <th>title</th>\n",
       "      <th>channel_title</th>\n",
       "      <th>category_id</th>\n",
       "      <th>publish_time</th>\n",
       "      <th>tags</th>\n",
       "      <th>views</th>\n",
       "      <th>likes</th>\n",
       "      <th>dislikes</th>\n",
       "      <th>...</th>\n",
       "      <th>video_error_or_removed</th>\n",
       "      <th>state</th>\n",
       "      <th>lat</th>\n",
       "      <th>lon</th>\n",
       "      <th>geometry</th>\n",
       "      <th>kind</th>\n",
       "      <th>etag</th>\n",
       "      <th>snippet.channelId</th>\n",
       "      <th>snippet.title</th>\n",
       "      <th>snippet.assignable</th>\n",
       "    </tr>\n",
       "  </thead>\n",
       "  <tbody>\n",
       "    <tr>\n",
       "      <th>0</th>\n",
       "      <td>kzwfHumJyYc</td>\n",
       "      <td>2017-11-14</td>\n",
       "      <td>Sharry Mann: Cute Munda ( Song Teaser) | Parmi...</td>\n",
       "      <td>Lokdhun Punjabi</td>\n",
       "      <td>1</td>\n",
       "      <td>2017-11-12 12:20:39+00:00</td>\n",
       "      <td>sharry mann|\"sharry mann new song\"|\"sharry man...</td>\n",
       "      <td>1096327</td>\n",
       "      <td>33966</td>\n",
       "      <td>798</td>\n",
       "      <td>...</td>\n",
       "      <td>False</td>\n",
       "      <td>Arunachal Pradesh</td>\n",
       "      <td>27.100399</td>\n",
       "      <td>93.616601</td>\n",
       "      <td>POINT (93.61660071 27.10039878)</td>\n",
       "      <td>youtube#videoCategory</td>\n",
       "      <td>\"XI7nbFXulYBIpL0ayR_gDh3eu1k/Xy1mB4_yLrHy_BmKm...</td>\n",
       "      <td>UCBR8-60-B28hp2BmDPdntcQ</td>\n",
       "      <td>Film &amp; Animation</td>\n",
       "      <td>True</td>\n",
       "    </tr>\n",
       "    <tr>\n",
       "      <th>1</th>\n",
       "      <td>zUZ1z7FwLc8</td>\n",
       "      <td>2017-11-14</td>\n",
       "      <td>पीरियड्स के समय, पेट पर पति करता ऐसा, देखकर दं...</td>\n",
       "      <td>HJ NEWS</td>\n",
       "      <td>25</td>\n",
       "      <td>2017-11-13 05:43:56+00:00</td>\n",
       "      <td>पीरियड्स के समय|\"पेट पर पति करता ऐसा\"|\"देखकर द...</td>\n",
       "      <td>590101</td>\n",
       "      <td>735</td>\n",
       "      <td>904</td>\n",
       "      <td>...</td>\n",
       "      <td>False</td>\n",
       "      <td>Arunachal Pradesh</td>\n",
       "      <td>27.100399</td>\n",
       "      <td>93.616601</td>\n",
       "      <td>POINT (93.61660071 27.10039878)</td>\n",
       "      <td>youtube#videoCategory</td>\n",
       "      <td>\"XI7nbFXulYBIpL0ayR_gDh3eu1k/QiLK0ZIrFoORdk_g2...</td>\n",
       "      <td>UCBR8-60-B28hp2BmDPdntcQ</td>\n",
       "      <td>News &amp; Politics</td>\n",
       "      <td>True</td>\n",
       "    </tr>\n",
       "    <tr>\n",
       "      <th>2</th>\n",
       "      <td>10L1hZ9qa58</td>\n",
       "      <td>2017-11-14</td>\n",
       "      <td>Stylish Star Allu Arjun @ ChaySam Wedding Rece...</td>\n",
       "      <td>TFPC</td>\n",
       "      <td>24</td>\n",
       "      <td>2017-11-12 15:48:08+00:00</td>\n",
       "      <td>Stylish Star Allu Arjun @ ChaySam Wedding Rece...</td>\n",
       "      <td>473988</td>\n",
       "      <td>2011</td>\n",
       "      <td>243</td>\n",
       "      <td>...</td>\n",
       "      <td>False</td>\n",
       "      <td>Dadra And Nagar Haveli</td>\n",
       "      <td>20.266578</td>\n",
       "      <td>73.016618</td>\n",
       "      <td>POINT (73.01661780000001 20.26657819)</td>\n",
       "      <td>youtube#videoCategory</td>\n",
       "      <td>\"XI7nbFXulYBIpL0ayR_gDh3eu1k/UVB9oxX2Bvqa_w_y3...</td>\n",
       "      <td>UCBR8-60-B28hp2BmDPdntcQ</td>\n",
       "      <td>Entertainment</td>\n",
       "      <td>True</td>\n",
       "    </tr>\n",
       "    <tr>\n",
       "      <th>3</th>\n",
       "      <td>N1vE8iiEg64</td>\n",
       "      <td>2017-11-14</td>\n",
       "      <td>Eruma Saani | Tamil vs English</td>\n",
       "      <td>Eruma Saani</td>\n",
       "      <td>23</td>\n",
       "      <td>2017-11-12 07:08:48+00:00</td>\n",
       "      <td>Eruma Saani|\"Tamil Comedy Videos\"|\"Films\"|\"Mov...</td>\n",
       "      <td>1242680</td>\n",
       "      <td>70353</td>\n",
       "      <td>1624</td>\n",
       "      <td>...</td>\n",
       "      <td>False</td>\n",
       "      <td>Nagaland</td>\n",
       "      <td>25.666998</td>\n",
       "      <td>94.116570</td>\n",
       "      <td>POINT (94.11657019 25.6669979)</td>\n",
       "      <td>youtube#videoCategory</td>\n",
       "      <td>\"XI7nbFXulYBIpL0ayR_gDh3eu1k/G9LHzQmx44rX2S5ya...</td>\n",
       "      <td>UCBR8-60-B28hp2BmDPdntcQ</td>\n",
       "      <td>Comedy</td>\n",
       "      <td>True</td>\n",
       "    </tr>\n",
       "    <tr>\n",
       "      <th>4</th>\n",
       "      <td>kJzGH0PVQHQ</td>\n",
       "      <td>2017-11-14</td>\n",
       "      <td>why Samantha became EMOTIONAL @ Samantha naga ...</td>\n",
       "      <td>Filmylooks</td>\n",
       "      <td>24</td>\n",
       "      <td>2017-11-13 01:14:16+00:00</td>\n",
       "      <td>Filmylooks|\"latest news\"|\"telugu movies\"|\"telu...</td>\n",
       "      <td>464015</td>\n",
       "      <td>492</td>\n",
       "      <td>293</td>\n",
       "      <td>...</td>\n",
       "      <td>False</td>\n",
       "      <td>Himachal Pradesh</td>\n",
       "      <td>31.100025</td>\n",
       "      <td>77.166597</td>\n",
       "      <td>POINT (77.16659704 31.10002545)</td>\n",
       "      <td>youtube#videoCategory</td>\n",
       "      <td>\"XI7nbFXulYBIpL0ayR_gDh3eu1k/UVB9oxX2Bvqa_w_y3...</td>\n",
       "      <td>UCBR8-60-B28hp2BmDPdntcQ</td>\n",
       "      <td>Entertainment</td>\n",
       "      <td>True</td>\n",
       "    </tr>\n",
       "  </tbody>\n",
       "</table>\n",
       "<p>5 rows × 24 columns</p>\n",
       "</div>"
      ],
      "text/plain": [
       "      video_id trending_date  \\\n",
       "0  kzwfHumJyYc    2017-11-14   \n",
       "1  zUZ1z7FwLc8    2017-11-14   \n",
       "2  10L1hZ9qa58    2017-11-14   \n",
       "3  N1vE8iiEg64    2017-11-14   \n",
       "4  kJzGH0PVQHQ    2017-11-14   \n",
       "\n",
       "                                               title    channel_title  \\\n",
       "0  Sharry Mann: Cute Munda ( Song Teaser) | Parmi...  Lokdhun Punjabi   \n",
       "1  पीरियड्स के समय, पेट पर पति करता ऐसा, देखकर दं...          HJ NEWS   \n",
       "2  Stylish Star Allu Arjun @ ChaySam Wedding Rece...             TFPC   \n",
       "3                     Eruma Saani | Tamil vs English      Eruma Saani   \n",
       "4  why Samantha became EMOTIONAL @ Samantha naga ...       Filmylooks   \n",
       "\n",
       "  category_id              publish_time  \\\n",
       "0           1 2017-11-12 12:20:39+00:00   \n",
       "1          25 2017-11-13 05:43:56+00:00   \n",
       "2          24 2017-11-12 15:48:08+00:00   \n",
       "3          23 2017-11-12 07:08:48+00:00   \n",
       "4          24 2017-11-13 01:14:16+00:00   \n",
       "\n",
       "                                                tags    views  likes  \\\n",
       "0  sharry mann|\"sharry mann new song\"|\"sharry man...  1096327  33966   \n",
       "1  पीरियड्स के समय|\"पेट पर पति करता ऐसा\"|\"देखकर द...   590101    735   \n",
       "2  Stylish Star Allu Arjun @ ChaySam Wedding Rece...   473988   2011   \n",
       "3  Eruma Saani|\"Tamil Comedy Videos\"|\"Films\"|\"Mov...  1242680  70353   \n",
       "4  Filmylooks|\"latest news\"|\"telugu movies\"|\"telu...   464015    492   \n",
       "\n",
       "   dislikes  ...  video_error_or_removed                   state        lat  \\\n",
       "0       798  ...                   False       Arunachal Pradesh  27.100399   \n",
       "1       904  ...                   False       Arunachal Pradesh  27.100399   \n",
       "2       243  ...                   False  Dadra And Nagar Haveli  20.266578   \n",
       "3      1624  ...                   False                Nagaland  25.666998   \n",
       "4       293  ...                   False        Himachal Pradesh  31.100025   \n",
       "\n",
       "         lon                               geometry                   kind  \\\n",
       "0  93.616601        POINT (93.61660071 27.10039878)  youtube#videoCategory   \n",
       "1  93.616601        POINT (93.61660071 27.10039878)  youtube#videoCategory   \n",
       "2  73.016618  POINT (73.01661780000001 20.26657819)  youtube#videoCategory   \n",
       "3  94.116570         POINT (94.11657019 25.6669979)  youtube#videoCategory   \n",
       "4  77.166597        POINT (77.16659704 31.10002545)  youtube#videoCategory   \n",
       "\n",
       "                                                etag  \\\n",
       "0  \"XI7nbFXulYBIpL0ayR_gDh3eu1k/Xy1mB4_yLrHy_BmKm...   \n",
       "1  \"XI7nbFXulYBIpL0ayR_gDh3eu1k/QiLK0ZIrFoORdk_g2...   \n",
       "2  \"XI7nbFXulYBIpL0ayR_gDh3eu1k/UVB9oxX2Bvqa_w_y3...   \n",
       "3  \"XI7nbFXulYBIpL0ayR_gDh3eu1k/G9LHzQmx44rX2S5ya...   \n",
       "4  \"XI7nbFXulYBIpL0ayR_gDh3eu1k/UVB9oxX2Bvqa_w_y3...   \n",
       "\n",
       "          snippet.channelId     snippet.title snippet.assignable  \n",
       "0  UCBR8-60-B28hp2BmDPdntcQ  Film & Animation               True  \n",
       "1  UCBR8-60-B28hp2BmDPdntcQ   News & Politics               True  \n",
       "2  UCBR8-60-B28hp2BmDPdntcQ     Entertainment               True  \n",
       "3  UCBR8-60-B28hp2BmDPdntcQ            Comedy               True  \n",
       "4  UCBR8-60-B28hp2BmDPdntcQ     Entertainment               True  \n",
       "\n",
       "[5 rows x 24 columns]"
      ]
     },
     "execution_count": 163,
     "metadata": {},
     "output_type": "execute_result"
    }
   ],
   "source": [
    "data_cat = data.join(categories.set_index('id'), on='category_id')\n",
    "data_cat.head()"
   ]
  },
  {
   "cell_type": "markdown",
   "metadata": {},
   "source": [
    "##### 1. ¿Qué categorías de videos son las de mayor tendencia?"
   ]
  },
  {
   "cell_type": "code",
   "execution_count": 164,
   "metadata": {},
   "outputs": [
    {
     "data": {
      "text/plain": [
       "<AxesSubplot:xlabel='snippet.title', ylabel='views'>"
      ]
     },
     "execution_count": 164,
     "metadata": {},
     "output_type": "execute_result"
    },
    {
     "data": {
      "image/png": "[encoded data removed]",
      "text/plain": [
       "<Figure size 1152x576 with 1 Axes>"
      ]
     },
     "metadata": {
      "needs_background": "light"
     },
     "output_type": "display_data"
    }
   ],
   "source": [
    "plt.figure(figsize=(16,8))\n",
    "plt.xticks(rotation=45)\n",
    "sns.barplot(x=\"snippet.title\", y=\"views\", data=data_cat, palette='rainbow')"
   ]
  },
  {
   "cell_type": "markdown",
   "metadata": {},
   "source": [
    "Se utilizó la cantidad de vistas como el indicador de tendencia. Como se observa en el gráfico, las tres primeras categorías con mayor tendencia son: Gaming, Music, Family"
   ]
  },
  {
   "cell_type": "markdown",
   "metadata": {},
   "source": [
    "##### 2. ¿Qué categorías de videos son los que más gustan? ¿Y las que menos gustan?"
   ]
  },
  {
   "cell_type": "code",
   "execution_count": null,
   "metadata": {},
   "outputs": [],
   "source": []
  },
  {
   "cell_type": "markdown",
   "metadata": {},
   "source": [
    "##### 3. ¿Qué categorías de videos tienen la mejor proporción (ratio) de “Me gusta” / “No me gusta”?"
   ]
  },
  {
   "cell_type": "code",
   "execution_count": null,
   "metadata": {},
   "outputs": [],
   "source": []
  },
  {
   "cell_type": "markdown",
   "metadata": {},
   "source": [
    "##### 4. ¿Qué categorías de videos tienen la mejor proporción (ratio) de “Vistas” / “Comentarios”?"
   ]
  },
  {
   "cell_type": "code",
   "execution_count": null,
   "metadata": {},
   "outputs": [],
   "source": []
  },
  {
   "cell_type": "markdown",
   "metadata": {},
   "source": [
    "##### 4. ¿Qué categorías de videos tienen la mejor proporción (ratio) de “Vistas” / “Comentarios”?"
   ]
  },
  {
   "cell_type": "code",
   "execution_count": null,
   "metadata": {},
   "outputs": [],
   "source": []
  },
  {
   "cell_type": "markdown",
   "metadata": {},
   "source": [
    "### Por el tiempo transcurrido"
   ]
  },
  {
   "cell_type": "markdown",
   "metadata": {},
   "source": [
    "#### 5. ¿Cómo ha cambiado el volumen de los videos en tendencia a lo largo del tiempo?"
   ]
  },
  {
   "cell_type": "markdown",
   "metadata": {},
   "source": [
    "En primer lugar, se necesita identificar el rango de fechas del dataset. "
   ]
  },
  {
   "cell_type": "code",
   "execution_count": 165,
   "metadata": {},
   "outputs": [
    {
     "data": {
      "text/html": [
       "<div>\n",
       "<style scoped>\n",
       "    .dataframe tbody tr th:only-of-type {\n",
       "        vertical-align: middle;\n",
       "    }\n",
       "\n",
       "    .dataframe tbody tr th {\n",
       "        vertical-align: top;\n",
       "    }\n",
       "\n",
       "    .dataframe thead th {\n",
       "        text-align: right;\n",
       "    }\n",
       "</style>\n",
       "<table border=\"1\" class=\"dataframe\">\n",
       "  <thead>\n",
       "    <tr style=\"text-align: right;\">\n",
       "      <th></th>\n",
       "      <th>video_id</th>\n",
       "      <th>trending_date</th>\n",
       "      <th>title</th>\n",
       "      <th>channel_title</th>\n",
       "      <th>category_id</th>\n",
       "      <th>publish_time</th>\n",
       "      <th>tags</th>\n",
       "      <th>views</th>\n",
       "      <th>likes</th>\n",
       "      <th>dislikes</th>\n",
       "      <th>...</th>\n",
       "      <th>video_error_or_removed</th>\n",
       "      <th>state</th>\n",
       "      <th>lat</th>\n",
       "      <th>lon</th>\n",
       "      <th>geometry</th>\n",
       "      <th>kind</th>\n",
       "      <th>etag</th>\n",
       "      <th>snippet.channelId</th>\n",
       "      <th>snippet.title</th>\n",
       "      <th>snippet.assignable</th>\n",
       "    </tr>\n",
       "  </thead>\n",
       "  <tbody>\n",
       "    <tr>\n",
       "      <th>0</th>\n",
       "      <td>kzwfHumJyYc</td>\n",
       "      <td>2017-11-14</td>\n",
       "      <td>Sharry Mann: Cute Munda ( Song Teaser) | Parmi...</td>\n",
       "      <td>Lokdhun Punjabi</td>\n",
       "      <td>1</td>\n",
       "      <td>2017-11-12 12:20:39+00:00</td>\n",
       "      <td>sharry mann|\"sharry mann new song\"|\"sharry man...</td>\n",
       "      <td>1096327</td>\n",
       "      <td>33966</td>\n",
       "      <td>798</td>\n",
       "      <td>...</td>\n",
       "      <td>False</td>\n",
       "      <td>Arunachal Pradesh</td>\n",
       "      <td>27.100399</td>\n",
       "      <td>93.616601</td>\n",
       "      <td>POINT (93.61660071 27.10039878)</td>\n",
       "      <td>youtube#videoCategory</td>\n",
       "      <td>\"XI7nbFXulYBIpL0ayR_gDh3eu1k/Xy1mB4_yLrHy_BmKm...</td>\n",
       "      <td>UCBR8-60-B28hp2BmDPdntcQ</td>\n",
       "      <td>Film &amp; Animation</td>\n",
       "      <td>True</td>\n",
       "    </tr>\n",
       "    <tr>\n",
       "      <th>132</th>\n",
       "      <td>zWAjEtFkMgY</td>\n",
       "      <td>2017-11-14</td>\n",
       "      <td>Weekly Rasi Phalalu 2017 November 12th - Novem...</td>\n",
       "      <td>muluguastro</td>\n",
       "      <td>22</td>\n",
       "      <td>2017-11-11 19:00:03+00:00</td>\n",
       "      <td>Telugu Panchangam 2016|\"Ugadi Panchangam 2016\"...</td>\n",
       "      <td>37384</td>\n",
       "      <td>164</td>\n",
       "      <td>32</td>\n",
       "      <td>...</td>\n",
       "      <td>False</td>\n",
       "      <td>Jammu And Kashmir</td>\n",
       "      <td>34.299959</td>\n",
       "      <td>74.466658</td>\n",
       "      <td>POINT (74.46665849 34.29995933)</td>\n",
       "      <td>youtube#videoCategory</td>\n",
       "      <td>\"XI7nbFXulYBIpL0ayR_gDh3eu1k/xId8RX7vRN8rqkbYZ...</td>\n",
       "      <td>UCBR8-60-B28hp2BmDPdntcQ</td>\n",
       "      <td>People &amp; Blogs</td>\n",
       "      <td>True</td>\n",
       "    </tr>\n",
       "    <tr>\n",
       "      <th>133</th>\n",
       "      <td>fRY7UWGFvdc</td>\n",
       "      <td>2017-11-14</td>\n",
       "      <td>ഇടുക്കി ആശുപത്രിയിൽ രോഗികളെ ക്യൂവിൽ നിർത്തിയ ജ...</td>\n",
       "      <td>Malayalam News Time</td>\n",
       "      <td>22</td>\n",
       "      <td>2017-11-12 11:04:59+00:00</td>\n",
       "      <td>[none]</td>\n",
       "      <td>197122</td>\n",
       "      <td>0</td>\n",
       "      <td>0</td>\n",
       "      <td>...</td>\n",
       "      <td>False</td>\n",
       "      <td>Jammu And Kashmir</td>\n",
       "      <td>34.299959</td>\n",
       "      <td>74.466658</td>\n",
       "      <td>POINT (74.46665849 34.29995933)</td>\n",
       "      <td>youtube#videoCategory</td>\n",
       "      <td>\"XI7nbFXulYBIpL0ayR_gDh3eu1k/xId8RX7vRN8rqkbYZ...</td>\n",
       "      <td>UCBR8-60-B28hp2BmDPdntcQ</td>\n",
       "      <td>People &amp; Blogs</td>\n",
       "      <td>True</td>\n",
       "    </tr>\n",
       "    <tr>\n",
       "      <th>134</th>\n",
       "      <td>Dxg-ELOg-L4</td>\n",
       "      <td>2017-11-14</td>\n",
       "      <td>Nayanthara Visits Kasi Theatre For Aramm Promo...</td>\n",
       "      <td>Cineulagam</td>\n",
       "      <td>24</td>\n",
       "      <td>2017-11-11 10:42:05+00:00</td>\n",
       "      <td>Nayanthara Visits Kasi Theatre For Aramm Promo...</td>\n",
       "      <td>94383</td>\n",
       "      <td>168</td>\n",
       "      <td>18</td>\n",
       "      <td>...</td>\n",
       "      <td>False</td>\n",
       "      <td>Himachal Pradesh</td>\n",
       "      <td>31.100025</td>\n",
       "      <td>77.166597</td>\n",
       "      <td>POINT (77.16659704 31.10002545)</td>\n",
       "      <td>youtube#videoCategory</td>\n",
       "      <td>\"XI7nbFXulYBIpL0ayR_gDh3eu1k/UVB9oxX2Bvqa_w_y3...</td>\n",
       "      <td>UCBR8-60-B28hp2BmDPdntcQ</td>\n",
       "      <td>Entertainment</td>\n",
       "      <td>True</td>\n",
       "    </tr>\n",
       "    <tr>\n",
       "      <th>135</th>\n",
       "      <td>D1z2sKcSsfY</td>\n",
       "      <td>2017-11-14</td>\n",
       "      <td>ARE YOU FRIENDZONED? ft. SheTroubleMaker | Ris...</td>\n",
       "      <td>Rishhsome</td>\n",
       "      <td>23</td>\n",
       "      <td>2017-11-11 13:55:16+00:00</td>\n",
       "      <td>rishhsome|\"vines\"|\"rishabh rana\"|\"rishabh\"|\"fu...</td>\n",
       "      <td>353789</td>\n",
       "      <td>25657</td>\n",
       "      <td>1949</td>\n",
       "      <td>...</td>\n",
       "      <td>False</td>\n",
       "      <td>Puducherry</td>\n",
       "      <td>11.934994</td>\n",
       "      <td>79.830000</td>\n",
       "      <td>POINT (79.83000036999999 11.93499371)</td>\n",
       "      <td>youtube#videoCategory</td>\n",
       "      <td>\"XI7nbFXulYBIpL0ayR_gDh3eu1k/G9LHzQmx44rX2S5ya...</td>\n",
       "      <td>UCBR8-60-B28hp2BmDPdntcQ</td>\n",
       "      <td>Comedy</td>\n",
       "      <td>True</td>\n",
       "    </tr>\n",
       "  </tbody>\n",
       "</table>\n",
       "<p>5 rows × 24 columns</p>\n",
       "</div>"
      ],
      "text/plain": [
       "        video_id trending_date  \\\n",
       "0    kzwfHumJyYc    2017-11-14   \n",
       "132  zWAjEtFkMgY    2017-11-14   \n",
       "133  fRY7UWGFvdc    2017-11-14   \n",
       "134  Dxg-ELOg-L4    2017-11-14   \n",
       "135  D1z2sKcSsfY    2017-11-14   \n",
       "\n",
       "                                                 title        channel_title  \\\n",
       "0    Sharry Mann: Cute Munda ( Song Teaser) | Parmi...      Lokdhun Punjabi   \n",
       "132  Weekly Rasi Phalalu 2017 November 12th - Novem...          muluguastro   \n",
       "133  ഇടുക്കി ആശുപത്രിയിൽ രോഗികളെ ക്യൂവിൽ നിർത്തിയ ജ...  Malayalam News Time   \n",
       "134  Nayanthara Visits Kasi Theatre For Aramm Promo...           Cineulagam   \n",
       "135  ARE YOU FRIENDZONED? ft. SheTroubleMaker | Ris...            Rishhsome   \n",
       "\n",
       "    category_id              publish_time  \\\n",
       "0             1 2017-11-12 12:20:39+00:00   \n",
       "132          22 2017-11-11 19:00:03+00:00   \n",
       "133          22 2017-11-12 11:04:59+00:00   \n",
       "134          24 2017-11-11 10:42:05+00:00   \n",
       "135          23 2017-11-11 13:55:16+00:00   \n",
       "\n",
       "                                                  tags    views  likes  \\\n",
       "0    sharry mann|\"sharry mann new song\"|\"sharry man...  1096327  33966   \n",
       "132  Telugu Panchangam 2016|\"Ugadi Panchangam 2016\"...    37384    164   \n",
       "133                                             [none]   197122      0   \n",
       "134  Nayanthara Visits Kasi Theatre For Aramm Promo...    94383    168   \n",
       "135  rishhsome|\"vines\"|\"rishabh rana\"|\"rishabh\"|\"fu...   353789  25657   \n",
       "\n",
       "     dislikes  ...  video_error_or_removed              state        lat  \\\n",
       "0         798  ...                   False  Arunachal Pradesh  27.100399   \n",
       "132        32  ...                   False  Jammu And Kashmir  34.299959   \n",
       "133         0  ...                   False  Jammu And Kashmir  34.299959   \n",
       "134        18  ...                   False   Himachal Pradesh  31.100025   \n",
       "135      1949  ...                   False         Puducherry  11.934994   \n",
       "\n",
       "           lon                               geometry                   kind  \\\n",
       "0    93.616601        POINT (93.61660071 27.10039878)  youtube#videoCategory   \n",
       "132  74.466658        POINT (74.46665849 34.29995933)  youtube#videoCategory   \n",
       "133  74.466658        POINT (74.46665849 34.29995933)  youtube#videoCategory   \n",
       "134  77.166597        POINT (77.16659704 31.10002545)  youtube#videoCategory   \n",
       "135  79.830000  POINT (79.83000036999999 11.93499371)  youtube#videoCategory   \n",
       "\n",
       "                                                  etag  \\\n",
       "0    \"XI7nbFXulYBIpL0ayR_gDh3eu1k/Xy1mB4_yLrHy_BmKm...   \n",
       "132  \"XI7nbFXulYBIpL0ayR_gDh3eu1k/xId8RX7vRN8rqkbYZ...   \n",
       "133  \"XI7nbFXulYBIpL0ayR_gDh3eu1k/xId8RX7vRN8rqkbYZ...   \n",
       "134  \"XI7nbFXulYBIpL0ayR_gDh3eu1k/UVB9oxX2Bvqa_w_y3...   \n",
       "135  \"XI7nbFXulYBIpL0ayR_gDh3eu1k/G9LHzQmx44rX2S5ya...   \n",
       "\n",
       "            snippet.channelId     snippet.title snippet.assignable  \n",
       "0    UCBR8-60-B28hp2BmDPdntcQ  Film & Animation               True  \n",
       "132  UCBR8-60-B28hp2BmDPdntcQ    People & Blogs               True  \n",
       "133  UCBR8-60-B28hp2BmDPdntcQ    People & Blogs               True  \n",
       "134  UCBR8-60-B28hp2BmDPdntcQ     Entertainment               True  \n",
       "135  UCBR8-60-B28hp2BmDPdntcQ            Comedy               True  \n",
       "\n",
       "[5 rows x 24 columns]"
      ]
     },
     "execution_count": 165,
     "metadata": {},
     "output_type": "execute_result"
    }
   ],
   "source": [
    "data_cat.sort_values(by=\"trending_date\").head()"
   ]
  },
  {
   "cell_type": "markdown",
   "metadata": {},
   "source": [
    "Como se observa, la tendencia de los videos comienzan el 14 de noviembre del 2017 en el dataset."
   ]
  },
  {
   "cell_type": "code",
   "execution_count": 166,
   "metadata": {},
   "outputs": [
    {
     "data": {
      "text/html": [
       "<div>\n",
       "<style scoped>\n",
       "    .dataframe tbody tr th:only-of-type {\n",
       "        vertical-align: middle;\n",
       "    }\n",
       "\n",
       "    .dataframe tbody tr th {\n",
       "        vertical-align: top;\n",
       "    }\n",
       "\n",
       "    .dataframe thead th {\n",
       "        text-align: right;\n",
       "    }\n",
       "</style>\n",
       "<table border=\"1\" class=\"dataframe\">\n",
       "  <thead>\n",
       "    <tr style=\"text-align: right;\">\n",
       "      <th></th>\n",
       "      <th>video_id</th>\n",
       "      <th>trending_date</th>\n",
       "      <th>title</th>\n",
       "      <th>channel_title</th>\n",
       "      <th>category_id</th>\n",
       "      <th>publish_time</th>\n",
       "      <th>tags</th>\n",
       "      <th>views</th>\n",
       "      <th>likes</th>\n",
       "      <th>dislikes</th>\n",
       "      <th>...</th>\n",
       "      <th>video_error_or_removed</th>\n",
       "      <th>state</th>\n",
       "      <th>lat</th>\n",
       "      <th>lon</th>\n",
       "      <th>geometry</th>\n",
       "      <th>kind</th>\n",
       "      <th>etag</th>\n",
       "      <th>snippet.channelId</th>\n",
       "      <th>snippet.title</th>\n",
       "      <th>snippet.assignable</th>\n",
       "    </tr>\n",
       "  </thead>\n",
       "  <tbody>\n",
       "    <tr>\n",
       "      <th>38532</th>\n",
       "      <td>wERgpPK44w0</td>\n",
       "      <td>2018-06-14</td>\n",
       "      <td>Ee Nagaraniki Emaindi Trailer | Tharun Bhascke...</td>\n",
       "      <td>Suresh Productions</td>\n",
       "      <td>24.0</td>\n",
       "      <td>2018-06-10 04:29:54+00:00</td>\n",
       "      <td>Ee Nagaraniki Emaindi|\"Ee Nagaraniki Emaindi T...</td>\n",
       "      <td>1278249</td>\n",
       "      <td>22466</td>\n",
       "      <td>1609</td>\n",
       "      <td>...</td>\n",
       "      <td>False</td>\n",
       "      <td>Rajasthan</td>\n",
       "      <td>26.449999</td>\n",
       "      <td>74.639981</td>\n",
       "      <td>POINT (74.63998124 26.44999921)</td>\n",
       "      <td>NaN</td>\n",
       "      <td>NaN</td>\n",
       "      <td>NaN</td>\n",
       "      <td>NaN</td>\n",
       "      <td>NaN</td>\n",
       "    </tr>\n",
       "    <tr>\n",
       "      <th>38451</th>\n",
       "      <td>0qAexDFUW2U</td>\n",
       "      <td>2018-06-14</td>\n",
       "      <td>अज्या दाखवणार भय्याला हिसका|Lagira Zhala Jee|1...</td>\n",
       "      <td>NIROM मराठी</td>\n",
       "      <td>24.0</td>\n",
       "      <td>2018-06-12 16:32:51+00:00</td>\n",
       "      <td>lagira zhala jee|\"zee marathi\"|\"nirom marathi\"...</td>\n",
       "      <td>100169</td>\n",
       "      <td>312</td>\n",
       "      <td>46</td>\n",
       "      <td>...</td>\n",
       "      <td>False</td>\n",
       "      <td>Arunachal Pradesh</td>\n",
       "      <td>27.100399</td>\n",
       "      <td>93.616601</td>\n",
       "      <td>POINT (93.61660071 27.10039878)</td>\n",
       "      <td>NaN</td>\n",
       "      <td>NaN</td>\n",
       "      <td>NaN</td>\n",
       "      <td>NaN</td>\n",
       "      <td>NaN</td>\n",
       "    </tr>\n",
       "    <tr>\n",
       "      <th>38438</th>\n",
       "      <td>N3aySwVkLdo</td>\n",
       "      <td>2018-06-14</td>\n",
       "      <td>Fun Bucket JUNIORS | Episode 52 | Kids Funny V...</td>\n",
       "      <td>TeluguOne</td>\n",
       "      <td>23.0</td>\n",
       "      <td>2018-06-13 13:23:42+00:00</td>\n",
       "      <td>fun bucket juniors|\"episode 52\"|\"kids comedy\"|...</td>\n",
       "      <td>54441</td>\n",
       "      <td>1050</td>\n",
       "      <td>75</td>\n",
       "      <td>...</td>\n",
       "      <td>False</td>\n",
       "      <td>Kerala</td>\n",
       "      <td>8.900373</td>\n",
       "      <td>76.569993</td>\n",
       "      <td>POINT (76.56999263 8.900372741)</td>\n",
       "      <td>NaN</td>\n",
       "      <td>NaN</td>\n",
       "      <td>NaN</td>\n",
       "      <td>NaN</td>\n",
       "      <td>NaN</td>\n",
       "    </tr>\n",
       "    <tr>\n",
       "      <th>38439</th>\n",
       "      <td>f4dp5yhdu1g</td>\n",
       "      <td>2018-06-14</td>\n",
       "      <td>RAMADAN VLOG 4.0 | DUDE SERIOUSLY</td>\n",
       "      <td>Dude Seriously</td>\n",
       "      <td>23.0</td>\n",
       "      <td>2018-06-13 17:33:48+00:00</td>\n",
       "      <td>dude|\"dude seriously\"|\"gujarati\"|\"gujju\"|\"gujj...</td>\n",
       "      <td>44412</td>\n",
       "      <td>2349</td>\n",
       "      <td>161</td>\n",
       "      <td>...</td>\n",
       "      <td>False</td>\n",
       "      <td>Nagaland</td>\n",
       "      <td>25.666998</td>\n",
       "      <td>94.116570</td>\n",
       "      <td>POINT (94.11657019 25.6669979)</td>\n",
       "      <td>NaN</td>\n",
       "      <td>NaN</td>\n",
       "      <td>NaN</td>\n",
       "      <td>NaN</td>\n",
       "      <td>NaN</td>\n",
       "    </tr>\n",
       "    <tr>\n",
       "      <th>38440</th>\n",
       "      <td>Q5tj5ZmP7mk</td>\n",
       "      <td>2018-06-14</td>\n",
       "      <td>Yeh Pyar Nahi To Kya Hai (REPRISE) -Sad Love S...</td>\n",
       "      <td>LoveSHEET</td>\n",
       "      <td>10.0</td>\n",
       "      <td>2018-06-11 07:46:29+00:00</td>\n",
       "      <td>rahul jain|\"yeh pyaar nahi toh kya hai\"|\"yeh p...</td>\n",
       "      <td>351989</td>\n",
       "      <td>7579</td>\n",
       "      <td>430</td>\n",
       "      <td>...</td>\n",
       "      <td>False</td>\n",
       "      <td>Sikkim</td>\n",
       "      <td>27.333330</td>\n",
       "      <td>88.616647</td>\n",
       "      <td>POINT (88.6166475 27.3333303)</td>\n",
       "      <td>NaN</td>\n",
       "      <td>NaN</td>\n",
       "      <td>NaN</td>\n",
       "      <td>NaN</td>\n",
       "      <td>NaN</td>\n",
       "    </tr>\n",
       "  </tbody>\n",
       "</table>\n",
       "<p>5 rows × 24 columns</p>\n",
       "</div>"
      ],
      "text/plain": [
       "          video_id trending_date  \\\n",
       "38532  wERgpPK44w0    2018-06-14   \n",
       "38451  0qAexDFUW2U    2018-06-14   \n",
       "38438  N3aySwVkLdo    2018-06-14   \n",
       "38439  f4dp5yhdu1g    2018-06-14   \n",
       "38440  Q5tj5ZmP7mk    2018-06-14   \n",
       "\n",
       "                                                   title       channel_title  \\\n",
       "38532  Ee Nagaraniki Emaindi Trailer | Tharun Bhascke...  Suresh Productions   \n",
       "38451  अज्या दाखवणार भय्याला हिसका|Lagira Zhala Jee|1...         NIROM मराठी   \n",
       "38438  Fun Bucket JUNIORS | Episode 52 | Kids Funny V...           TeluguOne   \n",
       "38439                  RAMADAN VLOG 4.0 | DUDE SERIOUSLY      Dude Seriously   \n",
       "38440  Yeh Pyar Nahi To Kya Hai (REPRISE) -Sad Love S...           LoveSHEET   \n",
       "\n",
       "      category_id              publish_time  \\\n",
       "38532        24.0 2018-06-10 04:29:54+00:00   \n",
       "38451        24.0 2018-06-12 16:32:51+00:00   \n",
       "38438        23.0 2018-06-13 13:23:42+00:00   \n",
       "38439        23.0 2018-06-13 17:33:48+00:00   \n",
       "38440        10.0 2018-06-11 07:46:29+00:00   \n",
       "\n",
       "                                                    tags    views  likes  \\\n",
       "38532  Ee Nagaraniki Emaindi|\"Ee Nagaraniki Emaindi T...  1278249  22466   \n",
       "38451  lagira zhala jee|\"zee marathi\"|\"nirom marathi\"...   100169    312   \n",
       "38438  fun bucket juniors|\"episode 52\"|\"kids comedy\"|...    54441   1050   \n",
       "38439  dude|\"dude seriously\"|\"gujarati\"|\"gujju\"|\"gujj...    44412   2349   \n",
       "38440  rahul jain|\"yeh pyaar nahi toh kya hai\"|\"yeh p...   351989   7579   \n",
       "\n",
       "       dislikes  ...  video_error_or_removed              state        lat  \\\n",
       "38532      1609  ...                   False          Rajasthan  26.449999   \n",
       "38451        46  ...                   False  Arunachal Pradesh  27.100399   \n",
       "38438        75  ...                   False             Kerala   8.900373   \n",
       "38439       161  ...                   False           Nagaland  25.666998   \n",
       "38440       430  ...                   False             Sikkim  27.333330   \n",
       "\n",
       "             lon                         geometry kind  etag  \\\n",
       "38532  74.639981  POINT (74.63998124 26.44999921)  NaN   NaN   \n",
       "38451  93.616601  POINT (93.61660071 27.10039878)  NaN   NaN   \n",
       "38438  76.569993  POINT (76.56999263 8.900372741)  NaN   NaN   \n",
       "38439  94.116570   POINT (94.11657019 25.6669979)  NaN   NaN   \n",
       "38440  88.616647    POINT (88.6166475 27.3333303)  NaN   NaN   \n",
       "\n",
       "       snippet.channelId snippet.title snippet.assignable  \n",
       "38532                NaN           NaN                NaN  \n",
       "38451                NaN           NaN                NaN  \n",
       "38438                NaN           NaN                NaN  \n",
       "38439                NaN           NaN                NaN  \n",
       "38440                NaN           NaN                NaN  \n",
       "\n",
       "[5 rows x 24 columns]"
      ]
     },
     "execution_count": 166,
     "metadata": {},
     "output_type": "execute_result"
    }
   ],
   "source": [
    "data_cat.sort_values(by=\"trending_date\", ascending=False).head()"
   ]
  },
  {
   "cell_type": "markdown",
   "metadata": {},
   "source": [
    "La tendencia de video en el dataset terminan el 14 de junio del 2018. Debido a que el dataset comprende los videos con unos 8 meses de diferencia, se evaluará la tendencia de videos por meses."
   ]
  },
  {
   "cell_type": "code",
   "execution_count": 167,
   "metadata": {},
   "outputs": [],
   "source": [
    "tendencia = data_cat[[\"trending_date\"]]"
   ]
  },
  {
   "cell_type": "code",
   "execution_count": 168,
   "metadata": {},
   "outputs": [
    {
     "data": {
      "text/html": [
       "<div>\n",
       "<style scoped>\n",
       "    .dataframe tbody tr th:only-of-type {\n",
       "        vertical-align: middle;\n",
       "    }\n",
       "\n",
       "    .dataframe tbody tr th {\n",
       "        vertical-align: top;\n",
       "    }\n",
       "\n",
       "    .dataframe thead th {\n",
       "        text-align: right;\n",
       "    }\n",
       "</style>\n",
       "<table border=\"1\" class=\"dataframe\">\n",
       "  <thead>\n",
       "    <tr style=\"text-align: right;\">\n",
       "      <th></th>\n",
       "      <th>trending_date</th>\n",
       "    </tr>\n",
       "  </thead>\n",
       "  <tbody>\n",
       "    <tr>\n",
       "      <th>0</th>\n",
       "      <td>2017-11-14</td>\n",
       "    </tr>\n",
       "    <tr>\n",
       "      <th>1</th>\n",
       "      <td>2017-11-14</td>\n",
       "    </tr>\n",
       "    <tr>\n",
       "      <th>2</th>\n",
       "      <td>2017-11-14</td>\n",
       "    </tr>\n",
       "    <tr>\n",
       "      <th>3</th>\n",
       "      <td>2017-11-14</td>\n",
       "    </tr>\n",
       "    <tr>\n",
       "      <th>4</th>\n",
       "      <td>2017-11-14</td>\n",
       "    </tr>\n",
       "    <tr>\n",
       "      <th>...</th>\n",
       "      <td>...</td>\n",
       "    </tr>\n",
       "    <tr>\n",
       "      <th>38528</th>\n",
       "      <td>2018-06-14</td>\n",
       "    </tr>\n",
       "    <tr>\n",
       "      <th>38529</th>\n",
       "      <td>2018-06-14</td>\n",
       "    </tr>\n",
       "    <tr>\n",
       "      <th>38530</th>\n",
       "      <td>2018-06-14</td>\n",
       "    </tr>\n",
       "    <tr>\n",
       "      <th>38531</th>\n",
       "      <td>2018-06-14</td>\n",
       "    </tr>\n",
       "    <tr>\n",
       "      <th>38532</th>\n",
       "      <td>2018-06-14</td>\n",
       "    </tr>\n",
       "  </tbody>\n",
       "</table>\n",
       "<p>33106 rows × 1 columns</p>\n",
       "</div>"
      ],
      "text/plain": [
       "      trending_date\n",
       "0        2017-11-14\n",
       "1        2017-11-14\n",
       "2        2017-11-14\n",
       "3        2017-11-14\n",
       "4        2017-11-14\n",
       "...             ...\n",
       "38528    2018-06-14\n",
       "38529    2018-06-14\n",
       "38530    2018-06-14\n",
       "38531    2018-06-14\n",
       "38532    2018-06-14\n",
       "\n",
       "[33106 rows x 1 columns]"
      ]
     },
     "execution_count": 168,
     "metadata": {},
     "output_type": "execute_result"
    }
   ],
   "source": [
    "tendencia"
   ]
  },
  {
   "cell_type": "code",
   "execution_count": 169,
   "metadata": {},
   "outputs": [
    {
     "name": "stderr",
     "output_type": "stream",
     "text": [
      "C:\\Users\\rodri\\AppData\\Local\\Temp\\ipykernel_56108\\1451438810.py:1: SettingWithCopyWarning:\n",
      "\n",
      "\n",
      "A value is trying to be set on a copy of a slice from a DataFrame.\n",
      "Try using .loc[row_indexer,col_indexer] = value instead\n",
      "\n",
      "See the caveats in the documentation: https://pandas.pydata.org/pandas-docs/stable/user_guide/indexing.html#returning-a-view-versus-a-copy\n",
      "\n"
     ]
    }
   ],
   "source": [
    "tendencia['year-month'] = pd.to_datetime(tendencia['trending_date']).dt.strftime('%Y-%m')"
   ]
  },
  {
   "cell_type": "code",
   "execution_count": 170,
   "metadata": {},
   "outputs": [
    {
     "data": {
      "text/html": [
       "<div>\n",
       "<style scoped>\n",
       "    .dataframe tbody tr th:only-of-type {\n",
       "        vertical-align: middle;\n",
       "    }\n",
       "\n",
       "    .dataframe tbody tr th {\n",
       "        vertical-align: top;\n",
       "    }\n",
       "\n",
       "    .dataframe thead th {\n",
       "        text-align: right;\n",
       "    }\n",
       "</style>\n",
       "<table border=\"1\" class=\"dataframe\">\n",
       "  <thead>\n",
       "    <tr style=\"text-align: right;\">\n",
       "      <th></th>\n",
       "      <th>trending_date</th>\n",
       "      <th>year-month</th>\n",
       "    </tr>\n",
       "  </thead>\n",
       "  <tbody>\n",
       "    <tr>\n",
       "      <th>0</th>\n",
       "      <td>2017-11-14</td>\n",
       "      <td>2017-11</td>\n",
       "    </tr>\n",
       "    <tr>\n",
       "      <th>1</th>\n",
       "      <td>2017-11-14</td>\n",
       "      <td>2017-11</td>\n",
       "    </tr>\n",
       "    <tr>\n",
       "      <th>2</th>\n",
       "      <td>2017-11-14</td>\n",
       "      <td>2017-11</td>\n",
       "    </tr>\n",
       "    <tr>\n",
       "      <th>3</th>\n",
       "      <td>2017-11-14</td>\n",
       "      <td>2017-11</td>\n",
       "    </tr>\n",
       "    <tr>\n",
       "      <th>4</th>\n",
       "      <td>2017-11-14</td>\n",
       "      <td>2017-11</td>\n",
       "    </tr>\n",
       "    <tr>\n",
       "      <th>...</th>\n",
       "      <td>...</td>\n",
       "      <td>...</td>\n",
       "    </tr>\n",
       "    <tr>\n",
       "      <th>38528</th>\n",
       "      <td>2018-06-14</td>\n",
       "      <td>2018-06</td>\n",
       "    </tr>\n",
       "    <tr>\n",
       "      <th>38529</th>\n",
       "      <td>2018-06-14</td>\n",
       "      <td>2018-06</td>\n",
       "    </tr>\n",
       "    <tr>\n",
       "      <th>38530</th>\n",
       "      <td>2018-06-14</td>\n",
       "      <td>2018-06</td>\n",
       "    </tr>\n",
       "    <tr>\n",
       "      <th>38531</th>\n",
       "      <td>2018-06-14</td>\n",
       "      <td>2018-06</td>\n",
       "    </tr>\n",
       "    <tr>\n",
       "      <th>38532</th>\n",
       "      <td>2018-06-14</td>\n",
       "      <td>2018-06</td>\n",
       "    </tr>\n",
       "  </tbody>\n",
       "</table>\n",
       "<p>33106 rows × 2 columns</p>\n",
       "</div>"
      ],
      "text/plain": [
       "      trending_date year-month\n",
       "0        2017-11-14    2017-11\n",
       "1        2017-11-14    2017-11\n",
       "2        2017-11-14    2017-11\n",
       "3        2017-11-14    2017-11\n",
       "4        2017-11-14    2017-11\n",
       "...             ...        ...\n",
       "38528    2018-06-14    2018-06\n",
       "38529    2018-06-14    2018-06\n",
       "38530    2018-06-14    2018-06\n",
       "38531    2018-06-14    2018-06\n",
       "38532    2018-06-14    2018-06\n",
       "\n",
       "[33106 rows x 2 columns]"
      ]
     },
     "execution_count": 170,
     "metadata": {},
     "output_type": "execute_result"
    }
   ],
   "source": [
    "tendencia"
   ]
  },
  {
   "cell_type": "code",
   "execution_count": 171,
   "metadata": {},
   "outputs": [],
   "source": [
    "tendencia = tendencia.groupby([\"year-month\"]).size().reset_index(name=\"videos\")"
   ]
  },
  {
   "cell_type": "code",
   "execution_count": 172,
   "metadata": {},
   "outputs": [
    {
     "data": {
      "text/html": [
       "<div>\n",
       "<style scoped>\n",
       "    .dataframe tbody tr th:only-of-type {\n",
       "        vertical-align: middle;\n",
       "    }\n",
       "\n",
       "    .dataframe tbody tr th {\n",
       "        vertical-align: top;\n",
       "    }\n",
       "\n",
       "    .dataframe thead th {\n",
       "        text-align: right;\n",
       "    }\n",
       "</style>\n",
       "<table border=\"1\" class=\"dataframe\">\n",
       "  <thead>\n",
       "    <tr style=\"text-align: right;\">\n",
       "      <th></th>\n",
       "      <th>year-month</th>\n",
       "      <th>videos</th>\n",
       "    </tr>\n",
       "  </thead>\n",
       "  <tbody>\n",
       "    <tr>\n",
       "      <th>0</th>\n",
       "      <td>2017-11</td>\n",
       "      <td>3209</td>\n",
       "    </tr>\n",
       "    <tr>\n",
       "      <th>1</th>\n",
       "      <td>2017-12</td>\n",
       "      <td>5803</td>\n",
       "    </tr>\n",
       "    <tr>\n",
       "      <th>2</th>\n",
       "      <td>2018-01</td>\n",
       "      <td>5418</td>\n",
       "    </tr>\n",
       "    <tr>\n",
       "      <th>3</th>\n",
       "      <td>2018-02</td>\n",
       "      <td>4533</td>\n",
       "    </tr>\n",
       "    <tr>\n",
       "      <th>4</th>\n",
       "      <td>2018-03</td>\n",
       "      <td>4731</td>\n",
       "    </tr>\n",
       "    <tr>\n",
       "      <th>5</th>\n",
       "      <td>2018-04</td>\n",
       "      <td>3472</td>\n",
       "    </tr>\n",
       "    <tr>\n",
       "      <th>6</th>\n",
       "      <td>2018-05</td>\n",
       "      <td>4098</td>\n",
       "    </tr>\n",
       "    <tr>\n",
       "      <th>7</th>\n",
       "      <td>2018-06</td>\n",
       "      <td>1842</td>\n",
       "    </tr>\n",
       "  </tbody>\n",
       "</table>\n",
       "</div>"
      ],
      "text/plain": [
       "  year-month  videos\n",
       "0    2017-11    3209\n",
       "1    2017-12    5803\n",
       "2    2018-01    5418\n",
       "3    2018-02    4533\n",
       "4    2018-03    4731\n",
       "5    2018-04    3472\n",
       "6    2018-05    4098\n",
       "7    2018-06    1842"
      ]
     },
     "execution_count": 172,
     "metadata": {},
     "output_type": "execute_result"
    }
   ],
   "source": [
    "tendencia"
   ]
  },
  {
   "cell_type": "code",
   "execution_count": 173,
   "metadata": {},
   "outputs": [
    {
     "data": {
      "text/plain": [
       "[<matplotlib.lines.Line2D at 0x1b6788d15e0>]"
      ]
     },
     "execution_count": 173,
     "metadata": {},
     "output_type": "execute_result"
    },
    {
     "data": {
      "image/png": "[encoded data removed]",
      "text/plain": [
       "<Figure size 432x288 with 1 Axes>"
      ]
     },
     "metadata": {
      "needs_background": "light"
     },
     "output_type": "display_data"
    }
   ],
   "source": [
    "plt.plot_date(tendencia[\"year-month\"], tendencia[\"videos\"], linestyle='solid')"
   ]
  },
  {
   "cell_type": "markdown",
   "metadata": {},
   "source": [
    "### Por Canales de YouTube"
   ]
  },
  {
   "cell_type": "markdown",
   "metadata": {},
   "source": [
    "#### 6. ¿Qué Canales de YouTube son tendencia más frecuentemente? ¿Y cuáles con menos frecuencia?"
   ]
  },
  {
   "cell_type": "code",
   "execution_count": 174,
   "metadata": {},
   "outputs": [
    {
     "data": {
      "text/html": [
       "<div>\n",
       "<style scoped>\n",
       "    .dataframe tbody tr th:only-of-type {\n",
       "        vertical-align: middle;\n",
       "    }\n",
       "\n",
       "    .dataframe tbody tr th {\n",
       "        vertical-align: top;\n",
       "    }\n",
       "\n",
       "    .dataframe thead th {\n",
       "        text-align: right;\n",
       "    }\n",
       "</style>\n",
       "<table border=\"1\" class=\"dataframe\">\n",
       "  <thead>\n",
       "    <tr style=\"text-align: right;\">\n",
       "      <th></th>\n",
       "      <th>video_id</th>\n",
       "      <th>trending_date</th>\n",
       "      <th>title</th>\n",
       "      <th>channel_title</th>\n",
       "      <th>category_id</th>\n",
       "      <th>publish_time</th>\n",
       "      <th>tags</th>\n",
       "      <th>views</th>\n",
       "      <th>likes</th>\n",
       "      <th>dislikes</th>\n",
       "      <th>...</th>\n",
       "      <th>video_error_or_removed</th>\n",
       "      <th>state</th>\n",
       "      <th>lat</th>\n",
       "      <th>lon</th>\n",
       "      <th>geometry</th>\n",
       "      <th>kind</th>\n",
       "      <th>etag</th>\n",
       "      <th>snippet.channelId</th>\n",
       "      <th>snippet.title</th>\n",
       "      <th>snippet.assignable</th>\n",
       "    </tr>\n",
       "  </thead>\n",
       "  <tbody>\n",
       "    <tr>\n",
       "      <th>7319</th>\n",
       "      <td>nDDfFws3BfA</td>\n",
       "      <td>2017-12-20</td>\n",
       "      <td>10,000 YEARS INTO THE FUTURE IN 10 MINUTES</td>\n",
       "      <td>#Mind Warehouse</td>\n",
       "      <td>27</td>\n",
       "      <td>2017-12-17 18:00:03+00:00</td>\n",
       "      <td>Top 10 10 Most #Mind Warehouse mind warehouse ...</td>\n",
       "      <td>1649569</td>\n",
       "      <td>20713</td>\n",
       "      <td>2375</td>\n",
       "      <td>...</td>\n",
       "      <td>False</td>\n",
       "      <td>Madhya Pradesh</td>\n",
       "      <td>21.300391</td>\n",
       "      <td>76.130019</td>\n",
       "      <td>POINT (76.13001949 21.30039105)</td>\n",
       "      <td>youtube#videoCategory</td>\n",
       "      <td>\"XI7nbFXulYBIpL0ayR_gDh3eu1k/EoYkczo9I3RCf96Rv...</td>\n",
       "      <td>UCBR8-60-B28hp2BmDPdntcQ</td>\n",
       "      <td>Education</td>\n",
       "      <td>True</td>\n",
       "    </tr>\n",
       "    <tr>\n",
       "      <th>7096</th>\n",
       "      <td>nDDfFws3BfA</td>\n",
       "      <td>2017-12-19</td>\n",
       "      <td>10,000 YEARS INTO THE FUTURE IN 10 MINUTES</td>\n",
       "      <td>#Mind Warehouse</td>\n",
       "      <td>27</td>\n",
       "      <td>2017-12-17 18:00:03+00:00</td>\n",
       "      <td>Top 10 10 Most #Mind Warehouse mind warehouse ...</td>\n",
       "      <td>1246572</td>\n",
       "      <td>16716</td>\n",
       "      <td>1884</td>\n",
       "      <td>...</td>\n",
       "      <td>False</td>\n",
       "      <td>Jharkhand</td>\n",
       "      <td>23.800393</td>\n",
       "      <td>86.419986</td>\n",
       "      <td>POINT (86.41998572 23.80039349)</td>\n",
       "      <td>youtube#videoCategory</td>\n",
       "      <td>\"XI7nbFXulYBIpL0ayR_gDh3eu1k/EoYkczo9I3RCf96Rv...</td>\n",
       "      <td>UCBR8-60-B28hp2BmDPdntcQ</td>\n",
       "      <td>Education</td>\n",
       "      <td>True</td>\n",
       "    </tr>\n",
       "    <tr>\n",
       "      <th>23021</th>\n",
       "      <td>Z2Uf4s7Up3A</td>\n",
       "      <td>2018-03-17</td>\n",
       "      <td>VELAIKAARI | 1 Kg Biriyani</td>\n",
       "      <td>1 Kg Biriyani</td>\n",
       "      <td>23</td>\n",
       "      <td>2018-03-14 16:04:45+00:00</td>\n",
       "      <td>1 Kg Biriyani|\"1 Kilo Biriyani\"|\"Tamil Funny V...</td>\n",
       "      <td>117174</td>\n",
       "      <td>8524</td>\n",
       "      <td>412</td>\n",
       "      <td>...</td>\n",
       "      <td>False</td>\n",
       "      <td>Dadra And Nagar Haveli</td>\n",
       "      <td>20.266578</td>\n",
       "      <td>73.016618</td>\n",
       "      <td>POINT (73.01661780000001 20.26657819)</td>\n",
       "      <td>youtube#videoCategory</td>\n",
       "      <td>\"XI7nbFXulYBIpL0ayR_gDh3eu1k/G9LHzQmx44rX2S5ya...</td>\n",
       "      <td>UCBR8-60-B28hp2BmDPdntcQ</td>\n",
       "      <td>Comedy</td>\n",
       "      <td>True</td>\n",
       "    </tr>\n",
       "    <tr>\n",
       "      <th>9624</th>\n",
       "      <td>szoHYZa6nxI</td>\n",
       "      <td>2018-01-01</td>\n",
       "      <td>2017 Start vs End | 1 Kg Biriyani</td>\n",
       "      <td>1 Kg Biriyani</td>\n",
       "      <td>23</td>\n",
       "      <td>2017-12-31 04:05:23+00:00</td>\n",
       "      <td>1 Kg Biriyani|\"1 Kilo Biriyani\"|\"Tamil Funny V...</td>\n",
       "      <td>79180</td>\n",
       "      <td>4899</td>\n",
       "      <td>350</td>\n",
       "      <td>...</td>\n",
       "      <td>False</td>\n",
       "      <td>Maharashtra</td>\n",
       "      <td>19.250232</td>\n",
       "      <td>73.160175</td>\n",
       "      <td>POINT (73.16017493 19.25023195)</td>\n",
       "      <td>youtube#videoCategory</td>\n",
       "      <td>\"XI7nbFXulYBIpL0ayR_gDh3eu1k/G9LHzQmx44rX2S5ya...</td>\n",
       "      <td>UCBR8-60-B28hp2BmDPdntcQ</td>\n",
       "      <td>Comedy</td>\n",
       "      <td>True</td>\n",
       "    </tr>\n",
       "    <tr>\n",
       "      <th>37994</th>\n",
       "      <td>cMayLUfj5Jk</td>\n",
       "      <td>2018-06-11</td>\n",
       "      <td>Girl Bestie | ( with subtitles ) |  1 Kg Biriyani</td>\n",
       "      <td>1 Kg Biriyani</td>\n",
       "      <td>23.0</td>\n",
       "      <td>2018-06-08 16:52:28+00:00</td>\n",
       "      <td>1 Kg Biriyani|\"1 Kilo Biriyani\"|\"Tamil Funny V...</td>\n",
       "      <td>353367</td>\n",
       "      <td>15802</td>\n",
       "      <td>1679</td>\n",
       "      <td>...</td>\n",
       "      <td>False</td>\n",
       "      <td>Andaman And Nicobar</td>\n",
       "      <td>11.667026</td>\n",
       "      <td>92.735983</td>\n",
       "      <td>POINT (92.73598262 11.66702557)</td>\n",
       "      <td>NaN</td>\n",
       "      <td>NaN</td>\n",
       "      <td>NaN</td>\n",
       "      <td>NaN</td>\n",
       "      <td>NaN</td>\n",
       "    </tr>\n",
       "  </tbody>\n",
       "</table>\n",
       "<p>5 rows × 24 columns</p>\n",
       "</div>"
      ],
      "text/plain": [
       "          video_id trending_date  \\\n",
       "7319   nDDfFws3BfA    2017-12-20   \n",
       "7096   nDDfFws3BfA    2017-12-19   \n",
       "23021  Z2Uf4s7Up3A    2018-03-17   \n",
       "9624   szoHYZa6nxI    2018-01-01   \n",
       "37994  cMayLUfj5Jk    2018-06-11   \n",
       "\n",
       "                                                   title    channel_title  \\\n",
       "7319          10,000 YEARS INTO THE FUTURE IN 10 MINUTES  #Mind Warehouse   \n",
       "7096          10,000 YEARS INTO THE FUTURE IN 10 MINUTES  #Mind Warehouse   \n",
       "23021                         VELAIKAARI | 1 Kg Biriyani    1 Kg Biriyani   \n",
       "9624                   2017 Start vs End | 1 Kg Biriyani    1 Kg Biriyani   \n",
       "37994  Girl Bestie | ( with subtitles ) |  1 Kg Biriyani    1 Kg Biriyani   \n",
       "\n",
       "      category_id              publish_time  \\\n",
       "7319           27 2017-12-17 18:00:03+00:00   \n",
       "7096           27 2017-12-17 18:00:03+00:00   \n",
       "23021          23 2018-03-14 16:04:45+00:00   \n",
       "9624           23 2017-12-31 04:05:23+00:00   \n",
       "37994        23.0 2018-06-08 16:52:28+00:00   \n",
       "\n",
       "                                                    tags    views  likes  \\\n",
       "7319   Top 10 10 Most #Mind Warehouse mind warehouse ...  1649569  20713   \n",
       "7096   Top 10 10 Most #Mind Warehouse mind warehouse ...  1246572  16716   \n",
       "23021  1 Kg Biriyani|\"1 Kilo Biriyani\"|\"Tamil Funny V...   117174   8524   \n",
       "9624   1 Kg Biriyani|\"1 Kilo Biriyani\"|\"Tamil Funny V...    79180   4899   \n",
       "37994  1 Kg Biriyani|\"1 Kilo Biriyani\"|\"Tamil Funny V...   353367  15802   \n",
       "\n",
       "       dislikes  ...  video_error_or_removed                   state  \\\n",
       "7319       2375  ...                   False          Madhya Pradesh   \n",
       "7096       1884  ...                   False               Jharkhand   \n",
       "23021       412  ...                   False  Dadra And Nagar Haveli   \n",
       "9624        350  ...                   False             Maharashtra   \n",
       "37994      1679  ...                   False     Andaman And Nicobar   \n",
       "\n",
       "             lat        lon                               geometry  \\\n",
       "7319   21.300391  76.130019        POINT (76.13001949 21.30039105)   \n",
       "7096   23.800393  86.419986        POINT (86.41998572 23.80039349)   \n",
       "23021  20.266578  73.016618  POINT (73.01661780000001 20.26657819)   \n",
       "9624   19.250232  73.160175        POINT (73.16017493 19.25023195)   \n",
       "37994  11.667026  92.735983        POINT (92.73598262 11.66702557)   \n",
       "\n",
       "                        kind  \\\n",
       "7319   youtube#videoCategory   \n",
       "7096   youtube#videoCategory   \n",
       "23021  youtube#videoCategory   \n",
       "9624   youtube#videoCategory   \n",
       "37994                    NaN   \n",
       "\n",
       "                                                    etag  \\\n",
       "7319   \"XI7nbFXulYBIpL0ayR_gDh3eu1k/EoYkczo9I3RCf96Rv...   \n",
       "7096   \"XI7nbFXulYBIpL0ayR_gDh3eu1k/EoYkczo9I3RCf96Rv...   \n",
       "23021  \"XI7nbFXulYBIpL0ayR_gDh3eu1k/G9LHzQmx44rX2S5ya...   \n",
       "9624   \"XI7nbFXulYBIpL0ayR_gDh3eu1k/G9LHzQmx44rX2S5ya...   \n",
       "37994                                                NaN   \n",
       "\n",
       "              snippet.channelId snippet.title snippet.assignable  \n",
       "7319   UCBR8-60-B28hp2BmDPdntcQ     Education               True  \n",
       "7096   UCBR8-60-B28hp2BmDPdntcQ     Education               True  \n",
       "23021  UCBR8-60-B28hp2BmDPdntcQ        Comedy               True  \n",
       "9624   UCBR8-60-B28hp2BmDPdntcQ        Comedy               True  \n",
       "37994                       NaN           NaN                NaN  \n",
       "\n",
       "[5 rows x 24 columns]"
      ]
     },
     "execution_count": 174,
     "metadata": {},
     "output_type": "execute_result"
    }
   ],
   "source": [
    "data_cat.sort_values(by=\"channel_title\").head()"
   ]
  },
  {
   "cell_type": "code",
   "execution_count": 175,
   "metadata": {},
   "outputs": [],
   "source": [
    "canales = data_cat[[\"channel_title\"]]"
   ]
  },
  {
   "cell_type": "code",
   "execution_count": 176,
   "metadata": {},
   "outputs": [
    {
     "data": {
      "text/html": [
       "<div>\n",
       "<style scoped>\n",
       "    .dataframe tbody tr th:only-of-type {\n",
       "        vertical-align: middle;\n",
       "    }\n",
       "\n",
       "    .dataframe tbody tr th {\n",
       "        vertical-align: top;\n",
       "    }\n",
       "\n",
       "    .dataframe thead th {\n",
       "        text-align: right;\n",
       "    }\n",
       "</style>\n",
       "<table border=\"1\" class=\"dataframe\">\n",
       "  <thead>\n",
       "    <tr style=\"text-align: right;\">\n",
       "      <th></th>\n",
       "      <th>channel_title</th>\n",
       "    </tr>\n",
       "  </thead>\n",
       "  <tbody>\n",
       "    <tr>\n",
       "      <th>0</th>\n",
       "      <td>Lokdhun Punjabi</td>\n",
       "    </tr>\n",
       "    <tr>\n",
       "      <th>1</th>\n",
       "      <td>HJ NEWS</td>\n",
       "    </tr>\n",
       "    <tr>\n",
       "      <th>2</th>\n",
       "      <td>TFPC</td>\n",
       "    </tr>\n",
       "    <tr>\n",
       "      <th>3</th>\n",
       "      <td>Eruma Saani</td>\n",
       "    </tr>\n",
       "    <tr>\n",
       "      <th>4</th>\n",
       "      <td>Filmylooks</td>\n",
       "    </tr>\n",
       "    <tr>\n",
       "      <th>...</th>\n",
       "      <td>...</td>\n",
       "    </tr>\n",
       "    <tr>\n",
       "      <th>38528</th>\n",
       "      <td>RDC Rajasthani</td>\n",
       "    </tr>\n",
       "    <tr>\n",
       "      <th>38529</th>\n",
       "      <td>Flowers TV</td>\n",
       "    </tr>\n",
       "    <tr>\n",
       "      <th>38530</th>\n",
       "      <td>Mazhavil Manorama</td>\n",
       "    </tr>\n",
       "    <tr>\n",
       "      <th>38531</th>\n",
       "      <td>Tarang TV</td>\n",
       "    </tr>\n",
       "    <tr>\n",
       "      <th>38532</th>\n",
       "      <td>Suresh Productions</td>\n",
       "    </tr>\n",
       "  </tbody>\n",
       "</table>\n",
       "<p>33106 rows × 1 columns</p>\n",
       "</div>"
      ],
      "text/plain": [
       "            channel_title\n",
       "0         Lokdhun Punjabi\n",
       "1                 HJ NEWS\n",
       "2                    TFPC\n",
       "3             Eruma Saani\n",
       "4              Filmylooks\n",
       "...                   ...\n",
       "38528      RDC Rajasthani\n",
       "38529          Flowers TV\n",
       "38530   Mazhavil Manorama\n",
       "38531           Tarang TV\n",
       "38532  Suresh Productions\n",
       "\n",
       "[33106 rows x 1 columns]"
      ]
     },
     "execution_count": 176,
     "metadata": {},
     "output_type": "execute_result"
    }
   ],
   "source": [
    "canales"
   ]
  },
  {
   "cell_type": "code",
   "execution_count": 177,
   "metadata": {},
   "outputs": [],
   "source": [
    "canales = canales.groupby([\"channel_title\"]).size().reset_index(name=\"frecuencia\")"
   ]
  },
  {
   "cell_type": "code",
   "execution_count": 178,
   "metadata": {},
   "outputs": [],
   "source": [
    "canales_top = canales.sort_values(by=\"frecuencia\", ascending=False)"
   ]
  },
  {
   "cell_type": "code",
   "execution_count": 179,
   "metadata": {},
   "outputs": [
    {
     "data": {
      "text/html": [
       "<div>\n",
       "<style scoped>\n",
       "    .dataframe tbody tr th:only-of-type {\n",
       "        vertical-align: middle;\n",
       "    }\n",
       "\n",
       "    .dataframe tbody tr th {\n",
       "        vertical-align: top;\n",
       "    }\n",
       "\n",
       "    .dataframe thead th {\n",
       "        text-align: right;\n",
       "    }\n",
       "</style>\n",
       "<table border=\"1\" class=\"dataframe\">\n",
       "  <thead>\n",
       "    <tr style=\"text-align: right;\">\n",
       "      <th></th>\n",
       "      <th>channel_title</th>\n",
       "      <th>frecuencia</th>\n",
       "    </tr>\n",
       "  </thead>\n",
       "  <tbody>\n",
       "    <tr>\n",
       "      <th>1275</th>\n",
       "      <td>VikatanTV</td>\n",
       "      <td>208</td>\n",
       "    </tr>\n",
       "    <tr>\n",
       "      <th>915</th>\n",
       "      <td>SAB TV</td>\n",
       "      <td>207</td>\n",
       "    </tr>\n",
       "    <tr>\n",
       "      <th>298</th>\n",
       "      <td>ETV Plus India</td>\n",
       "      <td>206</td>\n",
       "    </tr>\n",
       "    <tr>\n",
       "      <th>1378</th>\n",
       "      <td>etvteluguindia</td>\n",
       "      <td>205</td>\n",
       "    </tr>\n",
       "    <tr>\n",
       "      <th>1036</th>\n",
       "      <td>Study IQ education</td>\n",
       "      <td>203</td>\n",
       "    </tr>\n",
       "    <tr>\n",
       "      <th>...</th>\n",
       "      <td>...</td>\n",
       "      <td>...</td>\n",
       "    </tr>\n",
       "    <tr>\n",
       "      <th>1055</th>\n",
       "      <td>T-Series Marathi</td>\n",
       "      <td>1</td>\n",
       "    </tr>\n",
       "    <tr>\n",
       "      <th>506</th>\n",
       "      <td>Kannada</td>\n",
       "      <td>1</td>\n",
       "    </tr>\n",
       "    <tr>\n",
       "      <th>161</th>\n",
       "      <td>Bollywood Sins</td>\n",
       "      <td>1</td>\n",
       "    </tr>\n",
       "    <tr>\n",
       "      <th>512</th>\n",
       "      <td>Kannada Suddi</td>\n",
       "      <td>1</td>\n",
       "    </tr>\n",
       "    <tr>\n",
       "      <th>814</th>\n",
       "      <td>Polimer TV</td>\n",
       "      <td>1</td>\n",
       "    </tr>\n",
       "  </tbody>\n",
       "</table>\n",
       "<p>1426 rows × 2 columns</p>\n",
       "</div>"
      ],
      "text/plain": [
       "           channel_title  frecuencia\n",
       "1275           VikatanTV         208\n",
       "915               SAB TV         207\n",
       "298       ETV Plus India         206\n",
       "1378      etvteluguindia         205\n",
       "1036  Study IQ education         203\n",
       "...                  ...         ...\n",
       "1055    T-Series Marathi           1\n",
       "506              Kannada           1\n",
       "161       Bollywood Sins           1\n",
       "512        Kannada Suddi           1\n",
       "814           Polimer TV           1\n",
       "\n",
       "[1426 rows x 2 columns]"
      ]
     },
     "execution_count": 179,
     "metadata": {},
     "output_type": "execute_result"
    }
   ],
   "source": [
    "canales_top"
   ]
  },
  {
   "cell_type": "markdown",
   "metadata": {},
   "source": [
    "Como se puede observar los 5 canales que estan en tendencia con mayor frecuencia son: \"VikatanTV\", \"SAB TV\", \"ETV Plus India\", \"etvteluguindia\" y \"Study IQ education\""
   ]
  },
  {
   "cell_type": "code",
   "execution_count": 180,
   "metadata": {},
   "outputs": [],
   "source": [
    "canales_bot = canales.sort_values(by=\"frecuencia\")"
   ]
  },
  {
   "cell_type": "code",
   "execution_count": 181,
   "metadata": {},
   "outputs": [
    {
     "data": {
      "text/html": [
       "<div>\n",
       "<style scoped>\n",
       "    .dataframe tbody tr th:only-of-type {\n",
       "        vertical-align: middle;\n",
       "    }\n",
       "\n",
       "    .dataframe tbody tr th {\n",
       "        vertical-align: top;\n",
       "    }\n",
       "\n",
       "    .dataframe thead th {\n",
       "        text-align: right;\n",
       "    }\n",
       "</style>\n",
       "<table border=\"1\" class=\"dataframe\">\n",
       "  <thead>\n",
       "    <tr style=\"text-align: right;\">\n",
       "      <th></th>\n",
       "      <th>channel_title</th>\n",
       "      <th>frecuencia</th>\n",
       "    </tr>\n",
       "  </thead>\n",
       "  <tbody>\n",
       "    <tr>\n",
       "      <th>480</th>\n",
       "      <td>JackieMT 2nd</td>\n",
       "      <td>1</td>\n",
       "    </tr>\n",
       "    <tr>\n",
       "      <th>795</th>\n",
       "      <td>Pakkatv</td>\n",
       "      <td>1</td>\n",
       "    </tr>\n",
       "    <tr>\n",
       "      <th>1155</th>\n",
       "      <td>TeluguZ TV</td>\n",
       "      <td>1</td>\n",
       "    </tr>\n",
       "    <tr>\n",
       "      <th>308</th>\n",
       "      <td>Empty minds</td>\n",
       "      <td>1</td>\n",
       "    </tr>\n",
       "    <tr>\n",
       "      <th>1149</th>\n",
       "      <td>Telugu Trending</td>\n",
       "      <td>1</td>\n",
       "    </tr>\n",
       "    <tr>\n",
       "      <th>...</th>\n",
       "      <td>...</td>\n",
       "      <td>...</td>\n",
       "    </tr>\n",
       "    <tr>\n",
       "      <th>1036</th>\n",
       "      <td>Study IQ education</td>\n",
       "      <td>203</td>\n",
       "    </tr>\n",
       "    <tr>\n",
       "      <th>1378</th>\n",
       "      <td>etvteluguindia</td>\n",
       "      <td>205</td>\n",
       "    </tr>\n",
       "    <tr>\n",
       "      <th>298</th>\n",
       "      <td>ETV Plus India</td>\n",
       "      <td>206</td>\n",
       "    </tr>\n",
       "    <tr>\n",
       "      <th>915</th>\n",
       "      <td>SAB TV</td>\n",
       "      <td>207</td>\n",
       "    </tr>\n",
       "    <tr>\n",
       "      <th>1275</th>\n",
       "      <td>VikatanTV</td>\n",
       "      <td>208</td>\n",
       "    </tr>\n",
       "  </tbody>\n",
       "</table>\n",
       "<p>1426 rows × 2 columns</p>\n",
       "</div>"
      ],
      "text/plain": [
       "           channel_title  frecuencia\n",
       "480         JackieMT 2nd           1\n",
       "795              Pakkatv           1\n",
       "1155          TeluguZ TV           1\n",
       "308          Empty minds           1\n",
       "1149     Telugu Trending           1\n",
       "...                  ...         ...\n",
       "1036  Study IQ education         203\n",
       "1378      etvteluguindia         205\n",
       "298       ETV Plus India         206\n",
       "915               SAB TV         207\n",
       "1275           VikatanTV         208\n",
       "\n",
       "[1426 rows x 2 columns]"
      ]
     },
     "execution_count": 181,
     "metadata": {},
     "output_type": "execute_result"
    }
   ],
   "source": [
    "canales_bot"
   ]
  },
  {
   "cell_type": "markdown",
   "metadata": {},
   "source": [
    "Y los 5 canales que han estado en tendencia una sola vez son: \"JackieMT 2nd\",\"Pakkatv\",\"TeluguZ TV\",\"Empty minds\"y\"Telugu Trending\""
   ]
  },
  {
   "cell_type": "code",
   "execution_count": 182,
   "metadata": {},
   "outputs": [
    {
     "data": {
      "image/png": "[encoded data removed]",
      "text/plain": [
       "<Figure size 432x288 with 1 Axes>"
      ]
     },
     "metadata": {
      "needs_background": "light"
     },
     "output_type": "display_data"
    }
   ],
   "source": [
    "plt.barh(canales_top[\"channel_title\"].head(10),canales_top[\"frecuencia\"].head(10), color=\"blue\")\n",
    "plt.ylabel('Canales')\n",
    "plt.xlabel('Frecuencia')\n",
    "plt.title('Canales más frecuentes en tendencia')\n",
    "plt.show()"
   ]
  },
  {
   "cell_type": "code",
   "execution_count": 183,
   "metadata": {},
   "outputs": [
    {
     "data": {
      "image/png": "[encoded data removed]",
      "text/plain": [
       "<Figure size 432x288 with 1 Axes>"
      ]
     },
     "metadata": {
      "needs_background": "light"
     },
     "output_type": "display_data"
    }
   ],
   "source": [
    "plt.barh(canales_bot[\"channel_title\"].head(10),canales_bot[\"frecuencia\"].head(10), color=\"red\")\n",
    "plt.ylabel('Canales')\n",
    "plt.xlabel('Frecuencia')\n",
    "plt.title('Canales menos frecuentes en tendencia')\n",
    "plt.show()"
   ]
  },
  {
   "cell_type": "markdown",
   "metadata": {},
   "source": [
    "### Por la geografía del pais"
   ]
  },
  {
   "cell_type": "markdown",
   "metadata": {},
   "source": [
    "#### 7. ¿En qué Estados se presenta el mayor número de “Vistas”, “Me gusta” y “No me gusta”?"
   ]
  },
  {
   "cell_type": "code",
   "execution_count": 184,
   "metadata": {},
   "outputs": [],
   "source": [
    "states_likes = data_cat[[\"state\",\"likes\",\"views\",\"dislikes\",\"lon\",\"lat\"]]"
   ]
  },
  {
   "cell_type": "code",
   "execution_count": 185,
   "metadata": {},
   "outputs": [
    {
     "data": {
      "text/html": [
       "<div>\n",
       "<style scoped>\n",
       "    .dataframe tbody tr th:only-of-type {\n",
       "        vertical-align: middle;\n",
       "    }\n",
       "\n",
       "    .dataframe tbody tr th {\n",
       "        vertical-align: top;\n",
       "    }\n",
       "\n",
       "    .dataframe thead th {\n",
       "        text-align: right;\n",
       "    }\n",
       "</style>\n",
       "<table border=\"1\" class=\"dataframe\">\n",
       "  <thead>\n",
       "    <tr style=\"text-align: right;\">\n",
       "      <th></th>\n",
       "      <th>state</th>\n",
       "      <th>likes</th>\n",
       "      <th>views</th>\n",
       "      <th>dislikes</th>\n",
       "      <th>lon</th>\n",
       "      <th>lat</th>\n",
       "    </tr>\n",
       "  </thead>\n",
       "  <tbody>\n",
       "    <tr>\n",
       "      <th>0</th>\n",
       "      <td>Arunachal Pradesh</td>\n",
       "      <td>33966</td>\n",
       "      <td>1096327</td>\n",
       "      <td>798</td>\n",
       "      <td>93.616601</td>\n",
       "      <td>27.100399</td>\n",
       "    </tr>\n",
       "    <tr>\n",
       "      <th>1</th>\n",
       "      <td>Arunachal Pradesh</td>\n",
       "      <td>735</td>\n",
       "      <td>590101</td>\n",
       "      <td>904</td>\n",
       "      <td>93.616601</td>\n",
       "      <td>27.100399</td>\n",
       "    </tr>\n",
       "    <tr>\n",
       "      <th>2</th>\n",
       "      <td>Dadra And Nagar Haveli</td>\n",
       "      <td>2011</td>\n",
       "      <td>473988</td>\n",
       "      <td>243</td>\n",
       "      <td>73.016618</td>\n",
       "      <td>20.266578</td>\n",
       "    </tr>\n",
       "    <tr>\n",
       "      <th>3</th>\n",
       "      <td>Nagaland</td>\n",
       "      <td>70353</td>\n",
       "      <td>1242680</td>\n",
       "      <td>1624</td>\n",
       "      <td>94.116570</td>\n",
       "      <td>25.666998</td>\n",
       "    </tr>\n",
       "    <tr>\n",
       "      <th>4</th>\n",
       "      <td>Himachal Pradesh</td>\n",
       "      <td>492</td>\n",
       "      <td>464015</td>\n",
       "      <td>293</td>\n",
       "      <td>77.166597</td>\n",
       "      <td>31.100025</td>\n",
       "    </tr>\n",
       "    <tr>\n",
       "      <th>...</th>\n",
       "      <td>...</td>\n",
       "      <td>...</td>\n",
       "      <td>...</td>\n",
       "      <td>...</td>\n",
       "      <td>...</td>\n",
       "      <td>...</td>\n",
       "    </tr>\n",
       "    <tr>\n",
       "      <th>38528</th>\n",
       "      <td>Delhi</td>\n",
       "      <td>3291</td>\n",
       "      <td>214378</td>\n",
       "      <td>404</td>\n",
       "      <td>77.230004</td>\n",
       "      <td>28.669993</td>\n",
       "    </tr>\n",
       "    <tr>\n",
       "      <th>38529</th>\n",
       "      <td>Punjab</td>\n",
       "      <td>1726</td>\n",
       "      <td>406828</td>\n",
       "      <td>478</td>\n",
       "      <td>75.980003</td>\n",
       "      <td>31.519974</td>\n",
       "    </tr>\n",
       "    <tr>\n",
       "      <th>38530</th>\n",
       "      <td>Karnataka</td>\n",
       "      <td>1216</td>\n",
       "      <td>386319</td>\n",
       "      <td>453</td>\n",
       "      <td>76.919997</td>\n",
       "      <td>12.570381</td>\n",
       "    </tr>\n",
       "    <tr>\n",
       "      <th>38531</th>\n",
       "      <td>Andhra Pradesh</td>\n",
       "      <td>698</td>\n",
       "      <td>130263</td>\n",
       "      <td>115</td>\n",
       "      <td>78.570026</td>\n",
       "      <td>14.750429</td>\n",
       "    </tr>\n",
       "    <tr>\n",
       "      <th>38532</th>\n",
       "      <td>Rajasthan</td>\n",
       "      <td>22466</td>\n",
       "      <td>1278249</td>\n",
       "      <td>1609</td>\n",
       "      <td>74.639981</td>\n",
       "      <td>26.449999</td>\n",
       "    </tr>\n",
       "  </tbody>\n",
       "</table>\n",
       "<p>33106 rows × 6 columns</p>\n",
       "</div>"
      ],
      "text/plain": [
       "                        state  likes    views  dislikes        lon        lat\n",
       "0           Arunachal Pradesh  33966  1096327       798  93.616601  27.100399\n",
       "1           Arunachal Pradesh    735   590101       904  93.616601  27.100399\n",
       "2      Dadra And Nagar Haveli   2011   473988       243  73.016618  20.266578\n",
       "3                    Nagaland  70353  1242680      1624  94.116570  25.666998\n",
       "4            Himachal Pradesh    492   464015       293  77.166597  31.100025\n",
       "...                       ...    ...      ...       ...        ...        ...\n",
       "38528                   Delhi   3291   214378       404  77.230004  28.669993\n",
       "38529                  Punjab   1726   406828       478  75.980003  31.519974\n",
       "38530               Karnataka   1216   386319       453  76.919997  12.570381\n",
       "38531          Andhra Pradesh    698   130263       115  78.570026  14.750429\n",
       "38532               Rajasthan  22466  1278249      1609  74.639981  26.449999\n",
       "\n",
       "[33106 rows x 6 columns]"
      ]
     },
     "execution_count": 185,
     "metadata": {},
     "output_type": "execute_result"
    }
   ],
   "source": [
    "states_likes"
   ]
  },
  {
   "cell_type": "code",
   "execution_count": 186,
   "metadata": {},
   "outputs": [
    {
     "name": "stderr",
     "output_type": "stream",
     "text": [
      "C:\\Users\\rodri\\AppData\\Local\\Temp\\ipykernel_56108\\4085650210.py:1: FutureWarning:\n",
      "\n",
      "Indexing with multiple keys (implicitly converted to a tuple of keys) will be deprecated, use a list instead.\n",
      "\n"
     ]
    },
    {
     "data": {
      "text/html": [
       "<div>\n",
       "<style scoped>\n",
       "    .dataframe tbody tr th:only-of-type {\n",
       "        vertical-align: middle;\n",
       "    }\n",
       "\n",
       "    .dataframe tbody tr th {\n",
       "        vertical-align: top;\n",
       "    }\n",
       "\n",
       "    .dataframe thead th {\n",
       "        text-align: right;\n",
       "    }\n",
       "</style>\n",
       "<table border=\"1\" class=\"dataframe\">\n",
       "  <thead>\n",
       "    <tr style=\"text-align: right;\">\n",
       "      <th></th>\n",
       "      <th>state</th>\n",
       "      <th>lat</th>\n",
       "      <th>lon</th>\n",
       "      <th>likes</th>\n",
       "      <th>dislikes</th>\n",
       "      <th>views</th>\n",
       "    </tr>\n",
       "  </thead>\n",
       "  <tbody>\n",
       "    <tr>\n",
       "      <th>0</th>\n",
       "      <td>Andaman And Nicobar</td>\n",
       "      <td>11.667026</td>\n",
       "      <td>92.735983</td>\n",
       "      <td>31098764</td>\n",
       "      <td>1541489</td>\n",
       "      <td>1119633361</td>\n",
       "    </tr>\n",
       "    <tr>\n",
       "      <th>1</th>\n",
       "      <td>Andhra Pradesh</td>\n",
       "      <td>14.750429</td>\n",
       "      <td>78.570026</td>\n",
       "      <td>34082079</td>\n",
       "      <td>1630041</td>\n",
       "      <td>1193901556</td>\n",
       "    </tr>\n",
       "    <tr>\n",
       "      <th>2</th>\n",
       "      <td>Arunachal Pradesh</td>\n",
       "      <td>27.100399</td>\n",
       "      <td>93.616601</td>\n",
       "      <td>25544885</td>\n",
       "      <td>1201201</td>\n",
       "      <td>1014849174</td>\n",
       "    </tr>\n",
       "    <tr>\n",
       "      <th>3</th>\n",
       "      <td>Assam</td>\n",
       "      <td>26.749981</td>\n",
       "      <td>94.216667</td>\n",
       "      <td>21264242</td>\n",
       "      <td>1171239</td>\n",
       "      <td>890552579</td>\n",
       "    </tr>\n",
       "    <tr>\n",
       "      <th>4</th>\n",
       "      <td>Bihar</td>\n",
       "      <td>25.785414</td>\n",
       "      <td>87.479973</td>\n",
       "      <td>24163217</td>\n",
       "      <td>2397069</td>\n",
       "      <td>968865826</td>\n",
       "    </tr>\n",
       "    <tr>\n",
       "      <th>5</th>\n",
       "      <td>Chandigarh</td>\n",
       "      <td>30.719997</td>\n",
       "      <td>76.780006</td>\n",
       "      <td>28161813</td>\n",
       "      <td>1646015</td>\n",
       "      <td>1081790452</td>\n",
       "    </tr>\n",
       "    <tr>\n",
       "      <th>6</th>\n",
       "      <td>Chhattisgarh</td>\n",
       "      <td>22.090420</td>\n",
       "      <td>82.159987</td>\n",
       "      <td>23531383</td>\n",
       "      <td>1884329</td>\n",
       "      <td>918526698</td>\n",
       "    </tr>\n",
       "    <tr>\n",
       "      <th>7</th>\n",
       "      <td>Dadra And Nagar Haveli</td>\n",
       "      <td>20.266578</td>\n",
       "      <td>73.016618</td>\n",
       "      <td>24450678</td>\n",
       "      <td>1378504</td>\n",
       "      <td>924413503</td>\n",
       "    </tr>\n",
       "    <tr>\n",
       "      <th>8</th>\n",
       "      <td>Delhi</td>\n",
       "      <td>28.669993</td>\n",
       "      <td>77.230004</td>\n",
       "      <td>25764380</td>\n",
       "      <td>1515814</td>\n",
       "      <td>994858803</td>\n",
       "    </tr>\n",
       "    <tr>\n",
       "      <th>9</th>\n",
       "      <td>Goa</td>\n",
       "      <td>15.491997</td>\n",
       "      <td>73.818001</td>\n",
       "      <td>26342984</td>\n",
       "      <td>2848744</td>\n",
       "      <td>1081555296</td>\n",
       "    </tr>\n",
       "    <tr>\n",
       "      <th>10</th>\n",
       "      <td>Haryana</td>\n",
       "      <td>28.450006</td>\n",
       "      <td>77.019991</td>\n",
       "      <td>27812260</td>\n",
       "      <td>1805292</td>\n",
       "      <td>1079783829</td>\n",
       "    </tr>\n",
       "    <tr>\n",
       "      <th>11</th>\n",
       "      <td>Himachal Pradesh</td>\n",
       "      <td>31.100025</td>\n",
       "      <td>77.166597</td>\n",
       "      <td>24662429</td>\n",
       "      <td>1282193</td>\n",
       "      <td>973121347</td>\n",
       "    </tr>\n",
       "    <tr>\n",
       "      <th>12</th>\n",
       "      <td>Jammu And Kashmir</td>\n",
       "      <td>34.299959</td>\n",
       "      <td>74.466658</td>\n",
       "      <td>23854250</td>\n",
       "      <td>1316218</td>\n",
       "      <td>948674457</td>\n",
       "    </tr>\n",
       "    <tr>\n",
       "      <th>13</th>\n",
       "      <td>Jharkhand</td>\n",
       "      <td>23.800393</td>\n",
       "      <td>86.419986</td>\n",
       "      <td>25635924</td>\n",
       "      <td>1458887</td>\n",
       "      <td>977731723</td>\n",
       "    </tr>\n",
       "    <tr>\n",
       "      <th>14</th>\n",
       "      <td>Karnataka</td>\n",
       "      <td>12.570381</td>\n",
       "      <td>76.919997</td>\n",
       "      <td>23136314</td>\n",
       "      <td>1201613</td>\n",
       "      <td>910034900</td>\n",
       "    </tr>\n",
       "    <tr>\n",
       "      <th>15</th>\n",
       "      <td>Kerala</td>\n",
       "      <td>8.900373</td>\n",
       "      <td>76.569993</td>\n",
       "      <td>28553916</td>\n",
       "      <td>2602070</td>\n",
       "      <td>1020805140</td>\n",
       "    </tr>\n",
       "    <tr>\n",
       "      <th>16</th>\n",
       "      <td>Lakshadweep</td>\n",
       "      <td>10.562573</td>\n",
       "      <td>72.636867</td>\n",
       "      <td>23401049</td>\n",
       "      <td>1230528</td>\n",
       "      <td>962132564</td>\n",
       "    </tr>\n",
       "    <tr>\n",
       "      <th>17</th>\n",
       "      <td>Madhya Pradesh</td>\n",
       "      <td>21.300391</td>\n",
       "      <td>76.130019</td>\n",
       "      <td>22516388</td>\n",
       "      <td>1531787</td>\n",
       "      <td>996511656</td>\n",
       "    </tr>\n",
       "    <tr>\n",
       "      <th>18</th>\n",
       "      <td>Maharashtra</td>\n",
       "      <td>19.250232</td>\n",
       "      <td>73.160175</td>\n",
       "      <td>19485422</td>\n",
       "      <td>987030</td>\n",
       "      <td>757961706</td>\n",
       "    </tr>\n",
       "    <tr>\n",
       "      <th>19</th>\n",
       "      <td>Manipur</td>\n",
       "      <td>24.799971</td>\n",
       "      <td>93.950017</td>\n",
       "      <td>23448275</td>\n",
       "      <td>1325256</td>\n",
       "      <td>976378543</td>\n",
       "    </tr>\n",
       "    <tr>\n",
       "      <th>20</th>\n",
       "      <td>Meghalaya</td>\n",
       "      <td>25.570492</td>\n",
       "      <td>91.880014</td>\n",
       "      <td>25209527</td>\n",
       "      <td>1477627</td>\n",
       "      <td>977135635</td>\n",
       "    </tr>\n",
       "    <tr>\n",
       "      <th>21</th>\n",
       "      <td>Mizoram</td>\n",
       "      <td>23.710399</td>\n",
       "      <td>92.720015</td>\n",
       "      <td>22072830</td>\n",
       "      <td>1385987</td>\n",
       "      <td>883613902</td>\n",
       "    </tr>\n",
       "    <tr>\n",
       "      <th>22</th>\n",
       "      <td>Nagaland</td>\n",
       "      <td>25.666998</td>\n",
       "      <td>94.116570</td>\n",
       "      <td>35931924</td>\n",
       "      <td>3008447</td>\n",
       "      <td>1264353103</td>\n",
       "    </tr>\n",
       "    <tr>\n",
       "      <th>23</th>\n",
       "      <td>Orissa</td>\n",
       "      <td>19.820430</td>\n",
       "      <td>85.900017</td>\n",
       "      <td>21447383</td>\n",
       "      <td>1217275</td>\n",
       "      <td>925603634</td>\n",
       "    </tr>\n",
       "    <tr>\n",
       "      <th>24</th>\n",
       "      <td>Puducherry</td>\n",
       "      <td>11.934994</td>\n",
       "      <td>79.830000</td>\n",
       "      <td>25779841</td>\n",
       "      <td>1289287</td>\n",
       "      <td>986089058</td>\n",
       "    </tr>\n",
       "    <tr>\n",
       "      <th>25</th>\n",
       "      <td>Punjab</td>\n",
       "      <td>31.519974</td>\n",
       "      <td>75.980003</td>\n",
       "      <td>24732395</td>\n",
       "      <td>1309499</td>\n",
       "      <td>984657019</td>\n",
       "    </tr>\n",
       "    <tr>\n",
       "      <th>26</th>\n",
       "      <td>Rajasthan</td>\n",
       "      <td>26.449999</td>\n",
       "      <td>74.639981</td>\n",
       "      <td>25542795</td>\n",
       "      <td>1256606</td>\n",
       "      <td>867840318</td>\n",
       "    </tr>\n",
       "    <tr>\n",
       "      <th>27</th>\n",
       "      <td>Sikkim</td>\n",
       "      <td>27.333330</td>\n",
       "      <td>88.616647</td>\n",
       "      <td>26817873</td>\n",
       "      <td>1340734</td>\n",
       "      <td>955420714</td>\n",
       "    </tr>\n",
       "    <tr>\n",
       "      <th>28</th>\n",
       "      <td>Tamil Nadu</td>\n",
       "      <td>12.920386</td>\n",
       "      <td>79.150042</td>\n",
       "      <td>22672973</td>\n",
       "      <td>1246938</td>\n",
       "      <td>976913557</td>\n",
       "    </tr>\n",
       "    <tr>\n",
       "      <th>29</th>\n",
       "      <td>Tripura</td>\n",
       "      <td>23.835404</td>\n",
       "      <td>91.279999</td>\n",
       "      <td>25027829</td>\n",
       "      <td>1386141</td>\n",
       "      <td>1051307261</td>\n",
       "    </tr>\n",
       "    <tr>\n",
       "      <th>30</th>\n",
       "      <td>Uttar Pradesh</td>\n",
       "      <td>27.599981</td>\n",
       "      <td>78.050006</td>\n",
       "      <td>26912263</td>\n",
       "      <td>2199759</td>\n",
       "      <td>1107636171</td>\n",
       "    </tr>\n",
       "    <tr>\n",
       "      <th>31</th>\n",
       "      <td>Uttaranchal</td>\n",
       "      <td>30.320409</td>\n",
       "      <td>78.050006</td>\n",
       "      <td>25253252</td>\n",
       "      <td>1484972</td>\n",
       "      <td>1052040579</td>\n",
       "    </tr>\n",
       "    <tr>\n",
       "      <th>32</th>\n",
       "      <td>West Bengal</td>\n",
       "      <td>22.580390</td>\n",
       "      <td>88.329947</td>\n",
       "      <td>30210186</td>\n",
       "      <td>1482686</td>\n",
       "      <td>1071783049</td>\n",
       "    </tr>\n",
       "  </tbody>\n",
       "</table>\n",
       "</div>"
      ],
      "text/plain": [
       "                     state        lat        lon     likes  dislikes  \\\n",
       "0      Andaman And Nicobar  11.667026  92.735983  31098764   1541489   \n",
       "1           Andhra Pradesh  14.750429  78.570026  34082079   1630041   \n",
       "2        Arunachal Pradesh  27.100399  93.616601  25544885   1201201   \n",
       "3                    Assam  26.749981  94.216667  21264242   1171239   \n",
       "4                    Bihar  25.785414  87.479973  24163217   2397069   \n",
       "5               Chandigarh  30.719997  76.780006  28161813   1646015   \n",
       "6             Chhattisgarh  22.090420  82.159987  23531383   1884329   \n",
       "7   Dadra And Nagar Haveli  20.266578  73.016618  24450678   1378504   \n",
       "8                    Delhi  28.669993  77.230004  25764380   1515814   \n",
       "9                      Goa  15.491997  73.818001  26342984   2848744   \n",
       "10                 Haryana  28.450006  77.019991  27812260   1805292   \n",
       "11        Himachal Pradesh  31.100025  77.166597  24662429   1282193   \n",
       "12       Jammu And Kashmir  34.299959  74.466658  23854250   1316218   \n",
       "13               Jharkhand  23.800393  86.419986  25635924   1458887   \n",
       "14               Karnataka  12.570381  76.919997  23136314   1201613   \n",
       "15                  Kerala   8.900373  76.569993  28553916   2602070   \n",
       "16             Lakshadweep  10.562573  72.636867  23401049   1230528   \n",
       "17          Madhya Pradesh  21.300391  76.130019  22516388   1531787   \n",
       "18             Maharashtra  19.250232  73.160175  19485422    987030   \n",
       "19                 Manipur  24.799971  93.950017  23448275   1325256   \n",
       "20               Meghalaya  25.570492  91.880014  25209527   1477627   \n",
       "21                 Mizoram  23.710399  92.720015  22072830   1385987   \n",
       "22                Nagaland  25.666998  94.116570  35931924   3008447   \n",
       "23                  Orissa  19.820430  85.900017  21447383   1217275   \n",
       "24              Puducherry  11.934994  79.830000  25779841   1289287   \n",
       "25                  Punjab  31.519974  75.980003  24732395   1309499   \n",
       "26               Rajasthan  26.449999  74.639981  25542795   1256606   \n",
       "27                  Sikkim  27.333330  88.616647  26817873   1340734   \n",
       "28              Tamil Nadu  12.920386  79.150042  22672973   1246938   \n",
       "29                 Tripura  23.835404  91.279999  25027829   1386141   \n",
       "30           Uttar Pradesh  27.599981  78.050006  26912263   2199759   \n",
       "31             Uttaranchal  30.320409  78.050006  25253252   1484972   \n",
       "32             West Bengal  22.580390  88.329947  30210186   1482686   \n",
       "\n",
       "         views  \n",
       "0   1119633361  \n",
       "1   1193901556  \n",
       "2   1014849174  \n",
       "3    890552579  \n",
       "4    968865826  \n",
       "5   1081790452  \n",
       "6    918526698  \n",
       "7    924413503  \n",
       "8    994858803  \n",
       "9   1081555296  \n",
       "10  1079783829  \n",
       "11   973121347  \n",
       "12   948674457  \n",
       "13   977731723  \n",
       "14   910034900  \n",
       "15  1020805140  \n",
       "16   962132564  \n",
       "17   996511656  \n",
       "18   757961706  \n",
       "19   976378543  \n",
       "20   977135635  \n",
       "21   883613902  \n",
       "22  1264353103  \n",
       "23   925603634  \n",
       "24   986089058  \n",
       "25   984657019  \n",
       "26   867840318  \n",
       "27   955420714  \n",
       "28   976913557  \n",
       "29  1051307261  \n",
       "30  1107636171  \n",
       "31  1052040579  \n",
       "32  1071783049  "
      ]
     },
     "execution_count": 186,
     "metadata": {},
     "output_type": "execute_result"
    }
   ],
   "source": [
    "estados = states_likes.groupby(['state','lat','lon'], as_index=False)['likes','dislikes','views'].sum()\n",
    "estados"
   ]
  },
  {
   "cell_type": "code",
   "execution_count": 187,
   "metadata": {},
   "outputs": [],
   "source": [
    "estados['likes'] = estados['likes'].astype(np.int32)\n",
    "estados['views'] = estados['views'].astype(np.int32)\n",
    "estados['dislikes'] = estados['dislikes'].astype(np.int32)"
   ]
  },
  {
   "cell_type": "code",
   "execution_count": 193,
   "metadata": {},
   "outputs": [
    {
     "data": {
      "application/vnd.plotly.v1+json": {
       "config": {
        "plotlyServerURL": "https://plot.ly"
       },
       "data": [
        {
         "hovertemplate": "<b>%{hovertext}</b><br><br>likes=%{marker.color}<br>lat=%{lat}<br>lon=%{lon}<extra></extra>",
         "hovertext": [
          "Andaman And Nicobar",
          "Andhra Pradesh",
          "Arunachal Pradesh",
          "Assam",
          "Bihar",
          "Chandigarh",
          "Chhattisgarh",
          "Dadra And Nagar Haveli",
          "Delhi",
          "Goa",
          "Haryana",
          "Himachal Pradesh",
          "Jammu And Kashmir",
          "Jharkhand",
          "Karnataka",
          "Kerala",
          "Lakshadweep",
          "Madhya Pradesh",
          "Maharashtra",
          "Manipur",
          "Meghalaya",
          "Mizoram",
          "Nagaland",
          "Orissa",
          "Puducherry",
          "Punjab",
          "Rajasthan",
          "Sikkim",
          "Tamil Nadu",
          "Tripura",
          "Uttar Pradesh",
          "Uttaranchal",
          "West Bengal"
         ],
         "lat": [
          11.66702557,
          14.7504291,
          27.10039878,
          26.7499809,
          25.78541445,
          30.71999697,
          22.09042035,
          20.26657819,
          28.6699929,
          15.491997,
          28.45000633,
          31.10002545,
          34.29995933,
          23.80039349,
          12.57038129,
          8.900372741,
          10.56257331,
          21.30039105,
          19.25023195,
          24.79997072,
          25.57049217,
          23.71039899,
          25.6669979,
          19.82042971,
          11.93499371,
          31.51997398,
          26.44999921,
          27.3333303,
          12.92038576,
          23.83540428,
          27.59998069,
          30.32040895,
          22.58039044
         ],
         "legendgroup": "",
         "lon": [
          92.73598262,
          78.57002559,
          93.61660071,
          94.21666744,
          87.4799727,
          76.78000565,
          82.15998734,
          73.0166178,
          77.23000403,
          73.81800065,
          77.01999101,
          77.16659704,
          74.46665849,
          86.41998572,
          76.91999711,
          76.56999263,
          72.63686717,
          76.13001949,
          73.16017493,
          93.95001705,
          91.8800142,
          92.72001461,
          94.11657019,
          85.90001746,
          79.83000037,
          75.98000281,
          74.63998124,
          88.6166475,
          79.15004187,
          91.27999914,
          78.05000565,
          78.05000565,
          88.32994665
         ],
         "marker": {
          "color": [
           31098764,
           34082079,
           25544885,
           21264242,
           24163217,
           28161813,
           23531383,
           24450678,
           25764380,
           26342984,
           27812260,
           24662429,
           23854250,
           25635924,
           23136314,
           28553916,
           23401049,
           22516388,
           19485422,
           23448275,
           25209527,
           22072830,
           35931924,
           21447383,
           25779841,
           24732395,
           25542795,
           26817873,
           22672973,
           25027829,
           26912263,
           25253252,
           30210186
          ],
          "coloraxis": "coloraxis",
          "size": [
           31098764,
           34082079,
           25544885,
           21264242,
           24163217,
           28161813,
           23531383,
           24450678,
           25764380,
           26342984,
           27812260,
           24662429,
           23854250,
           25635924,
           23136314,
           28553916,
           23401049,
           22516388,
           19485422,
           23448275,
           25209527,
           22072830,
           35931924,
           21447383,
           25779841,
           24732395,
           25542795,
           26817873,
           22672973,
           25027829,
           26912263,
           25253252,
           30210186
          ],
          "sizemode": "area",
          "sizeref": 359319.24
         },
         "mode": "markers",
         "name": "",
         "showlegend": false,
         "subplot": "mapbox",
         "type": "scattermapbox"
        }
       ],
       "layout": {
        "coloraxis": {
         "colorbar": {
          "title": {
           "text": "likes"
          }
         },
         "colorscale": [
          [
           0,
           "rgb(3, 5, 18)"
          ],
          [
           0.09090909090909091,
           "rgb(25, 25, 51)"
          ],
          [
           0.18181818181818182,
           "rgb(44, 42, 87)"
          ],
          [
           0.2727272727272727,
           "rgb(58, 60, 125)"
          ],
          [
           0.36363636363636365,
           "rgb(62, 83, 160)"
          ],
          [
           0.45454545454545453,
           "rgb(62, 109, 178)"
          ],
          [
           0.5454545454545454,
           "rgb(72, 134, 187)"
          ],
          [
           0.6363636363636364,
           "rgb(89, 159, 196)"
          ],
          [
           0.7272727272727273,
           "rgb(114, 184, 205)"
          ],
          [
           0.8181818181818182,
           "rgb(149, 207, 216)"
          ],
          [
           0.9090909090909091,
           "rgb(192, 229, 232)"
          ],
          [
           1,
           "rgb(234, 252, 253)"
          ]
         ]
        },
        "legend": {
         "itemsizing": "constant",
         "tracegroupgap": 0
        },
        "mapbox": {
         "center": {
          "lat": 22.6542341200303,
          "lon": 82.20022462151516
         },
         "domain": {
          "x": [
           0,
           1
          ],
          "y": [
           0,
           1
          ]
         },
         "style": "open-street-map",
         "zoom": 3
        },
        "template": {
         "data": {
          "bar": [
           {
            "error_x": {
             "color": "#2a3f5f"
            },
            "error_y": {
             "color": "#2a3f5f"
            },
            "marker": {
             "line": {
              "color": "#E5ECF6",
              "width": 0.5
             },
             "pattern": {
              "fillmode": "overlay",
              "size": 10,
              "solidity": 0.2
             }
            },
            "type": "bar"
           }
          ],
          "barpolar": [
           {
            "marker": {
             "line": {
              "color": "#E5ECF6",
              "width": 0.5
             },
             "pattern": {
              "fillmode": "overlay",
              "size": 10,
              "solidity": 0.2
             }
            },
            "type": "barpolar"
           }
          ],
          "carpet": [
           {
            "aaxis": {
             "endlinecolor": "#2a3f5f",
             "gridcolor": "white",
             "linecolor": "white",
             "minorgridcolor": "white",
             "startlinecolor": "#2a3f5f"
            },
            "baxis": {
             "endlinecolor": "#2a3f5f",
             "gridcolor": "white",
             "linecolor": "white",
             "minorgridcolor": "white",
             "startlinecolor": "#2a3f5f"
            },
            "type": "carpet"
           }
          ],
          "choropleth": [
           {
            "colorbar": {
             "outlinewidth": 0,
             "ticks": ""
            },
            "type": "choropleth"
           }
          ],
          "contour": [
           {
            "colorbar": {
             "outlinewidth": 0,
             "ticks": ""
            },
            "colorscale": [
             [
              0,
              "#0d0887"
             ],
             [
              0.1111111111111111,
              "#46039f"
             ],
             [
              0.2222222222222222,
              "#7201a8"
             ],
             [
              0.3333333333333333,
              "#9c179e"
             ],
             [
              0.4444444444444444,
              "#bd3786"
             ],
             [
              0.5555555555555556,
              "#d8576b"
             ],
             [
              0.6666666666666666,
              "#ed7953"
             ],
             [
              0.7777777777777778,
              "#fb9f3a"
             ],
             [
              0.8888888888888888,
              "#fdca26"
             ],
             [
              1,
              "#f0f921"
             ]
            ],
            "type": "contour"
           }
          ],
          "contourcarpet": [
           {
            "colorbar": {
             "outlinewidth": 0,
             "ticks": ""
            },
            "type": "contourcarpet"
           }
          ],
          "heatmap": [
           {
            "colorbar": {
             "outlinewidth": 0,
             "ticks": ""
            },
            "colorscale": [
             [
              0,
              "#0d0887"
             ],
             [
              0.1111111111111111,
              "#46039f"
             ],
             [
              0.2222222222222222,
              "#7201a8"
             ],
             [
              0.3333333333333333,
              "#9c179e"
             ],
             [
              0.4444444444444444,
              "#bd3786"
             ],
             [
              0.5555555555555556,
              "#d8576b"
             ],
             [
              0.6666666666666666,
              "#ed7953"
             ],
             [
              0.7777777777777778,
              "#fb9f3a"
             ],
             [
              0.8888888888888888,
              "#fdca26"
             ],
             [
              1,
              "#f0f921"
             ]
            ],
            "type": "heatmap"
           }
          ],
          "heatmapgl": [
           {
            "colorbar": {
             "outlinewidth": 0,
             "ticks": ""
            },
            "colorscale": [
             [
              0,
              "#0d0887"
             ],
             [
              0.1111111111111111,
              "#46039f"
             ],
             [
              0.2222222222222222,
              "#7201a8"
             ],
             [
              0.3333333333333333,
              "#9c179e"
             ],
             [
              0.4444444444444444,
              "#bd3786"
             ],
             [
              0.5555555555555556,
              "#d8576b"
             ],
             [
              0.6666666666666666,
              "#ed7953"
             ],
             [
              0.7777777777777778,
              "#fb9f3a"
             ],
             [
              0.8888888888888888,
              "#fdca26"
             ],
             [
              1,
              "#f0f921"
             ]
            ],
            "type": "heatmapgl"
           }
          ],
          "histogram": [
           {
            "marker": {
             "pattern": {
              "fillmode": "overlay",
              "size": 10,
              "solidity": 0.2
             }
            },
            "type": "histogram"
           }
          ],
          "histogram2d": [
           {
            "colorbar": {
             "outlinewidth": 0,
             "ticks": ""
            },
            "colorscale": [
             [
              0,
              "#0d0887"
             ],
             [
              0.1111111111111111,
              "#46039f"
             ],
             [
              0.2222222222222222,
              "#7201a8"
             ],
             [
              0.3333333333333333,
              "#9c179e"
             ],
             [
              0.4444444444444444,
              "#bd3786"
             ],
             [
              0.5555555555555556,
              "#d8576b"
             ],
             [
              0.6666666666666666,
              "#ed7953"
             ],
             [
              0.7777777777777778,
              "#fb9f3a"
             ],
             [
              0.8888888888888888,
              "#fdca26"
             ],
             [
              1,
              "#f0f921"
             ]
            ],
            "type": "histogram2d"
           }
          ],
          "histogram2dcontour": [
           {
            "colorbar": {
             "outlinewidth": 0,
             "ticks": ""
            },
            "colorscale": [
             [
              0,
              "#0d0887"
             ],
             [
              0.1111111111111111,
              "#46039f"
             ],
             [
              0.2222222222222222,
              "#7201a8"
             ],
             [
              0.3333333333333333,
              "#9c179e"
             ],
             [
              0.4444444444444444,
              "#bd3786"
             ],
             [
              0.5555555555555556,
              "#d8576b"
             ],
             [
              0.6666666666666666,
              "#ed7953"
             ],
             [
              0.7777777777777778,
              "#fb9f3a"
             ],
             [
              0.8888888888888888,
              "#fdca26"
             ],
             [
              1,
              "#f0f921"
             ]
            ],
            "type": "histogram2dcontour"
           }
          ],
          "mesh3d": [
           {
            "colorbar": {
             "outlinewidth": 0,
             "ticks": ""
            },
            "type": "mesh3d"
           }
          ],
          "parcoords": [
           {
            "line": {
             "colorbar": {
              "outlinewidth": 0,
              "ticks": ""
             }
            },
            "type": "parcoords"
           }
          ],
          "pie": [
           {
            "automargin": true,
            "type": "pie"
           }
          ],
          "scatter": [
           {
            "marker": {
             "colorbar": {
              "outlinewidth": 0,
              "ticks": ""
             }
            },
            "type": "scatter"
           }
          ],
          "scatter3d": [
           {
            "line": {
             "colorbar": {
              "outlinewidth": 0,
              "ticks": ""
             }
            },
            "marker": {
             "colorbar": {
              "outlinewidth": 0,
              "ticks": ""
             }
            },
            "type": "scatter3d"
           }
          ],
          "scattercarpet": [
           {
            "marker": {
             "colorbar": {
              "outlinewidth": 0,
              "ticks": ""
             }
            },
            "type": "scattercarpet"
           }
          ],
          "scattergeo": [
           {
            "marker": {
             "colorbar": {
              "outlinewidth": 0,
              "ticks": ""
             }
            },
            "type": "scattergeo"
           }
          ],
          "scattergl": [
           {
            "marker": {
             "colorbar": {
              "outlinewidth": 0,
              "ticks": ""
             }
            },
            "type": "scattergl"
           }
          ],
          "scattermapbox": [
           {
            "marker": {
             "colorbar": {
              "outlinewidth": 0,
              "ticks": ""
             }
            },
            "type": "scattermapbox"
           }
          ],
          "scatterpolar": [
           {
            "marker": {
             "colorbar": {
              "outlinewidth": 0,
              "ticks": ""
             }
            },
            "type": "scatterpolar"
           }
          ],
          "scatterpolargl": [
           {
            "marker": {
             "colorbar": {
              "outlinewidth": 0,
              "ticks": ""
             }
            },
            "type": "scatterpolargl"
           }
          ],
          "scatterternary": [
           {
            "marker": {
             "colorbar": {
              "outlinewidth": 0,
              "ticks": ""
             }
            },
            "type": "scatterternary"
           }
          ],
          "surface": [
           {
            "colorbar": {
             "outlinewidth": 0,
             "ticks": ""
            },
            "colorscale": [
             [
              0,
              "#0d0887"
             ],
             [
              0.1111111111111111,
              "#46039f"
             ],
             [
              0.2222222222222222,
              "#7201a8"
             ],
             [
              0.3333333333333333,
              "#9c179e"
             ],
             [
              0.4444444444444444,
              "#bd3786"
             ],
             [
              0.5555555555555556,
              "#d8576b"
             ],
             [
              0.6666666666666666,
              "#ed7953"
             ],
             [
              0.7777777777777778,
              "#fb9f3a"
             ],
             [
              0.8888888888888888,
              "#fdca26"
             ],
             [
              1,
              "#f0f921"
             ]
            ],
            "type": "surface"
           }
          ],
          "table": [
           {
            "cells": {
             "fill": {
              "color": "#EBF0F8"
             },
             "line": {
              "color": "white"
             }
            },
            "header": {
             "fill": {
              "color": "#C8D4E3"
             },
             "line": {
              "color": "white"
             }
            },
            "type": "table"
           }
          ]
         },
         "layout": {
          "annotationdefaults": {
           "arrowcolor": "#2a3f5f",
           "arrowhead": 0,
           "arrowwidth": 1
          },
          "autotypenumbers": "strict",
          "coloraxis": {
           "colorbar": {
            "outlinewidth": 0,
            "ticks": ""
           }
          },
          "colorscale": {
           "diverging": [
            [
             0,
             "#8e0152"
            ],
            [
             0.1,
             "#c51b7d"
            ],
            [
             0.2,
             "#de77ae"
            ],
            [
             0.3,
             "#f1b6da"
            ],
            [
             0.4,
             "#fde0ef"
            ],
            [
             0.5,
             "#f7f7f7"
            ],
            [
             0.6,
             "#e6f5d0"
            ],
            [
             0.7,
             "#b8e186"
            ],
            [
             0.8,
             "#7fbc41"
            ],
            [
             0.9,
             "#4d9221"
            ],
            [
             1,
             "#276419"
            ]
           ],
           "sequential": [
            [
             0,
             "#0d0887"
            ],
            [
             0.1111111111111111,
             "#46039f"
            ],
            [
             0.2222222222222222,
             "#7201a8"
            ],
            [
             0.3333333333333333,
             "#9c179e"
            ],
            [
             0.4444444444444444,
             "#bd3786"
            ],
            [
             0.5555555555555556,
             "#d8576b"
            ],
            [
             0.6666666666666666,
             "#ed7953"
            ],
            [
             0.7777777777777778,
             "#fb9f3a"
            ],
            [
             0.8888888888888888,
             "#fdca26"
            ],
            [
             1,
             "#f0f921"
            ]
           ],
           "sequentialminus": [
            [
             0,
             "#0d0887"
            ],
            [
             0.1111111111111111,
             "#46039f"
            ],
            [
             0.2222222222222222,
             "#7201a8"
            ],
            [
             0.3333333333333333,
             "#9c179e"
            ],
            [
             0.4444444444444444,
             "#bd3786"
            ],
            [
             0.5555555555555556,
             "#d8576b"
            ],
            [
             0.6666666666666666,
             "#ed7953"
            ],
            [
             0.7777777777777778,
             "#fb9f3a"
            ],
            [
             0.8888888888888888,
             "#fdca26"
            ],
            [
             1,
             "#f0f921"
            ]
           ]
          },
          "colorway": [
           "#636efa",
           "#EF553B",
           "#00cc96",
           "#ab63fa",
           "#FFA15A",
           "#19d3f3",
           "#FF6692",
           "#B6E880",
           "#FF97FF",
           "#FECB52"
          ],
          "font": {
           "color": "#2a3f5f"
          },
          "geo": {
           "bgcolor": "white",
           "lakecolor": "white",
           "landcolor": "#E5ECF6",
           "showlakes": true,
           "showland": true,
           "subunitcolor": "white"
          },
          "hoverlabel": {
           "align": "left"
          },
          "hovermode": "closest",
          "mapbox": {
           "style": "light"
          },
          "paper_bgcolor": "white",
          "plot_bgcolor": "#E5ECF6",
          "polar": {
           "angularaxis": {
            "gridcolor": "white",
            "linecolor": "white",
            "ticks": ""
           },
           "bgcolor": "#E5ECF6",
           "radialaxis": {
            "gridcolor": "white",
            "linecolor": "white",
            "ticks": ""
           }
          },
          "scene": {
           "xaxis": {
            "backgroundcolor": "#E5ECF6",
            "gridcolor": "white",
            "gridwidth": 2,
            "linecolor": "white",
            "showbackground": true,
            "ticks": "",
            "zerolinecolor": "white"
           },
           "yaxis": {
            "backgroundcolor": "#E5ECF6",
            "gridcolor": "white",
            "gridwidth": 2,
            "linecolor": "white",
            "showbackground": true,
            "ticks": "",
            "zerolinecolor": "white"
           },
           "zaxis": {
            "backgroundcolor": "#E5ECF6",
            "gridcolor": "white",
            "gridwidth": 2,
            "linecolor": "white",
            "showbackground": true,
            "ticks": "",
            "zerolinecolor": "white"
           }
          },
          "shapedefaults": {
           "line": {
            "color": "#2a3f5f"
           }
          },
          "ternary": {
           "aaxis": {
            "gridcolor": "white",
            "linecolor": "white",
            "ticks": ""
           },
           "baxis": {
            "gridcolor": "white",
            "linecolor": "white",
            "ticks": ""
           },
           "bgcolor": "#E5ECF6",
           "caxis": {
            "gridcolor": "white",
            "linecolor": "white",
            "ticks": ""
           }
          },
          "title": {
           "x": 0.05
          },
          "xaxis": {
           "automargin": true,
           "gridcolor": "white",
           "linecolor": "white",
           "ticks": "",
           "title": {
            "standoff": 15
           },
           "zerolinecolor": "white",
           "zerolinewidth": 2
          },
          "yaxis": {
           "automargin": true,
           "gridcolor": "white",
           "linecolor": "white",
           "ticks": "",
           "title": {
            "standoff": 15
           },
           "zerolinecolor": "white",
           "zerolinewidth": 2
          }
         }
        },
        "title": {
         "text": "Me gusta por distritos de India "
        }
       }
      }
     },
     "metadata": {},
     "output_type": "display_data"
    }
   ],
   "source": [
    "map = px.scatter_mapbox(\n",
    "    estados, \n",
    "    title='Me gusta por distritos de India ',\n",
    "    color='likes',\n",
    "    color_continuous_scale='ice',\n",
    "    lat='lat',\n",
    "    lon='lon',\n",
    "    zoom=3,\n",
    "    hover_name='state',\n",
    "    size=\"likes\",\n",
    "    size_max=10,\n",
    "    mapbox_style='open-street-map',\n",
    "\n",
    ")\n",
    "map.show()"
   ]
  },
  {
   "cell_type": "code",
   "execution_count": 192,
   "metadata": {},
   "outputs": [
    {
     "data": {
      "application/vnd.plotly.v1+json": {
       "config": {
        "plotlyServerURL": "https://plot.ly"
       },
       "data": [
        {
         "hovertemplate": "<b>%{hovertext}</b><br><br>views=%{marker.color}<br>lat=%{lat}<br>lon=%{lon}<extra></extra>",
         "hovertext": [
          "Andaman And Nicobar",
          "Andhra Pradesh",
          "Arunachal Pradesh",
          "Assam",
          "Bihar",
          "Chandigarh",
          "Chhattisgarh",
          "Dadra And Nagar Haveli",
          "Delhi",
          "Goa",
          "Haryana",
          "Himachal Pradesh",
          "Jammu And Kashmir",
          "Jharkhand",
          "Karnataka",
          "Kerala",
          "Lakshadweep",
          "Madhya Pradesh",
          "Maharashtra",
          "Manipur",
          "Meghalaya",
          "Mizoram",
          "Nagaland",
          "Orissa",
          "Puducherry",
          "Punjab",
          "Rajasthan",
          "Sikkim",
          "Tamil Nadu",
          "Tripura",
          "Uttar Pradesh",
          "Uttaranchal",
          "West Bengal"
         ],
         "lat": [
          11.66702557,
          14.7504291,
          27.10039878,
          26.7499809,
          25.78541445,
          30.71999697,
          22.09042035,
          20.26657819,
          28.6699929,
          15.491997,
          28.45000633,
          31.10002545,
          34.29995933,
          23.80039349,
          12.57038129,
          8.900372741,
          10.56257331,
          21.30039105,
          19.25023195,
          24.79997072,
          25.57049217,
          23.71039899,
          25.6669979,
          19.82042971,
          11.93499371,
          31.51997398,
          26.44999921,
          27.3333303,
          12.92038576,
          23.83540428,
          27.59998069,
          30.32040895,
          22.58039044
         ],
         "legendgroup": "",
         "lon": [
          92.73598262,
          78.57002559,
          93.61660071,
          94.21666744,
          87.4799727,
          76.78000565,
          82.15998734,
          73.0166178,
          77.23000403,
          73.81800065,
          77.01999101,
          77.16659704,
          74.46665849,
          86.41998572,
          76.91999711,
          76.56999263,
          72.63686717,
          76.13001949,
          73.16017493,
          93.95001705,
          91.8800142,
          92.72001461,
          94.11657019,
          85.90001746,
          79.83000037,
          75.98000281,
          74.63998124,
          88.6166475,
          79.15004187,
          91.27999914,
          78.05000565,
          78.05000565,
          88.32994665
         ],
         "marker": {
          "color": [
           1119633361,
           1193901556,
           1014849174,
           890552579,
           968865826,
           1081790452,
           918526698,
           924413503,
           994858803,
           1081555296,
           1079783829,
           973121347,
           948674457,
           977731723,
           910034900,
           1020805140,
           962132564,
           996511656,
           757961706,
           976378543,
           977135635,
           883613902,
           1264353103,
           925603634,
           986089058,
           984657019,
           867840318,
           955420714,
           976913557,
           1051307261,
           1107636171,
           1052040579,
           1071783049
          ],
          "coloraxis": "coloraxis",
          "size": [
           1119633361,
           1193901556,
           1014849174,
           890552579,
           968865826,
           1081790452,
           918526698,
           924413503,
           994858803,
           1081555296,
           1079783829,
           973121347,
           948674457,
           977731723,
           910034900,
           1020805140,
           962132564,
           996511656,
           757961706,
           976378543,
           977135635,
           883613902,
           1264353103,
           925603634,
           986089058,
           984657019,
           867840318,
           955420714,
           976913557,
           1051307261,
           1107636171,
           1052040579,
           1071783049
          ],
          "sizemode": "area",
          "sizeref": 12643531.03
         },
         "mode": "markers",
         "name": "",
         "showlegend": false,
         "subplot": "mapbox",
         "type": "scattermapbox"
        }
       ],
       "layout": {
        "coloraxis": {
         "colorbar": {
          "title": {
           "text": "views"
          }
         },
         "colorscale": [
          [
           0,
           "rgb(3, 5, 18)"
          ],
          [
           0.09090909090909091,
           "rgb(25, 25, 51)"
          ],
          [
           0.18181818181818182,
           "rgb(44, 42, 87)"
          ],
          [
           0.2727272727272727,
           "rgb(58, 60, 125)"
          ],
          [
           0.36363636363636365,
           "rgb(62, 83, 160)"
          ],
          [
           0.45454545454545453,
           "rgb(62, 109, 178)"
          ],
          [
           0.5454545454545454,
           "rgb(72, 134, 187)"
          ],
          [
           0.6363636363636364,
           "rgb(89, 159, 196)"
          ],
          [
           0.7272727272727273,
           "rgb(114, 184, 205)"
          ],
          [
           0.8181818181818182,
           "rgb(149, 207, 216)"
          ],
          [
           0.9090909090909091,
           "rgb(192, 229, 232)"
          ],
          [
           1,
           "rgb(234, 252, 253)"
          ]
         ]
        },
        "legend": {
         "itemsizing": "constant",
         "tracegroupgap": 0
        },
        "mapbox": {
         "center": {
          "lat": 22.6542341200303,
          "lon": 82.20022462151516
         },
         "domain": {
          "x": [
           0,
           1
          ],
          "y": [
           0,
           1
          ]
         },
         "style": "open-street-map",
         "zoom": 3
        },
        "template": {
         "data": {
          "bar": [
           {
            "error_x": {
             "color": "#2a3f5f"
            },
            "error_y": {
             "color": "#2a3f5f"
            },
            "marker": {
             "line": {
              "color": "#E5ECF6",
              "width": 0.5
             },
             "pattern": {
              "fillmode": "overlay",
              "size": 10,
              "solidity": 0.2
             }
            },
            "type": "bar"
           }
          ],
          "barpolar": [
           {
            "marker": {
             "line": {
              "color": "#E5ECF6",
              "width": 0.5
             },
             "pattern": {
              "fillmode": "overlay",
              "size": 10,
              "solidity": 0.2
             }
            },
            "type": "barpolar"
           }
          ],
          "carpet": [
           {
            "aaxis": {
             "endlinecolor": "#2a3f5f",
             "gridcolor": "white",
             "linecolor": "white",
             "minorgridcolor": "white",
             "startlinecolor": "#2a3f5f"
            },
            "baxis": {
             "endlinecolor": "#2a3f5f",
             "gridcolor": "white",
             "linecolor": "white",
             "minorgridcolor": "white",
             "startlinecolor": "#2a3f5f"
            },
            "type": "carpet"
           }
          ],
          "choropleth": [
           {
            "colorbar": {
             "outlinewidth": 0,
             "ticks": ""
            },
            "type": "choropleth"
           }
          ],
          "contour": [
           {
            "colorbar": {
             "outlinewidth": 0,
             "ticks": ""
            },
            "colorscale": [
             [
              0,
              "#0d0887"
             ],
             [
              0.1111111111111111,
              "#46039f"
             ],
             [
              0.2222222222222222,
              "#7201a8"
             ],
             [
              0.3333333333333333,
              "#9c179e"
             ],
             [
              0.4444444444444444,
              "#bd3786"
             ],
             [
              0.5555555555555556,
              "#d8576b"
             ],
             [
              0.6666666666666666,
              "#ed7953"
             ],
             [
              0.7777777777777778,
              "#fb9f3a"
             ],
             [
              0.8888888888888888,
              "#fdca26"
             ],
             [
              1,
              "#f0f921"
             ]
            ],
            "type": "contour"
           }
          ],
          "contourcarpet": [
           {
            "colorbar": {
             "outlinewidth": 0,
             "ticks": ""
            },
            "type": "contourcarpet"
           }
          ],
          "heatmap": [
           {
            "colorbar": {
             "outlinewidth": 0,
             "ticks": ""
            },
            "colorscale": [
             [
              0,
              "#0d0887"
             ],
             [
              0.1111111111111111,
              "#46039f"
             ],
             [
              0.2222222222222222,
              "#7201a8"
             ],
             [
              0.3333333333333333,
              "#9c179e"
             ],
             [
              0.4444444444444444,
              "#bd3786"
             ],
             [
              0.5555555555555556,
              "#d8576b"
             ],
             [
              0.6666666666666666,
              "#ed7953"
             ],
             [
              0.7777777777777778,
              "#fb9f3a"
             ],
             [
              0.8888888888888888,
              "#fdca26"
             ],
             [
              1,
              "#f0f921"
             ]
            ],
            "type": "heatmap"
           }
          ],
          "heatmapgl": [
           {
            "colorbar": {
             "outlinewidth": 0,
             "ticks": ""
            },
            "colorscale": [
             [
              0,
              "#0d0887"
             ],
             [
              0.1111111111111111,
              "#46039f"
             ],
             [
              0.2222222222222222,
              "#7201a8"
             ],
             [
              0.3333333333333333,
              "#9c179e"
             ],
             [
              0.4444444444444444,
              "#bd3786"
             ],
             [
              0.5555555555555556,
              "#d8576b"
             ],
             [
              0.6666666666666666,
              "#ed7953"
             ],
             [
              0.7777777777777778,
              "#fb9f3a"
             ],
             [
              0.8888888888888888,
              "#fdca26"
             ],
             [
              1,
              "#f0f921"
             ]
            ],
            "type": "heatmapgl"
           }
          ],
          "histogram": [
           {
            "marker": {
             "pattern": {
              "fillmode": "overlay",
              "size": 10,
              "solidity": 0.2
             }
            },
            "type": "histogram"
           }
          ],
          "histogram2d": [
           {
            "colorbar": {
             "outlinewidth": 0,
             "ticks": ""
            },
            "colorscale": [
             [
              0,
              "#0d0887"
             ],
             [
              0.1111111111111111,
              "#46039f"
             ],
             [
              0.2222222222222222,
              "#7201a8"
             ],
             [
              0.3333333333333333,
              "#9c179e"
             ],
             [
              0.4444444444444444,
              "#bd3786"
             ],
             [
              0.5555555555555556,
              "#d8576b"
             ],
             [
              0.6666666666666666,
              "#ed7953"
             ],
             [
              0.7777777777777778,
              "#fb9f3a"
             ],
             [
              0.8888888888888888,
              "#fdca26"
             ],
             [
              1,
              "#f0f921"
             ]
            ],
            "type": "histogram2d"
           }
          ],
          "histogram2dcontour": [
           {
            "colorbar": {
             "outlinewidth": 0,
             "ticks": ""
            },
            "colorscale": [
             [
              0,
              "#0d0887"
             ],
             [
              0.1111111111111111,
              "#46039f"
             ],
             [
              0.2222222222222222,
              "#7201a8"
             ],
             [
              0.3333333333333333,
              "#9c179e"
             ],
             [
              0.4444444444444444,
              "#bd3786"
             ],
             [
              0.5555555555555556,
              "#d8576b"
             ],
             [
              0.6666666666666666,
              "#ed7953"
             ],
             [
              0.7777777777777778,
              "#fb9f3a"
             ],
             [
              0.8888888888888888,
              "#fdca26"
             ],
             [
              1,
              "#f0f921"
             ]
            ],
            "type": "histogram2dcontour"
           }
          ],
          "mesh3d": [
           {
            "colorbar": {
             "outlinewidth": 0,
             "ticks": ""
            },
            "type": "mesh3d"
           }
          ],
          "parcoords": [
           {
            "line": {
             "colorbar": {
              "outlinewidth": 0,
              "ticks": ""
             }
            },
            "type": "parcoords"
           }
          ],
          "pie": [
           {
            "automargin": true,
            "type": "pie"
           }
          ],
          "scatter": [
           {
            "marker": {
             "colorbar": {
              "outlinewidth": 0,
              "ticks": ""
             }
            },
            "type": "scatter"
           }
          ],
          "scatter3d": [
           {
            "line": {
             "colorbar": {
              "outlinewidth": 0,
              "ticks": ""
             }
            },
            "marker": {
             "colorbar": {
              "outlinewidth": 0,
              "ticks": ""
             }
            },
            "type": "scatter3d"
           }
          ],
          "scattercarpet": [
           {
            "marker": {
             "colorbar": {
              "outlinewidth": 0,
              "ticks": ""
             }
            },
            "type": "scattercarpet"
           }
          ],
          "scattergeo": [
           {
            "marker": {
             "colorbar": {
              "outlinewidth": 0,
              "ticks": ""
             }
            },
            "type": "scattergeo"
           }
          ],
          "scattergl": [
           {
            "marker": {
             "colorbar": {
              "outlinewidth": 0,
              "ticks": ""
             }
            },
            "type": "scattergl"
           }
          ],
          "scattermapbox": [
           {
            "marker": {
             "colorbar": {
              "outlinewidth": 0,
              "ticks": ""
             }
            },
            "type": "scattermapbox"
           }
          ],
          "scatterpolar": [
           {
            "marker": {
             "colorbar": {
              "outlinewidth": 0,
              "ticks": ""
             }
            },
            "type": "scatterpolar"
           }
          ],
          "scatterpolargl": [
           {
            "marker": {
             "colorbar": {
              "outlinewidth": 0,
              "ticks": ""
             }
            },
            "type": "scatterpolargl"
           }
          ],
          "scatterternary": [
           {
            "marker": {
             "colorbar": {
              "outlinewidth": 0,
              "ticks": ""
             }
            },
            "type": "scatterternary"
           }
          ],
          "surface": [
           {
            "colorbar": {
             "outlinewidth": 0,
             "ticks": ""
            },
            "colorscale": [
             [
              0,
              "#0d0887"
             ],
             [
              0.1111111111111111,
              "#46039f"
             ],
             [
              0.2222222222222222,
              "#7201a8"
             ],
             [
              0.3333333333333333,
              "#9c179e"
             ],
             [
              0.4444444444444444,
              "#bd3786"
             ],
             [
              0.5555555555555556,
              "#d8576b"
             ],
             [
              0.6666666666666666,
              "#ed7953"
             ],
             [
              0.7777777777777778,
              "#fb9f3a"
             ],
             [
              0.8888888888888888,
              "#fdca26"
             ],
             [
              1,
              "#f0f921"
             ]
            ],
            "type": "surface"
           }
          ],
          "table": [
           {
            "cells": {
             "fill": {
              "color": "#EBF0F8"
             },
             "line": {
              "color": "white"
             }
            },
            "header": {
             "fill": {
              "color": "#C8D4E3"
             },
             "line": {
              "color": "white"
             }
            },
            "type": "table"
           }
          ]
         },
         "layout": {
          "annotationdefaults": {
           "arrowcolor": "#2a3f5f",
           "arrowhead": 0,
           "arrowwidth": 1
          },
          "autotypenumbers": "strict",
          "coloraxis": {
           "colorbar": {
            "outlinewidth": 0,
            "ticks": ""
           }
          },
          "colorscale": {
           "diverging": [
            [
             0,
             "#8e0152"
            ],
            [
             0.1,
             "#c51b7d"
            ],
            [
             0.2,
             "#de77ae"
            ],
            [
             0.3,
             "#f1b6da"
            ],
            [
             0.4,
             "#fde0ef"
            ],
            [
             0.5,
             "#f7f7f7"
            ],
            [
             0.6,
             "#e6f5d0"
            ],
            [
             0.7,
             "#b8e186"
            ],
            [
             0.8,
             "#7fbc41"
            ],
            [
             0.9,
             "#4d9221"
            ],
            [
             1,
             "#276419"
            ]
           ],
           "sequential": [
            [
             0,
             "#0d0887"
            ],
            [
             0.1111111111111111,
             "#46039f"
            ],
            [
             0.2222222222222222,
             "#7201a8"
            ],
            [
             0.3333333333333333,
             "#9c179e"
            ],
            [
             0.4444444444444444,
             "#bd3786"
            ],
            [
             0.5555555555555556,
             "#d8576b"
            ],
            [
             0.6666666666666666,
             "#ed7953"
            ],
            [
             0.7777777777777778,
             "#fb9f3a"
            ],
            [
             0.8888888888888888,
             "#fdca26"
            ],
            [
             1,
             "#f0f921"
            ]
           ],
           "sequentialminus": [
            [
             0,
             "#0d0887"
            ],
            [
             0.1111111111111111,
             "#46039f"
            ],
            [
             0.2222222222222222,
             "#7201a8"
            ],
            [
             0.3333333333333333,
             "#9c179e"
            ],
            [
             0.4444444444444444,
             "#bd3786"
            ],
            [
             0.5555555555555556,
             "#d8576b"
            ],
            [
             0.6666666666666666,
             "#ed7953"
            ],
            [
             0.7777777777777778,
             "#fb9f3a"
            ],
            [
             0.8888888888888888,
             "#fdca26"
            ],
            [
             1,
             "#f0f921"
            ]
           ]
          },
          "colorway": [
           "#636efa",
           "#EF553B",
           "#00cc96",
           "#ab63fa",
           "#FFA15A",
           "#19d3f3",
           "#FF6692",
           "#B6E880",
           "#FF97FF",
           "#FECB52"
          ],
          "font": {
           "color": "#2a3f5f"
          },
          "geo": {
           "bgcolor": "white",
           "lakecolor": "white",
           "landcolor": "#E5ECF6",
           "showlakes": true,
           "showland": true,
           "subunitcolor": "white"
          },
          "hoverlabel": {
           "align": "left"
          },
          "hovermode": "closest",
          "mapbox": {
           "style": "light"
          },
          "paper_bgcolor": "white",
          "plot_bgcolor": "#E5ECF6",
          "polar": {
           "angularaxis": {
            "gridcolor": "white",
            "linecolor": "white",
            "ticks": ""
           },
           "bgcolor": "#E5ECF6",
           "radialaxis": {
            "gridcolor": "white",
            "linecolor": "white",
            "ticks": ""
           }
          },
          "scene": {
           "xaxis": {
            "backgroundcolor": "#E5ECF6",
            "gridcolor": "white",
            "gridwidth": 2,
            "linecolor": "white",
            "showbackground": true,
            "ticks": "",
            "zerolinecolor": "white"
           },
           "yaxis": {
            "backgroundcolor": "#E5ECF6",
            "gridcolor": "white",
            "gridwidth": 2,
            "linecolor": "white",
            "showbackground": true,
            "ticks": "",
            "zerolinecolor": "white"
           },
           "zaxis": {
            "backgroundcolor": "#E5ECF6",
            "gridcolor": "white",
            "gridwidth": 2,
            "linecolor": "white",
            "showbackground": true,
            "ticks": "",
            "zerolinecolor": "white"
           }
          },
          "shapedefaults": {
           "line": {
            "color": "#2a3f5f"
           }
          },
          "ternary": {
           "aaxis": {
            "gridcolor": "white",
            "linecolor": "white",
            "ticks": ""
           },
           "baxis": {
            "gridcolor": "white",
            "linecolor": "white",
            "ticks": ""
           },
           "bgcolor": "#E5ECF6",
           "caxis": {
            "gridcolor": "white",
            "linecolor": "white",
            "ticks": ""
           }
          },
          "title": {
           "x": 0.05
          },
          "xaxis": {
           "automargin": true,
           "gridcolor": "white",
           "linecolor": "white",
           "ticks": "",
           "title": {
            "standoff": 15
           },
           "zerolinecolor": "white",
           "zerolinewidth": 2
          },
          "yaxis": {
           "automargin": true,
           "gridcolor": "white",
           "linecolor": "white",
           "ticks": "",
           "title": {
            "standoff": 15
           },
           "zerolinecolor": "white",
           "zerolinewidth": 2
          }
         }
        },
        "title": {
         "text": "Vistas por distritos de India "
        }
       }
      }
     },
     "metadata": {},
     "output_type": "display_data"
    }
   ],
   "source": [
    "map = px.scatter_mapbox(\n",
    "    estados, \n",
    "    title='Vistas por distritos de India ',\n",
    "    color='views',\n",
    "    color_continuous_scale='ice',\n",
    "    lat='lat',\n",
    "    lon='lon',\n",
    "    zoom=3,\n",
    "    hover_name='state',\n",
    "    size=\"views\",\n",
    "    size_max=10,\n",
    "    mapbox_style='open-street-map',\n",
    ")\n",
    "map.show()"
   ]
  },
  {
   "cell_type": "code",
   "execution_count": 191,
   "metadata": {},
   "outputs": [
    {
     "data": {
      "application/vnd.plotly.v1+json": {
       "config": {
        "plotlyServerURL": "https://plot.ly"
       },
       "data": [
        {
         "hovertemplate": "<b>%{hovertext}</b><br><br>dislikes=%{marker.color}<br>lat=%{lat}<br>lon=%{lon}<extra></extra>",
         "hovertext": [
          "Andaman And Nicobar",
          "Andhra Pradesh",
          "Arunachal Pradesh",
          "Assam",
          "Bihar",
          "Chandigarh",
          "Chhattisgarh",
          "Dadra And Nagar Haveli",
          "Delhi",
          "Goa",
          "Haryana",
          "Himachal Pradesh",
          "Jammu And Kashmir",
          "Jharkhand",
          "Karnataka",
          "Kerala",
          "Lakshadweep",
          "Madhya Pradesh",
          "Maharashtra",
          "Manipur",
          "Meghalaya",
          "Mizoram",
          "Nagaland",
          "Orissa",
          "Puducherry",
          "Punjab",
          "Rajasthan",
          "Sikkim",
          "Tamil Nadu",
          "Tripura",
          "Uttar Pradesh",
          "Uttaranchal",
          "West Bengal"
         ],
         "lat": [
          11.66702557,
          14.7504291,
          27.10039878,
          26.7499809,
          25.78541445,
          30.71999697,
          22.09042035,
          20.26657819,
          28.6699929,
          15.491997,
          28.45000633,
          31.10002545,
          34.29995933,
          23.80039349,
          12.57038129,
          8.900372741,
          10.56257331,
          21.30039105,
          19.25023195,
          24.79997072,
          25.57049217,
          23.71039899,
          25.6669979,
          19.82042971,
          11.93499371,
          31.51997398,
          26.44999921,
          27.3333303,
          12.92038576,
          23.83540428,
          27.59998069,
          30.32040895,
          22.58039044
         ],
         "legendgroup": "",
         "lon": [
          92.73598262,
          78.57002559,
          93.61660071,
          94.21666744,
          87.4799727,
          76.78000565,
          82.15998734,
          73.0166178,
          77.23000403,
          73.81800065,
          77.01999101,
          77.16659704,
          74.46665849,
          86.41998572,
          76.91999711,
          76.56999263,
          72.63686717,
          76.13001949,
          73.16017493,
          93.95001705,
          91.8800142,
          92.72001461,
          94.11657019,
          85.90001746,
          79.83000037,
          75.98000281,
          74.63998124,
          88.6166475,
          79.15004187,
          91.27999914,
          78.05000565,
          78.05000565,
          88.32994665
         ],
         "marker": {
          "color": [
           1541489,
           1630041,
           1201201,
           1171239,
           2397069,
           1646015,
           1884329,
           1378504,
           1515814,
           2848744,
           1805292,
           1282193,
           1316218,
           1458887,
           1201613,
           2602070,
           1230528,
           1531787,
           987030,
           1325256,
           1477627,
           1385987,
           3008447,
           1217275,
           1289287,
           1309499,
           1256606,
           1340734,
           1246938,
           1386141,
           2199759,
           1484972,
           1482686
          ],
          "coloraxis": "coloraxis",
          "size": [
           1541489,
           1630041,
           1201201,
           1171239,
           2397069,
           1646015,
           1884329,
           1378504,
           1515814,
           2848744,
           1805292,
           1282193,
           1316218,
           1458887,
           1201613,
           2602070,
           1230528,
           1531787,
           987030,
           1325256,
           1477627,
           1385987,
           3008447,
           1217275,
           1289287,
           1309499,
           1256606,
           1340734,
           1246938,
           1386141,
           2199759,
           1484972,
           1482686
          ],
          "sizemode": "area",
          "sizeref": 30084.47
         },
         "mode": "markers",
         "name": "",
         "showlegend": false,
         "subplot": "mapbox",
         "type": "scattermapbox"
        }
       ],
       "layout": {
        "coloraxis": {
         "colorbar": {
          "title": {
           "text": "dislikes"
          }
         },
         "colorscale": [
          [
           0,
           "rgb(3, 5, 18)"
          ],
          [
           0.09090909090909091,
           "rgb(25, 25, 51)"
          ],
          [
           0.18181818181818182,
           "rgb(44, 42, 87)"
          ],
          [
           0.2727272727272727,
           "rgb(58, 60, 125)"
          ],
          [
           0.36363636363636365,
           "rgb(62, 83, 160)"
          ],
          [
           0.45454545454545453,
           "rgb(62, 109, 178)"
          ],
          [
           0.5454545454545454,
           "rgb(72, 134, 187)"
          ],
          [
           0.6363636363636364,
           "rgb(89, 159, 196)"
          ],
          [
           0.7272727272727273,
           "rgb(114, 184, 205)"
          ],
          [
           0.8181818181818182,
           "rgb(149, 207, 216)"
          ],
          [
           0.9090909090909091,
           "rgb(192, 229, 232)"
          ],
          [
           1,
           "rgb(234, 252, 253)"
          ]
         ]
        },
        "legend": {
         "itemsizing": "constant",
         "tracegroupgap": 0
        },
        "mapbox": {
         "center": {
          "lat": 22.6542341200303,
          "lon": 82.20022462151516
         },
         "domain": {
          "x": [
           0,
           1
          ],
          "y": [
           0,
           1
          ]
         },
         "style": "open-street-map",
         "zoom": 3
        },
        "template": {
         "data": {
          "bar": [
           {
            "error_x": {
             "color": "#2a3f5f"
            },
            "error_y": {
             "color": "#2a3f5f"
            },
            "marker": {
             "line": {
              "color": "#E5ECF6",
              "width": 0.5
             },
             "pattern": {
              "fillmode": "overlay",
              "size": 10,
              "solidity": 0.2
             }
            },
            "type": "bar"
           }
          ],
          "barpolar": [
           {
            "marker": {
             "line": {
              "color": "#E5ECF6",
              "width": 0.5
             },
             "pattern": {
              "fillmode": "overlay",
              "size": 10,
              "solidity": 0.2
             }
            },
            "type": "barpolar"
           }
          ],
          "carpet": [
           {
            "aaxis": {
             "endlinecolor": "#2a3f5f",
             "gridcolor": "white",
             "linecolor": "white",
             "minorgridcolor": "white",
             "startlinecolor": "#2a3f5f"
            },
            "baxis": {
             "endlinecolor": "#2a3f5f",
             "gridcolor": "white",
             "linecolor": "white",
             "minorgridcolor": "white",
             "startlinecolor": "#2a3f5f"
            },
            "type": "carpet"
           }
          ],
          "choropleth": [
           {
            "colorbar": {
             "outlinewidth": 0,
             "ticks": ""
            },
            "type": "choropleth"
           }
          ],
          "contour": [
           {
            "colorbar": {
             "outlinewidth": 0,
             "ticks": ""
            },
            "colorscale": [
             [
              0,
              "#0d0887"
             ],
             [
              0.1111111111111111,
              "#46039f"
             ],
             [
              0.2222222222222222,
              "#7201a8"
             ],
             [
              0.3333333333333333,
              "#9c179e"
             ],
             [
              0.4444444444444444,
              "#bd3786"
             ],
             [
              0.5555555555555556,
              "#d8576b"
             ],
             [
              0.6666666666666666,
              "#ed7953"
             ],
             [
              0.7777777777777778,
              "#fb9f3a"
             ],
             [
              0.8888888888888888,
              "#fdca26"
             ],
             [
              1,
              "#f0f921"
             ]
            ],
            "type": "contour"
           }
          ],
          "contourcarpet": [
           {
            "colorbar": {
             "outlinewidth": 0,
             "ticks": ""
            },
            "type": "contourcarpet"
           }
          ],
          "heatmap": [
           {
            "colorbar": {
             "outlinewidth": 0,
             "ticks": ""
            },
            "colorscale": [
             [
              0,
              "#0d0887"
             ],
             [
              0.1111111111111111,
              "#46039f"
             ],
             [
              0.2222222222222222,
              "#7201a8"
             ],
             [
              0.3333333333333333,
              "#9c179e"
             ],
             [
              0.4444444444444444,
              "#bd3786"
             ],
             [
              0.5555555555555556,
              "#d8576b"
             ],
             [
              0.6666666666666666,
              "#ed7953"
             ],
             [
              0.7777777777777778,
              "#fb9f3a"
             ],
             [
              0.8888888888888888,
              "#fdca26"
             ],
             [
              1,
              "#f0f921"
             ]
            ],
            "type": "heatmap"
           }
          ],
          "heatmapgl": [
           {
            "colorbar": {
             "outlinewidth": 0,
             "ticks": ""
            },
            "colorscale": [
             [
              0,
              "#0d0887"
             ],
             [
              0.1111111111111111,
              "#46039f"
             ],
             [
              0.2222222222222222,
              "#7201a8"
             ],
             [
              0.3333333333333333,
              "#9c179e"
             ],
             [
              0.4444444444444444,
              "#bd3786"
             ],
             [
              0.5555555555555556,
              "#d8576b"
             ],
             [
              0.6666666666666666,
              "#ed7953"
             ],
             [
              0.7777777777777778,
              "#fb9f3a"
             ],
             [
              0.8888888888888888,
              "#fdca26"
             ],
             [
              1,
              "#f0f921"
             ]
            ],
            "type": "heatmapgl"
           }
          ],
          "histogram": [
           {
            "marker": {
             "pattern": {
              "fillmode": "overlay",
              "size": 10,
              "solidity": 0.2
             }
            },
            "type": "histogram"
           }
          ],
          "histogram2d": [
           {
            "colorbar": {
             "outlinewidth": 0,
             "ticks": ""
            },
            "colorscale": [
             [
              0,
              "#0d0887"
             ],
             [
              0.1111111111111111,
              "#46039f"
             ],
             [
              0.2222222222222222,
              "#7201a8"
             ],
             [
              0.3333333333333333,
              "#9c179e"
             ],
             [
              0.4444444444444444,
              "#bd3786"
             ],
             [
              0.5555555555555556,
              "#d8576b"
             ],
             [
              0.6666666666666666,
              "#ed7953"
             ],
             [
              0.7777777777777778,
              "#fb9f3a"
             ],
             [
              0.8888888888888888,
              "#fdca26"
             ],
             [
              1,
              "#f0f921"
             ]
            ],
            "type": "histogram2d"
           }
          ],
          "histogram2dcontour": [
           {
            "colorbar": {
             "outlinewidth": 0,
             "ticks": ""
            },
            "colorscale": [
             [
              0,
              "#0d0887"
             ],
             [
              0.1111111111111111,
              "#46039f"
             ],
             [
              0.2222222222222222,
              "#7201a8"
             ],
             [
              0.3333333333333333,
              "#9c179e"
             ],
             [
              0.4444444444444444,
              "#bd3786"
             ],
             [
              0.5555555555555556,
              "#d8576b"
             ],
             [
              0.6666666666666666,
              "#ed7953"
             ],
             [
              0.7777777777777778,
              "#fb9f3a"
             ],
             [
              0.8888888888888888,
              "#fdca26"
             ],
             [
              1,
              "#f0f921"
             ]
            ],
            "type": "histogram2dcontour"
           }
          ],
          "mesh3d": [
           {
            "colorbar": {
             "outlinewidth": 0,
             "ticks": ""
            },
            "type": "mesh3d"
           }
          ],
          "parcoords": [
           {
            "line": {
             "colorbar": {
              "outlinewidth": 0,
              "ticks": ""
             }
            },
            "type": "parcoords"
           }
          ],
          "pie": [
           {
            "automargin": true,
            "type": "pie"
           }
          ],
          "scatter": [
           {
            "marker": {
             "colorbar": {
              "outlinewidth": 0,
              "ticks": ""
             }
            },
            "type": "scatter"
           }
          ],
          "scatter3d": [
           {
            "line": {
             "colorbar": {
              "outlinewidth": 0,
              "ticks": ""
             }
            },
            "marker": {
             "colorbar": {
              "outlinewidth": 0,
              "ticks": ""
             }
            },
            "type": "scatter3d"
           }
          ],
          "scattercarpet": [
           {
            "marker": {
             "colorbar": {
              "outlinewidth": 0,
              "ticks": ""
             }
            },
            "type": "scattercarpet"
           }
          ],
          "scattergeo": [
           {
            "marker": {
             "colorbar": {
              "outlinewidth": 0,
              "ticks": ""
             }
            },
            "type": "scattergeo"
           }
          ],
          "scattergl": [
           {
            "marker": {
             "colorbar": {
              "outlinewidth": 0,
              "ticks": ""
             }
            },
            "type": "scattergl"
           }
          ],
          "scattermapbox": [
           {
            "marker": {
             "colorbar": {
              "outlinewidth": 0,
              "ticks": ""
             }
            },
            "type": "scattermapbox"
           }
          ],
          "scatterpolar": [
           {
            "marker": {
             "colorbar": {
              "outlinewidth": 0,
              "ticks": ""
             }
            },
            "type": "scatterpolar"
           }
          ],
          "scatterpolargl": [
           {
            "marker": {
             "colorbar": {
              "outlinewidth": 0,
              "ticks": ""
             }
            },
            "type": "scatterpolargl"
           }
          ],
          "scatterternary": [
           {
            "marker": {
             "colorbar": {
              "outlinewidth": 0,
              "ticks": ""
             }
            },
            "type": "scatterternary"
           }
          ],
          "surface": [
           {
            "colorbar": {
             "outlinewidth": 0,
             "ticks": ""
            },
            "colorscale": [
             [
              0,
              "#0d0887"
             ],
             [
              0.1111111111111111,
              "#46039f"
             ],
             [
              0.2222222222222222,
              "#7201a8"
             ],
             [
              0.3333333333333333,
              "#9c179e"
             ],
             [
              0.4444444444444444,
              "#bd3786"
             ],
             [
              0.5555555555555556,
              "#d8576b"
             ],
             [
              0.6666666666666666,
              "#ed7953"
             ],
             [
              0.7777777777777778,
              "#fb9f3a"
             ],
             [
              0.8888888888888888,
              "#fdca26"
             ],
             [
              1,
              "#f0f921"
             ]
            ],
            "type": "surface"
           }
          ],
          "table": [
           {
            "cells": {
             "fill": {
              "color": "#EBF0F8"
             },
             "line": {
              "color": "white"
             }
            },
            "header": {
             "fill": {
              "color": "#C8D4E3"
             },
             "line": {
              "color": "white"
             }
            },
            "type": "table"
           }
          ]
         },
         "layout": {
          "annotationdefaults": {
           "arrowcolor": "#2a3f5f",
           "arrowhead": 0,
           "arrowwidth": 1
          },
          "autotypenumbers": "strict",
          "coloraxis": {
           "colorbar": {
            "outlinewidth": 0,
            "ticks": ""
           }
          },
          "colorscale": {
           "diverging": [
            [
             0,
             "#8e0152"
            ],
            [
             0.1,
             "#c51b7d"
            ],
            [
             0.2,
             "#de77ae"
            ],
            [
             0.3,
             "#f1b6da"
            ],
            [
             0.4,
             "#fde0ef"
            ],
            [
             0.5,
             "#f7f7f7"
            ],
            [
             0.6,
             "#e6f5d0"
            ],
            [
             0.7,
             "#b8e186"
            ],
            [
             0.8,
             "#7fbc41"
            ],
            [
             0.9,
             "#4d9221"
            ],
            [
             1,
             "#276419"
            ]
           ],
           "sequential": [
            [
             0,
             "#0d0887"
            ],
            [
             0.1111111111111111,
             "#46039f"
            ],
            [
             0.2222222222222222,
             "#7201a8"
            ],
            [
             0.3333333333333333,
             "#9c179e"
            ],
            [
             0.4444444444444444,
             "#bd3786"
            ],
            [
             0.5555555555555556,
             "#d8576b"
            ],
            [
             0.6666666666666666,
             "#ed7953"
            ],
            [
             0.7777777777777778,
             "#fb9f3a"
            ],
            [
             0.8888888888888888,
             "#fdca26"
            ],
            [
             1,
             "#f0f921"
            ]
           ],
           "sequentialminus": [
            [
             0,
             "#0d0887"
            ],
            [
             0.1111111111111111,
             "#46039f"
            ],
            [
             0.2222222222222222,
             "#7201a8"
            ],
            [
             0.3333333333333333,
             "#9c179e"
            ],
            [
             0.4444444444444444,
             "#bd3786"
            ],
            [
             0.5555555555555556,
             "#d8576b"
            ],
            [
             0.6666666666666666,
             "#ed7953"
            ],
            [
             0.7777777777777778,
             "#fb9f3a"
            ],
            [
             0.8888888888888888,
             "#fdca26"
            ],
            [
             1,
             "#f0f921"
            ]
           ]
          },
          "colorway": [
           "#636efa",
           "#EF553B",
           "#00cc96",
           "#ab63fa",
           "#FFA15A",
           "#19d3f3",
           "#FF6692",
           "#B6E880",
           "#FF97FF",
           "#FECB52"
          ],
          "font": {
           "color": "#2a3f5f"
          },
          "geo": {
           "bgcolor": "white",
           "lakecolor": "white",
           "landcolor": "#E5ECF6",
           "showlakes": true,
           "showland": true,
           "subunitcolor": "white"
          },
          "hoverlabel": {
           "align": "left"
          },
          "hovermode": "closest",
          "mapbox": {
           "style": "light"
          },
          "paper_bgcolor": "white",
          "plot_bgcolor": "#E5ECF6",
          "polar": {
           "angularaxis": {
            "gridcolor": "white",
            "linecolor": "white",
            "ticks": ""
           },
           "bgcolor": "#E5ECF6",
           "radialaxis": {
            "gridcolor": "white",
            "linecolor": "white",
            "ticks": ""
           }
          },
          "scene": {
           "xaxis": {
            "backgroundcolor": "#E5ECF6",
            "gridcolor": "white",
            "gridwidth": 2,
            "linecolor": "white",
            "showbackground": true,
            "ticks": "",
            "zerolinecolor": "white"
           },
           "yaxis": {
            "backgroundcolor": "#E5ECF6",
            "gridcolor": "white",
            "gridwidth": 2,
            "linecolor": "white",
            "showbackground": true,
            "ticks": "",
            "zerolinecolor": "white"
           },
           "zaxis": {
            "backgroundcolor": "#E5ECF6",
            "gridcolor": "white",
            "gridwidth": 2,
            "linecolor": "white",
            "showbackground": true,
            "ticks": "",
            "zerolinecolor": "white"
           }
          },
          "shapedefaults": {
           "line": {
            "color": "#2a3f5f"
           }
          },
          "ternary": {
           "aaxis": {
            "gridcolor": "white",
            "linecolor": "white",
            "ticks": ""
           },
           "baxis": {
            "gridcolor": "white",
            "linecolor": "white",
            "ticks": ""
           },
           "bgcolor": "#E5ECF6",
           "caxis": {
            "gridcolor": "white",
            "linecolor": "white",
            "ticks": ""
           }
          },
          "title": {
           "x": 0.05
          },
          "xaxis": {
           "automargin": true,
           "gridcolor": "white",
           "linecolor": "white",
           "ticks": "",
           "title": {
            "standoff": 15
           },
           "zerolinecolor": "white",
           "zerolinewidth": 2
          },
          "yaxis": {
           "automargin": true,
           "gridcolor": "white",
           "linecolor": "white",
           "ticks": "",
           "title": {
            "standoff": 15
           },
           "zerolinecolor": "white",
           "zerolinewidth": 2
          }
         }
        },
        "title": {
         "text": "No me gusta por distritos de India "
        }
       }
      }
     },
     "metadata": {},
     "output_type": "display_data"
    }
   ],
   "source": [
    "map = px.scatter_mapbox(\n",
    "    estados, \n",
    "    title='No me gusta por distritos de India ',\n",
    "    color='dislikes',\n",
    "    color_continuous_scale='ice',\n",
    "    lat='lat',\n",
    "    lon='lon',\n",
    "    zoom=3,\n",
    "    hover_name='state',\n",
    "    size=\"dislikes\",\n",
    "    size_max=10,\n",
    "    mapbox_style='open-street-map',\n",
    ")\n",
    "map.show()"
   ]
  },
  {
   "cell_type": "markdown",
   "metadata": {},
   "source": [
    "### ¿Es factible predecir el número de “Vistas” o “Me gusta” o “No me gusta”?"
   ]
  },
  {
   "cell_type": "code",
   "execution_count": null,
   "metadata": {},
   "outputs": [],
   "source": []
  },
  {
   "cell_type": "markdown",
   "metadata": {},
   "source": [
    "### ¿Los videos en tendencia son los que mayor cantidad de comentarios positivos reciben?"
   ]
  },
  {
   "cell_type": "code",
   "execution_count": null,
   "metadata": {},
   "outputs": [],
   "source": []
  },
  {
   "cell_type": "markdown",
   "metadata": {},
   "source": [
    "##  Visualizar los Datos"
   ]
  },
  {
   "cell_type": "code",
   "execution_count": null,
   "metadata": {},
   "outputs": [],
   "source": [
    "\n",
    "\n"
   ]
  }
 ],
 "metadata": {
  "kernelspec": {
   "display_name": "Python 3.9.12 ('base')",
   "language": "python",
   "name": "python3"
  },
  "language_info": {
   "codemirror_mode": {
    "name": "ipython",
    "version": 3
   },
   "file_extension": ".py",
   "mimetype": "text/x-python",
   "name": "python",
   "nbconvert_exporter": "python",
   "pygments_lexer": "ipython3",
   "version": "3.9.12"
  },
  "orig_nbformat": 4,
  "vscode": {
   "interpreter": {
    "hash": "8e7af5626c7e654314ce176c299bd4d61dd6a36e86a9674195997ac339225326"
   }
  }
 },
 "nbformat": 4,
 "nbformat_minor": 2
}
